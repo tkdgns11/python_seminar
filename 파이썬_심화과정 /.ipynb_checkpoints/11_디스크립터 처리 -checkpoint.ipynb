{
 "cells": [
  {
   "cell_type": "code",
   "execution_count": 1,
   "id": "48a64ba7",
   "metadata": {},
   "outputs": [
    {
     "data": {
      "text/plain": [
       "'3.9.16'"
      ]
     },
     "execution_count": 1,
     "metadata": {},
     "output_type": "execute_result"
    }
   ],
   "source": [
    "import platform\n",
    "\n",
    "platform.python_version()"
   ]
  },
  {
   "cell_type": "code",
   "execution_count": null,
   "id": "7e5620d2",
   "metadata": {},
   "outputs": [],
   "source": []
  },
  {
   "cell_type": "markdown",
   "id": "ae5d9493",
   "metadata": {},
   "source": [
    "## 1. 프로퍼티 이해하기 \n",
    "\n",
    "- 파이썬 프로퍼티(Property)는 클래스의 속성에 대한 접근을 제어하고, 속성 값을 가져오거나 설정할 때 추가적인 동작을 수행할 수 있도록 도와주는 데코레이터입니다. \n",
    "- 프로퍼티는 기존의 속성 접근 방식을 유지하면서도 값을 가져오거나 설정할 때 추가적인 로직을 실행할 수 있게 해줍니다"
   ]
  },
  {
   "cell_type": "markdown",
   "id": "14869cbc",
   "metadata": {},
   "source": [
    "## 1-1  프로퍼티 클래스 "
   ]
  },
  {
   "cell_type": "code",
   "execution_count": 2,
   "id": "5729b047",
   "metadata": {},
   "outputs": [
    {
     "data": {
      "text/plain": [
       "type"
      ]
     },
     "execution_count": 2,
     "metadata": {},
     "output_type": "execute_result"
    }
   ],
   "source": [
    "property.__class__"
   ]
  },
  {
   "cell_type": "code",
   "execution_count": 3,
   "id": "4de15907",
   "metadata": {},
   "outputs": [
    {
     "name": "stdout",
     "output_type": "stream",
     "text": [
      "__class__, __delattr__, __delete__, __dir__, __doc__, __eq__, __format__, __ge__, __get__, __getattribute__, __gt__, __hash__, __init__, __init_subclass__, __isabstractmethod__, __le__, __lt__, __ne__, __new__, __reduce__, __reduce_ex__, __repr__, __set__, __setattr__, __sizeof__, __str__, __subclasshook__, deleter, fdel, fget, fset, getter, setter, "
     ]
    }
   ],
   "source": [
    "for i in dir(property) :\n",
    "    print(i, end=\", \")"
   ]
  },
  {
   "cell_type": "code",
   "execution_count": null,
   "id": "a0198c1a",
   "metadata": {},
   "outputs": [],
   "source": []
  },
  {
   "cell_type": "markdown",
   "id": "6b62c22d",
   "metadata": {},
   "source": [
    "## 1-2  프로퍼티 클래스 활용 \n",
    "\n",
    "- 특정 속성을 이름으로 접근하고 갱신처리한다 \n",
    "- 프로퍼티 클래스로 조회와 갱신 메서드를 데코레이터 처리해서 게터와 세터에 해당하는 처리"
   ]
  },
  {
   "cell_type": "code",
   "execution_count": 4,
   "id": "2715a331",
   "metadata": {},
   "outputs": [],
   "source": [
    "class Klass :\n",
    "    def __init__(self, name) :\n",
    "        self._name = name\n",
    "        \n",
    "    @property    \n",
    "    def Name(self) :\n",
    "        return self._name\n",
    "    \n",
    "    @Name.setter\n",
    "    def Name(self, value) :\n",
    "        self._name = value"
   ]
  },
  {
   "cell_type": "code",
   "execution_count": 5,
   "id": "ce66c826",
   "metadata": {},
   "outputs": [],
   "source": [
    "k = Klass(\"이름\")"
   ]
  },
  {
   "cell_type": "code",
   "execution_count": 6,
   "id": "a5da9636",
   "metadata": {},
   "outputs": [
    {
     "data": {
      "text/plain": [
       "{'_name': '이름'}"
      ]
     },
     "execution_count": 6,
     "metadata": {},
     "output_type": "execute_result"
    }
   ],
   "source": [
    "k.__dict__"
   ]
  },
  {
   "cell_type": "code",
   "execution_count": 7,
   "id": "f1bb5d5e",
   "metadata": {},
   "outputs": [],
   "source": [
    "k.Name, k._name"
   ]
  },
  {
   "cell_type": "markdown",
   "id": "e1d336c8",
   "metadata": {},
   "source": [
    "### 점연산자 대신 내장함수 사용하기"
   ]
  },
  {
   "cell_type": "code",
   "execution_count": null,
   "id": "a3b89d4f",
   "metadata": {},
   "outputs": [
    {
     "data": {
      "text/plain": [
       "'이름'"
      ]
     },
     "execution_count": 8,
     "metadata": {},
     "output_type": "execute_result"
    }
   ],
   "source": [
    "getattr(k,'_name')"
   ]
  },
  {
   "cell_type": "code",
   "execution_count": 9,
   "id": "be39826a",
   "metadata": {},
   "outputs": [],
   "source": [
    "setattr(k,'_name', \"농협\")"
   ]
  },
  {
   "cell_type": "code",
   "execution_count": 10,
   "id": "97d11dae",
   "metadata": {},
   "outputs": [
    {
     "data": {
      "text/plain": [
       "{'_name': '농협'}"
      ]
     },
     "execution_count": 10,
     "metadata": {},
     "output_type": "execute_result"
    }
   ],
   "source": [
    "k.__dict__"
   ]
  },
  {
   "cell_type": "code",
   "execution_count": null,
   "id": "15c1d26f",
   "metadata": {},
   "outputs": [],
   "source": []
  },
  {
   "cell_type": "markdown",
   "id": "ebf34205",
   "metadata": {},
   "source": [
    "## 특정값을 조회 및 갱신 처리 "
   ]
  },
  {
   "cell_type": "code",
   "execution_count": 11,
   "id": "202c9ddc",
   "metadata": {},
   "outputs": [],
   "source": [
    "class Person:\n",
    "    def __init__(self, name):\n",
    "        self._name = name\n",
    "\n",
    "    @property\n",
    "    def name(self):\n",
    "        return self._name\n",
    "\n",
    "    @name.setter\n",
    "    def name(self, value):\n",
    "        self._name = value\n"
   ]
  },
  {
   "cell_type": "code",
   "execution_count": 12,
   "id": "d31480dd",
   "metadata": {},
   "outputs": [
    {
     "name": "stdout",
     "output_type": "stream",
     "text": [
      "Alice\n",
      "Bob\n"
     ]
    }
   ],
   "source": [
    "# 사용 예시\n",
    "person = Person(\"Alice\")\n",
    "print(person.name)  # 출력: Alice\n",
    "\n",
    "person.name = \"Bob\"\n",
    "print(person.name)  # 출력: Bob"
   ]
  },
  {
   "cell_type": "code",
   "execution_count": null,
   "id": "36e9ac57",
   "metadata": {},
   "outputs": [],
   "source": []
  },
  {
   "cell_type": "markdown",
   "id": "b565adb8",
   "metadata": {},
   "source": [
    "## 1-3  특정값만 조회하는 property "
   ]
  },
  {
   "cell_type": "code",
   "execution_count": null,
   "id": "e3ad63e4",
   "metadata": {},
   "outputs": [],
   "source": []
  },
  {
   "cell_type": "code",
   "execution_count": 13,
   "id": "f468436d",
   "metadata": {},
   "outputs": [],
   "source": [
    "class Colour:\n",
    "    def __init__(self, hex_string):\n",
    "        self.hex = hex_string\n",
    "\n",
    "    @property\n",
    "    def r(self):\n",
    "        return int(self.hex[1:3], 16)\n",
    "\n",
    "    @property\n",
    "    def g(self):\n",
    "        return int(self.hex[3:5], 16)\n",
    "\n",
    "    @property\n",
    "    def b(self):\n",
    "        return int(self.hex[5:7], 16)"
   ]
  },
  {
   "cell_type": "code",
   "execution_count": 14,
   "id": "4d340db3",
   "metadata": {},
   "outputs": [],
   "source": [
    "red = Colour(\"#ff0000\")"
   ]
  },
  {
   "cell_type": "code",
   "execution_count": 15,
   "id": "124fa6be",
   "metadata": {},
   "outputs": [
    {
     "data": {
      "text/plain": [
       "(255, 0, 0)"
      ]
     },
     "execution_count": 15,
     "metadata": {},
     "output_type": "execute_result"
    }
   ],
   "source": [
    "red.r, red.g, red.b"
   ]
  },
  {
   "cell_type": "code",
   "execution_count": null,
   "id": "dcf962ce",
   "metadata": {},
   "outputs": [],
   "source": []
  },
  {
   "cell_type": "code",
   "execution_count": null,
   "id": "be16c593",
   "metadata": {},
   "outputs": [],
   "source": [
    "## "
   ]
  },
  {
   "cell_type": "code",
   "execution_count": null,
   "id": "98a05db2",
   "metadata": {},
   "outputs": [],
   "source": []
  },
  {
   "cell_type": "markdown",
   "id": "f664dced",
   "metadata": {},
   "source": [
    "## 2 함수도 디스크립터\n",
    "\n",
    "### 파이썬에서 함수 또한 디스크립터로 동작합니다. \n",
    "\n",
    "- 함수를 디스크립터로 사용하면 함수에 접근할 때 해당 함수가 호출되는 것을 말합니다. \n",
    "- 이렇게 함수를 디스크립터로 사용하는 경우, 클래스의 메서드처럼 동작하면서도 추가적인 로직을 수행할 수 있게 됩니다.\n",
    "\n",
    "- 함수를 디스크립터로 사용하는 방법은 property와 유사합니다. \n",
    "- property와 달리 함수를 디스크립터로 사용하려면 `__get__`메서드만 구현하면 됩니다. \n",
    "- `__get__` 메서드는 함수가 호출될 때 어떤 동작을 할지를 정의합니다."
   ]
  },
  {
   "cell_type": "markdown",
   "id": "00419a39",
   "metadata": {},
   "source": [
    "## 2-1 함수 내부 확인 "
   ]
  },
  {
   "cell_type": "code",
   "execution_count": 6,
   "id": "b639dca0",
   "metadata": {},
   "outputs": [],
   "source": [
    "def add(x,y) :\n",
    "    return x+y"
   ]
  },
  {
   "cell_type": "code",
   "execution_count": 7,
   "id": "dac51bae",
   "metadata": {},
   "outputs": [
    {
     "name": "stdout",
     "output_type": "stream",
     "text": [
      "__annotations__, __builtins__, __call__, __class__, __closure__, __code__, __defaults__, __delattr__, __dict__, __dir__, __doc__, __eq__, __format__, __ge__, __get__, __getattribute__, __getstate__, __globals__, __gt__, __hash__, __init__, __init_subclass__, __kwdefaults__, __le__, __lt__, __module__, __name__, __ne__, __new__, __qualname__, __reduce__, __reduce_ex__, __repr__, __setattr__, __sizeof__, __str__, __subclasshook__, "
     ]
    }
   ],
   "source": [
    "for i in dir(add) :\n",
    "    print(i, end=\", \")"
   ]
  },
  {
   "cell_type": "code",
   "execution_count": 13,
   "id": "a6bd7e38",
   "metadata": {},
   "outputs": [
    {
     "data": {
      "text/plain": [
       "<function __main__.add(x, y)>"
      ]
     },
     "execution_count": 13,
     "metadata": {},
     "output_type": "execute_result"
    }
   ],
   "source": [
    "add"
   ]
  },
  {
   "cell_type": "code",
   "execution_count": 15,
   "id": "925dc366",
   "metadata": {},
   "outputs": [
    {
     "data": {
      "text/plain": [
       "500"
      ]
     },
     "execution_count": 15,
     "metadata": {},
     "output_type": "execute_result"
    }
   ],
   "source": [
    "add.__call__(200,300)"
   ]
  },
  {
   "cell_type": "code",
   "execution_count": 8,
   "id": "58c21a4d",
   "metadata": {},
   "outputs": [
    {
     "data": {
      "text/plain": [
       "<method-wrapper '__get__' of function object at 0x1117228e0>"
      ]
     },
     "execution_count": 8,
     "metadata": {},
     "output_type": "execute_result"
    }
   ],
   "source": [
    "add.__get__"
   ]
  },
  {
   "cell_type": "code",
   "execution_count": 9,
   "id": "0d2cc16d",
   "metadata": {},
   "outputs": [],
   "source": [
    "iii = add.__get__(100)"
   ]
  },
  {
   "cell_type": "code",
   "execution_count": 10,
   "id": "352b89ee",
   "metadata": {},
   "outputs": [
    {
     "data": {
      "text/plain": [
       "<bound method add of 100>"
      ]
     },
     "execution_count": 10,
     "metadata": {},
     "output_type": "execute_result"
    }
   ],
   "source": [
    "iii"
   ]
  },
  {
   "cell_type": "code",
   "execution_count": 12,
   "id": "126c80c1",
   "metadata": {},
   "outputs": [
    {
     "data": {
      "text/plain": [
       "300"
      ]
     },
     "execution_count": 12,
     "metadata": {},
     "output_type": "execute_result"
    }
   ],
   "source": [
    "iii(200)"
   ]
  },
  {
   "cell_type": "code",
   "execution_count": 16,
   "id": "bdc6e9da",
   "metadata": {},
   "outputs": [
    {
     "data": {
      "text/plain": [
       "<function __main__.add(x, y)>"
      ]
     },
     "execution_count": 16,
     "metadata": {},
     "output_type": "execute_result"
    }
   ],
   "source": [
    "iii.__func__"
   ]
  },
  {
   "cell_type": "code",
   "execution_count": 11,
   "id": "db403730",
   "metadata": {},
   "outputs": [
    {
     "data": {
      "text/plain": [
       "300"
      ]
     },
     "execution_count": 11,
     "metadata": {},
     "output_type": "execute_result"
    }
   ],
   "source": [
    "iii.__func__(100,200)"
   ]
  },
  {
   "cell_type": "markdown",
   "id": "45915b8f",
   "metadata": {},
   "source": [
    "## 2-2 내부에 람다함수를 사용해서 처리하기 \n",
    "\n",
    "- `__get__`  메서드에 내부에 특정 람다함수를 반환해서 처리\n",
    "- `__init__` 메서드에 디스크립터 객체의 값에 특정 값을 저장 "
   ]
  },
  {
   "cell_type": "code",
   "execution_count": 21,
   "id": "38db2710",
   "metadata": {},
   "outputs": [],
   "source": [
    "class Greeting:\n",
    "    def __init__(self, greeting_text):\n",
    "        self.greeting_text = greeting_text\n",
    "\n",
    "    def greet(self, name):\n",
    "        return f\"{self.greeting_text}, {name}!\"\n",
    "\n",
    "    def __get__(self, instance, owner):\n",
    "        # instance는 클래스의 인스턴스, owner는 클래스 자체를 가리킴\n",
    "        return lambda name: self.greet(name)\n",
    "\n"
   ]
  },
  {
   "cell_type": "code",
   "execution_count": 22,
   "id": "b35aa737",
   "metadata": {},
   "outputs": [],
   "source": [
    "class MyClass:\n",
    "    hello = Greeting(\"Hello\")\n",
    "    goodbye = Greeting(\"Goodbye\")"
   ]
  },
  {
   "cell_type": "code",
   "execution_count": 23,
   "id": "76f912b2",
   "metadata": {},
   "outputs": [
    {
     "name": "stdout",
     "output_type": "stream",
     "text": [
      "Hello, Alice!\n",
      "Goodbye, Bob!\n"
     ]
    }
   ],
   "source": [
    "# 사용 예시\n",
    "obj = MyClass()\n",
    "print(obj.hello(\"Alice\"))   # 출력: Hello, Alice!\n",
    "print(obj.goodbye(\"Bob\"))   # 출력: Goodbye, Bob!"
   ]
  },
  {
   "cell_type": "code",
   "execution_count": null,
   "id": "c19b2554",
   "metadata": {},
   "outputs": [],
   "source": []
  },
  {
   "cell_type": "markdown",
   "id": "7042799a",
   "metadata": {},
   "source": [
    "## 3. 파이썬 디스크립터 프로토콜\n",
    "\n",
    "- 클래스의 속성(attribute) 접근을 제어하고 커스텀 동작을 정의하기 위한 프로토콜입니다. \n",
    "- 디스크립터는 `__get__`, `__set__`,` __delete__`, `__set_name__` 메서드를 구현하는 클래스로, \n",
    "- 이러한 메서드를 갖는 클래스를 디스크립터 클래스라고 합니다.\n",
    "\n",
    "## 디스크립터 프로토콜의 세 가지 메서드:\n",
    "\n",
    "### ` __get__`(self, instance, owner): \n",
    "- 속성에 접근할 때 호출되는 메서드입니다. \n",
    "- self는 디스크립터 인스턴스 자체를 가리키고, instance는 속성이 접근되는 객체를 가리킵니다. \n",
    "- owner는 속성이 속한 클래스를 가리킵니다. \n",
    "- 이 메서드를 구현하면 객체의 속성에 접근할 때 디스크립터의 동작을 정의할 수 있습니다.\n",
    "\n",
    "### `__set__`(self, instance, value): \n",
    "- 속성에 값을 할당할 때 호출되는 메서드입니다. \n",
    "- self는 디스크립터 인스턴스 자체를 가리키고, instance는 속성이 속한 객체를 가리킵니다. \n",
    "- value는 할당되는 값입니다. \n",
    "- 이 메서드를 구현하면 객체의 속성에 값을 할당할 때 디스크립터의 동작을 정의할 수 있습니다.\n",
    "\n",
    "### `__delete__`(self, instance): \n",
    "- 속성을 삭제할 때 호출되는 메서드입니다. \n",
    "- self는 디스크립터 인스턴스 자체를 가리키고, instance는 속성이 속한 객체를 가리킵니다.\n",
    "- 이 메서드를 구현하면 객체의 속성을 삭제할 때 디스크립터의 동작을 정의할 수 있습니다.\n",
    "\n",
    "###  `__set_name__`(self, owner,name) : \n",
    "- 파이썬 3.6 버전부터 추가된 디스크립터 프로토콜의 메서드입니다. \n",
    "- 이 메서드는 디스크립터를 클래스의 속성으로 할당할 때 호출되며, 속성의 이름과 속성이 속한 클래스에 대한 정보를 전달합니다.\n",
    "- owner: 디스크립터가 속한 클래스를 가리킵니다.\n",
    "- name: 디스크립터가 할당되는 속성의 이름을 가리킵니다.\n"
   ]
  },
  {
   "cell_type": "markdown",
   "id": "140666a6",
   "metadata": {},
   "source": [
    "## 3-1   디스크립터 클래스 정의해서 사용하기 "
   ]
  },
  {
   "cell_type": "markdown",
   "id": "94c10f41",
   "metadata": {},
   "source": [
    "## 3-1-1 생성자에 특정 정보를 처리하기 "
   ]
  },
  {
   "cell_type": "markdown",
   "id": "16843a62",
   "metadata": {},
   "source": [
    "## 디스크립터 클래스 정의 "
   ]
  },
  {
   "cell_type": "code",
   "execution_count": 24,
   "id": "bccc99b2",
   "metadata": {},
   "outputs": [],
   "source": [
    "class ColourComponent:\n",
    "    def __init__(self, start, end):\n",
    "        self.start = start\n",
    "        self.end = end\n",
    "\n",
    "    def __get__(self, obj, _):\n",
    "        return int(obj.hex[self.start : self.end], 16)\n"
   ]
  },
  {
   "cell_type": "markdown",
   "id": "7d7c1355",
   "metadata": {},
   "source": [
    "## 실제 클래스 정의 "
   ]
  },
  {
   "cell_type": "code",
   "execution_count": 25,
   "id": "c33badb7",
   "metadata": {},
   "outputs": [],
   "source": [
    "class Colour:\n",
    "    r = ColourComponent(1, 3)\n",
    "    g = ColourComponent(3, 5)\n",
    "    b = ColourComponent(5, 7)\n",
    "\n",
    "    def __init__(self, hex):\n",
    "        self.hex = hex"
   ]
  },
  {
   "cell_type": "code",
   "execution_count": 26,
   "id": "95dfd702",
   "metadata": {},
   "outputs": [],
   "source": [
    "red = Colour(\"#ff0000\")"
   ]
  },
  {
   "cell_type": "code",
   "execution_count": 27,
   "id": "01e8e53e",
   "metadata": {},
   "outputs": [
    {
     "data": {
      "text/plain": [
       "(255, 0, 0)"
      ]
     },
     "execution_count": 27,
     "metadata": {},
     "output_type": "execute_result"
    }
   ],
   "source": [
    "red.r, red.g, red.b"
   ]
  },
  {
   "cell_type": "markdown",
   "id": "ec56b635",
   "metadata": {},
   "source": [
    "## 내장함수를 사용해서 네임스페이스 조정하기 "
   ]
  },
  {
   "cell_type": "code",
   "execution_count": 17,
   "id": "05b2c9e7",
   "metadata": {},
   "outputs": [],
   "source": [
    "class Quantity :\n",
    "    __counter = 0\n",
    "    \n",
    "    def __init__(self) :\n",
    "        cls = self.__class__   ## 클래스 정보 전달\n",
    "        prefix = cls.__name__  ## 클래스 명 전달\n",
    "        index = cls.__counter\n",
    "        \n",
    "        self.storage_name = f\"_{prefix}#{index}\"   ## 객체에 저장될 속성\n",
    "        cls.__counter += 1 \n",
    "        \n",
    "    def __get__(self, instance, owner) :\n",
    "        return getattr(intance, self.storage_name)\n",
    "    \n",
    "    def __set__(self, instance, value) :\n",
    "        if value > 0 :\n",
    "            setattr(instance, self.storage_name, value)\n",
    "        else :\n",
    "            raise ValueError(\" 0 미만 값을 넣을 수 없습니다... \")"
   ]
  },
  {
   "cell_type": "code",
   "execution_count": 18,
   "id": "9fcdb9ce",
   "metadata": {},
   "outputs": [],
   "source": [
    "class LineItem :\n",
    "    weight = Quantity()\n",
    "    price = Quantity()\n",
    "    \n",
    "    def __init__(self, description, weight, price) :\n",
    "        self.description = description\n",
    "        self.weight = weight\n",
    "        self.price = price\n",
    "        \n",
    "    def subtotal(self) :\n",
    "        return self.weight + self.price"
   ]
  },
  {
   "cell_type": "code",
   "execution_count": null,
   "id": "764bdfb0",
   "metadata": {},
   "outputs": [],
   "source": []
  },
  {
   "cell_type": "code",
   "execution_count": 19,
   "id": "6f95e3cc",
   "metadata": {},
   "outputs": [],
   "source": [
    "line01 = LineItem(\"설명자료\", 100,200)"
   ]
  },
  {
   "cell_type": "code",
   "execution_count": 20,
   "id": "037a815a",
   "metadata": {},
   "outputs": [
    {
     "data": {
      "text/plain": [
       "{'description': '설명자료', '_Quantity#0': 100, '_Quantity#1': 200}"
      ]
     },
     "execution_count": 20,
     "metadata": {},
     "output_type": "execute_result"
    }
   ],
   "source": [
    "line01.__dict__"
   ]
  },
  {
   "cell_type": "markdown",
   "id": "6792e12f",
   "metadata": {},
   "source": [
    "## 3-1-2 속성명도 자동으로 처리하기 \n",
    "\n",
    "- `__set_name__` 메서드를 통해 속성을 가져와서 지정할 수 있음 "
   ]
  },
  {
   "cell_type": "code",
   "execution_count": 28,
   "id": "1d155c33",
   "metadata": {},
   "outputs": [],
   "source": [
    "class CustomDescriptor:\n",
    "    def __set_name__(self, owner, name):\n",
    "        self.name = \"_\" + name\n",
    "\n",
    "    def __get__(self, instance, owner):\n",
    "        return instance.__dict__[self.name]\n",
    "\n",
    "    def __set__(self, instance, value):\n",
    "        instance.__dict__[self.name] = value\n"
   ]
  },
  {
   "cell_type": "code",
   "execution_count": 29,
   "id": "4cea799d",
   "metadata": {},
   "outputs": [],
   "source": [
    "class MyClass:\n",
    "    attribute = CustomDescriptor()"
   ]
  },
  {
   "cell_type": "code",
   "execution_count": 30,
   "id": "202f091d",
   "metadata": {},
   "outputs": [
    {
     "name": "stdout",
     "output_type": "stream",
     "text": [
      "42\n"
     ]
    }
   ],
   "source": [
    "# 객체 생성\n",
    "obj = MyClass()\n",
    "\n",
    "# 디스크립터를 이용하여 속성 설정\n",
    "obj.attribute = 42\n",
    "\n",
    "# 디스크립터를 이용하여 속성 조회\n",
    "print(obj.attribute)  # 출력: 42"
   ]
  },
  {
   "cell_type": "code",
   "execution_count": 31,
   "id": "3e566d0f",
   "metadata": {},
   "outputs": [
    {
     "data": {
      "text/plain": [
       "{'_attribute': 42}"
      ]
     },
     "execution_count": 31,
     "metadata": {},
     "output_type": "execute_result"
    }
   ],
   "source": [
    "obj.__dict__"
   ]
  },
  {
   "cell_type": "markdown",
   "id": "ec61fc6a",
   "metadata": {},
   "source": [
    "## 4 데이터 디스크립터와 비 데이터 디스크립터 사용하기 "
   ]
  },
  {
   "cell_type": "markdown",
   "id": "1d22a686",
   "metadata": {},
   "source": [
    "## 4-1 데이터 디스크립터 (Data Descriptor):\n",
    "- 데이터 디스크립터는 __set__ 메서드를 구현하고 있어서 속성의 값을 설정할 수 있습니다. \n",
    "- 즉, 디스크립터가 클래스의 속성으로 할당되면, 해당 속성에 값을 할당할 때 디스크립터의 __set__ 메서드가 호출되는 것을 말합니다. \n",
    "- 데이터 디스크립터는 속성의 값을 제어하는데 사용될 수 있습니다."
   ]
  },
  {
   "cell_type": "code",
   "execution_count": 32,
   "id": "274c9c18",
   "metadata": {},
   "outputs": [],
   "source": [
    "class DataDescriptor:\n",
    "    def __set__(self, instance, value):\n",
    "        print(\"Setting value via data descriptor\")\n",
    "        instance._data = value"
   ]
  },
  {
   "cell_type": "code",
   "execution_count": null,
   "id": "b54b04ce",
   "metadata": {},
   "outputs": [],
   "source": []
  },
  {
   "cell_type": "code",
   "execution_count": 33,
   "id": "4d5e35ae",
   "metadata": {},
   "outputs": [],
   "source": [
    "class MyClass:\n",
    "    data_attr1 = DataDescriptor()\n",
    "    data_attr2 = DataDescriptor()"
   ]
  },
  {
   "cell_type": "code",
   "execution_count": 34,
   "id": "a9847f2f",
   "metadata": {},
   "outputs": [],
   "source": [
    "obj = MyClass()\n",
    "\n",
    "obj.data_attr = 42"
   ]
  },
  {
   "cell_type": "code",
   "execution_count": null,
   "id": "5f7790c3",
   "metadata": {},
   "outputs": [],
   "source": []
  },
  {
   "cell_type": "code",
   "execution_count": null,
   "id": "2c459335",
   "metadata": {},
   "outputs": [],
   "source": []
  },
  {
   "cell_type": "markdown",
   "id": "acbc4b3b",
   "metadata": {},
   "source": [
    "## 4-2 비데이터 디스크립터 (Non-Data Descriptor):\n",
    "- 비데이터 디스크립터는 __set__ 메서드를 구현하지 않아서 속성의 값을 설정할 수 없습니다. \n",
    "- 디스크립터가 클래스의 속성으로 할당되더라도, 해당 속성에 값을 할당할 때 디스크립터의 __set__ 메서드가 호출되지 않습니다. \n",
    "- 비데이터 디스크립터는 주로 속성의 값을 조회하거나 다른 계산에 사용될 때 유용하게 사용됩니다."
   ]
  },
  {
   "cell_type": "code",
   "execution_count": 35,
   "id": "f0cc8b58",
   "metadata": {},
   "outputs": [],
   "source": [
    "class NonDataDescriptor:\n",
    "    def __get__(self, instance, owner):\n",
    "        print(\"Getting value via non-data descriptor\")\n",
    "        return instance._data if hasattr(instance, \"_data\") else None\n",
    "    def __set__(self, instance, value):\n",
    "        print(\"Setting value via data descriptor\")\n",
    "        raise(\"오류....\")"
   ]
  },
  {
   "cell_type": "code",
   "execution_count": null,
   "id": "0db05a3c",
   "metadata": {},
   "outputs": [],
   "source": []
  },
  {
   "cell_type": "code",
   "execution_count": 36,
   "id": "32d2443d",
   "metadata": {},
   "outputs": [],
   "source": [
    "class MyClass2:\n",
    "    non_data_attr1 = NonDataDescriptor()\n",
    "    non_data_attr2 = NonDataDescriptor()\n"
   ]
  },
  {
   "cell_type": "code",
   "execution_count": 37,
   "id": "bf03249f",
   "metadata": {},
   "outputs": [
    {
     "name": "stdout",
     "output_type": "stream",
     "text": [
      "Setting value via data descriptor\n",
      "exceptions must derive from BaseException\n"
     ]
    }
   ],
   "source": [
    "obj2 = MyClass2()\n",
    "\n",
    "try :\n",
    "    obj2.non_data_attr1 = 42\n",
    "except Exception as e :\n",
    "    print(e)"
   ]
  },
  {
   "cell_type": "code",
   "execution_count": 38,
   "id": "356cf02a",
   "metadata": {},
   "outputs": [
    {
     "name": "stdout",
     "output_type": "stream",
     "text": [
      "Getting value via non-data descriptor\n",
      "None\n"
     ]
    }
   ],
   "source": [
    "print(obj2.non_data_attr1)"
   ]
  },
  {
   "cell_type": "code",
   "execution_count": null,
   "id": "0b96098c",
   "metadata": {},
   "outputs": [],
   "source": []
  },
  {
   "cell_type": "markdown",
   "id": "7abe826c",
   "metadata": {},
   "source": [
    "## 4-3 혼합해서 사용하기 "
   ]
  },
  {
   "cell_type": "code",
   "execution_count": 39,
   "id": "3ad423e2",
   "metadata": {},
   "outputs": [],
   "source": [
    "class MyClass3:\n",
    "    data_attr1 = DataDescriptor()\n",
    "    non_data_attr2 = NonDataDescriptor()"
   ]
  },
  {
   "cell_type": "code",
   "execution_count": 40,
   "id": "e50bdecf",
   "metadata": {},
   "outputs": [
    {
     "name": "stdout",
     "output_type": "stream",
     "text": [
      "Setting value via data descriptor\n",
      "<__main__.DataDescriptor object at 0x103c830a0>\n"
     ]
    }
   ],
   "source": [
    "obj3 = MyClass3()\n",
    "\n",
    "obj3.data_attr1 = 42\n",
    "# 출력: Setting value via data descriptor\n",
    "\n",
    "print(obj3.data_attr1)\n",
    "# 출력: Getting value via non-data descriptor\n",
    "# 출력: 42\n"
   ]
  },
  {
   "cell_type": "code",
   "execution_count": null,
   "id": "ceac62c3",
   "metadata": {},
   "outputs": [],
   "source": []
  },
  {
   "cell_type": "code",
   "execution_count": 41,
   "id": "44a1c14a",
   "metadata": {},
   "outputs": [
    {
     "name": "stdout",
     "output_type": "stream",
     "text": [
      "Setting value via data descriptor\n",
      "exceptions must derive from BaseException\n"
     ]
    }
   ],
   "source": [
    "try : \n",
    "    obj3.non_data_attr2 = 10\n",
    "    # TypeError: 'NonDataDescriptor' object is not callable\n",
    "except Exception as e :\n",
    "    print(e)"
   ]
  },
  {
   "cell_type": "code",
   "execution_count": null,
   "id": "e6fd020e",
   "metadata": {},
   "outputs": [],
   "source": []
  },
  {
   "cell_type": "code",
   "execution_count": null,
   "id": "240e8498",
   "metadata": {},
   "outputs": [],
   "source": []
  },
  {
   "cell_type": "markdown",
   "id": "69a062c2",
   "metadata": {},
   "source": [
    "## 5.  디스크립터를 사용한 상속 처리하기"
   ]
  },
  {
   "cell_type": "code",
   "execution_count": null,
   "id": "1033c89f",
   "metadata": {},
   "outputs": [],
   "source": []
  },
  {
   "cell_type": "markdown",
   "id": "7472250e",
   "metadata": {},
   "source": [
    "## 디스크립터 클래스 정의 "
   ]
  },
  {
   "cell_type": "code",
   "execution_count": 2,
   "id": "2e03905a",
   "metadata": {},
   "outputs": [],
   "source": [
    "class Descriptor:\n",
    "    def __get__(self, instance, owner):\n",
    "        print(\"Getting value from Descriptor\")\n",
    "        return instance._value\n",
    "    \n",
    "    def __set__(self, instance, value):\n",
    "        print(\"Setting value from Descriptor\")\n",
    "        instance._value = value\n"
   ]
  },
  {
   "cell_type": "markdown",
   "id": "dcac5a4d",
   "metadata": {},
   "source": [
    "## 클래스간의 상속처리 "
   ]
  },
  {
   "cell_type": "code",
   "execution_count": 3,
   "id": "c65c3a86",
   "metadata": {},
   "outputs": [],
   "source": [
    "\n",
    "class Parent:\n",
    "    my_attr = Descriptor()\n",
    "    def __init__(self,value) :\n",
    "        self.my_attr = value\n",
    "\n",
    "class Child(Parent):\n",
    "    def __init__(self, value):\n",
    "        super().__init__(value)\n",
    "\n"
   ]
  },
  {
   "cell_type": "markdown",
   "id": "9277a073",
   "metadata": {},
   "source": [
    "## 객체 생성 및 활용 "
   ]
  },
  {
   "cell_type": "code",
   "execution_count": 4,
   "id": "878c7e0b",
   "metadata": {},
   "outputs": [
    {
     "name": "stdout",
     "output_type": "stream",
     "text": [
      "Setting value from Descriptor\n",
      "Getting value from Descriptor\n",
      "42\n",
      "Setting value from Descriptor\n",
      "Getting value from Descriptor\n",
      "99\n"
     ]
    }
   ],
   "source": [
    "child = Child(42)\n",
    "print(child.my_attr)   # 출력: Getting value from Descriptor, 42\n",
    "child.my_attr = 99     # 출력: Setting value from Descriptor\n",
    "print(child.my_attr)   # 출력: Getting value from Descriptor, 99\n"
   ]
  },
  {
   "cell_type": "code",
   "execution_count": 5,
   "id": "1a9d0479",
   "metadata": {},
   "outputs": [
    {
     "data": {
      "text/plain": [
       "{'_value': 99}"
      ]
     },
     "execution_count": 5,
     "metadata": {},
     "output_type": "execute_result"
    }
   ],
   "source": [
    "child.__dict__"
   ]
  },
  {
   "cell_type": "code",
   "execution_count": null,
   "id": "06784333",
   "metadata": {},
   "outputs": [],
   "source": []
  }
 ],
 "metadata": {
  "kernelspec": {
   "display_name": "Python 3 (ipykernel)",
   "language": "python",
   "name": "python3"
  },
  "language_info": {
   "codemirror_mode": {
    "name": "ipython",
    "version": 3
   },
   "file_extension": ".py",
   "mimetype": "text/x-python",
   "name": "python",
   "nbconvert_exporter": "python",
   "pygments_lexer": "ipython3",
   "version": "3.11.3"
  }
 },
 "nbformat": 4,
 "nbformat_minor": 5
}
