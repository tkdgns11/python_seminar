{
 "cells": [
  {
   "cell_type": "code",
   "execution_count": 1,
   "id": "46e42dce",
   "metadata": {},
   "outputs": [
    {
     "data": {
      "text/plain": [
       "'3.11.3'"
      ]
     },
     "execution_count": 1,
     "metadata": {},
     "output_type": "execute_result"
    }
   ],
   "source": [
    "import platform\n",
    "\n",
    "platform.python_version()"
   ]
  },
  {
   "cell_type": "code",
   "execution_count": null,
   "id": "993c3820",
   "metadata": {},
   "outputs": [],
   "source": []
  },
  {
   "cell_type": "markdown",
   "id": "29c24de1",
   "metadata": {},
   "source": [
    "# 1. 클래스 \n",
    "\n",
    "## 파이썬 클래스는 다음과 같은 주요 특징을 가집니다:\n",
    "\n",
    "## 상속: \n",
    "- 클래스는 다른 클래스로부터 상속하여 새로운 클래스를 만들 수 있습니다. \n",
    "- 상속을 통해 기존 클래스의 속성과 메서드를 재사용하거나 확장할 수 있습니다.\n",
    "\n",
    "### 다형성: \n",
    "- 여러 클래스가 동일한 메서드 이름을 사용할 수 있으며, 이를 통해 다양한 클래스를 동일한 방식으로 다룰 수 있습니다.\n",
    "\n",
    "### 캡슐화: \n",
    "- 클래스는 데이터와 해당 데이터를 조작하는 메서드를 하나의 단위로 캡슐화하여 외부에서 직접적인 접근을 제한할 수 있습니다.\n",
    "\n",
    "### 정보 은닉: \n",
    "- 클래스 내부의 속성과 메서드를 외부에서 직접 접근할 수 없도록 보호하는 기능을 제공합니다.\n",
    "\n",
    "### 속성과 메서드: \n",
    "- 클래스는 속성(멤버 변수)과 메서드(멤버 함수)를 가질 수 있으며, 이를 통해 객체의 행동과 상태를 정의할 수 있습니다.\n",
    "\n",
    "### 인스턴스 생성: \n",
    "- 클래스를 기반으로 하나 이상의 인스턴스를 생성하여 사용할 수 있습니다.\n",
    "\n"
   ]
  },
  {
   "cell_type": "markdown",
   "id": "b5540bed",
   "metadata": {},
   "source": [
    "## 1-1  클래스 정의 \n",
    "- 모든 클래스는 최상위 클래스 object를 상속함\n",
    "- object 클래스는 빈 객체를 생성할 수는 있지만 특정한 기능이 없음 "
   ]
  },
  {
   "cell_type": "markdown",
   "id": "fc506c31",
   "metadata": {},
   "source": [
    "## 아무것도 하지 않는 클래스 정의 "
   ]
  },
  {
   "cell_type": "code",
   "execution_count": 1,
   "id": "99c4e68b",
   "metadata": {},
   "outputs": [],
   "source": [
    "class Klass(object) :\n",
    "    pass"
   ]
  },
  {
   "cell_type": "code",
   "execution_count": 9,
   "id": "de828c6e",
   "metadata": {},
   "outputs": [],
   "source": [
    "if True :\n",
    "    ..."
   ]
  },
  {
   "cell_type": "code",
   "execution_count": 2,
   "id": "013de2d5",
   "metadata": {},
   "outputs": [],
   "source": [
    "class 클래스(object) :\n",
    "    ..."
   ]
  },
  {
   "cell_type": "code",
   "execution_count": 7,
   "id": "06854a78",
   "metadata": {},
   "outputs": [
    {
     "data": {
      "text/plain": [
       "ellipsis"
      ]
     },
     "execution_count": 7,
     "metadata": {},
     "output_type": "execute_result"
    }
   ],
   "source": [
    "type(...)"
   ]
  },
  {
   "cell_type": "markdown",
   "id": "124473f4",
   "metadata": {},
   "source": [
    "## 객체 생성\n",
    "- 아무것도 하지않는 클래스도 클래스 이름과 호출연산자로 객체 인스턴스 생성이 가능"
   ]
  },
  {
   "cell_type": "code",
   "execution_count": 13,
   "id": "a2f0b566",
   "metadata": {},
   "outputs": [],
   "source": [
    "kk = object.__new__(Klass)"
   ]
  },
  {
   "cell_type": "code",
   "execution_count": 17,
   "id": "487c0818",
   "metadata": {},
   "outputs": [],
   "source": [
    "object.__init__(kk)"
   ]
  },
  {
   "cell_type": "code",
   "execution_count": 14,
   "id": "67e4ab4a",
   "metadata": {},
   "outputs": [
    {
     "data": {
      "text/plain": [
       "True"
      ]
     },
     "execution_count": 14,
     "metadata": {},
     "output_type": "execute_result"
    }
   ],
   "source": [
    "isinstance(kk, Klass)"
   ]
  },
  {
   "cell_type": "code",
   "execution_count": 10,
   "id": "3feb2b53",
   "metadata": {},
   "outputs": [],
   "source": [
    "k = Klass()"
   ]
  },
  {
   "cell_type": "code",
   "execution_count": 4,
   "id": "9a755c65",
   "metadata": {},
   "outputs": [
    {
     "data": {
      "text/plain": [
       "<__main__.Klass at 0x109a6c650>"
      ]
     },
     "execution_count": 4,
     "metadata": {},
     "output_type": "execute_result"
    }
   ],
   "source": [
    "k"
   ]
  },
  {
   "cell_type": "markdown",
   "id": "10a69670",
   "metadata": {},
   "source": [
    "### 클래스의 생성자를 호출\n",
    "- 클래스 이름과 호출연산자를 사용해서 객체를 생성할 수 있다."
   ]
  },
  {
   "cell_type": "code",
   "execution_count": 5,
   "id": "5d368afa",
   "metadata": {},
   "outputs": [],
   "source": [
    "k1 = 클래스.__call__()"
   ]
  },
  {
   "cell_type": "code",
   "execution_count": 6,
   "id": "7957800f",
   "metadata": {},
   "outputs": [
    {
     "data": {
      "text/plain": [
       "<__main__.클래스 at 0x109a5c650>"
      ]
     },
     "execution_count": 6,
     "metadata": {},
     "output_type": "execute_result"
    }
   ],
   "source": [
    "k1"
   ]
  },
  {
   "cell_type": "code",
   "execution_count": null,
   "id": "22dd6629",
   "metadata": {},
   "outputs": [],
   "source": []
  },
  {
   "cell_type": "code",
   "execution_count": null,
   "id": "45af6b26",
   "metadata": {},
   "outputs": [],
   "source": []
  },
  {
   "cell_type": "markdown",
   "id": "513ed486",
   "metadata": {},
   "source": [
    "## 클래스와 객체 관계 확인\n",
    "\n",
    "- isinstance 함수로 클래스와 객체 생성관계 확인 "
   ]
  },
  {
   "cell_type": "code",
   "execution_count": 8,
   "id": "2f062109",
   "metadata": {},
   "outputs": [
    {
     "data": {
      "text/plain": [
       "True"
      ]
     },
     "execution_count": 8,
     "metadata": {},
     "output_type": "execute_result"
    }
   ],
   "source": [
    "isinstance(k1, 클래스)"
   ]
  },
  {
   "cell_type": "markdown",
   "id": "f642bde0",
   "metadata": {},
   "source": [
    "### 실제 아무것도 안하는 클래스의 객체는 최상위 클래스의 `__new__`로 생성"
   ]
  },
  {
   "cell_type": "code",
   "execution_count": 9,
   "id": "4b820f50",
   "metadata": {},
   "outputs": [],
   "source": [
    "kk = object.__new__(Klass)"
   ]
  },
  {
   "cell_type": "code",
   "execution_count": 10,
   "id": "0b38060e",
   "metadata": {},
   "outputs": [
    {
     "data": {
      "text/plain": [
       "True"
      ]
     },
     "execution_count": 10,
     "metadata": {},
     "output_type": "execute_result"
    }
   ],
   "source": [
    "isinstance(kk, Klass)"
   ]
  },
  {
   "cell_type": "code",
   "execution_count": null,
   "id": "6b17487a",
   "metadata": {},
   "outputs": [],
   "source": []
  },
  {
   "cell_type": "code",
   "execution_count": 18,
   "id": "835bfcbf",
   "metadata": {},
   "outputs": [],
   "source": [
    "class AAA :\n",
    "    def __new__(cls,*args) :\n",
    "        print(\" new instance\") \n",
    "        return object.__new__(AAA)\n",
    "    \n",
    "    def __init__(self,) :\n",
    "        print(\" attribute init \")"
   ]
  },
  {
   "cell_type": "code",
   "execution_count": 19,
   "id": "8c431f9d",
   "metadata": {},
   "outputs": [
    {
     "name": "stdout",
     "output_type": "stream",
     "text": [
      " new instance\n",
      " attribute init \n"
     ]
    }
   ],
   "source": [
    "aaa = AAA()"
   ]
  },
  {
   "cell_type": "markdown",
   "id": "8a9f48e4",
   "metadata": {},
   "source": [
    "## 1-2 생성자 정의\n",
    "\n",
    "- 파이썬 클래스의 생성자는 `__init__()` 메서드를 사용하여 정의됩니다. \n",
    "- 생성자는 객체를 초기화하는 역할을 하며, 클래스의 인스턴스를 생성하고 속성을 설정하는 등의 초기화 작업을 수행합니다. \n",
    "- 생성자는 클래스 내에서 가장 먼저 호출되며, 인스턴스를 생성할 때 자동으로 호출됩니다."
   ]
  },
  {
   "cell_type": "code",
   "execution_count": 20,
   "id": "6a6b0e5f",
   "metadata": {},
   "outputs": [],
   "source": [
    "class Person :                      # 클래스를 정의할 때 최상위 클래스는 보통 생략함 \n",
    "    def __init__(self,name,age) :\n",
    "        self.name = name\n",
    "        self.age = age"
   ]
  },
  {
   "cell_type": "markdown",
   "id": "25a0d82a",
   "metadata": {},
   "source": [
    "### 클래스 내의 네임스페이스 확인 \n",
    "\n",
    "- 클래스의 네임스페이스는 클래스 내부에서 속성(멤버 변수)과 메서드(멤버 함수)의 이름을 저장하고 관리하는 공간입니다. \n",
    "- 클래스의 네임스페이스는 해당 클래스의 정의에 의해 생성되며, 클래스의 인스턴스마다 별도의 네임스페이스를 가집니다."
   ]
  },
  {
   "cell_type": "code",
   "execution_count": 21,
   "id": "24b908a8",
   "metadata": {},
   "outputs": [
    {
     "data": {
      "text/plain": [
       "mappingproxy({'__module__': '__main__',\n",
       "              '__init__': <function __main__.Person.__init__(self, name, age)>,\n",
       "              '__dict__': <attribute '__dict__' of 'Person' objects>,\n",
       "              '__weakref__': <attribute '__weakref__' of 'Person' objects>,\n",
       "              '__doc__': None})"
      ]
     },
     "execution_count": 21,
     "metadata": {},
     "output_type": "execute_result"
    }
   ],
   "source": [
    "Person.__dict__      # 클래스 내부 속성 확인 "
   ]
  },
  {
   "cell_type": "code",
   "execution_count": 22,
   "id": "f31da410",
   "metadata": {},
   "outputs": [],
   "source": [
    "p = Person(\"농협은행\", 100)"
   ]
  },
  {
   "cell_type": "code",
   "execution_count": 23,
   "id": "3e9499a4",
   "metadata": {},
   "outputs": [
    {
     "data": {
      "text/plain": [
       "<__main__.Person at 0x109fab890>"
      ]
     },
     "execution_count": 23,
     "metadata": {},
     "output_type": "execute_result"
    }
   ],
   "source": [
    "p"
   ]
  },
  {
   "cell_type": "code",
   "execution_count": null,
   "id": "d402a03d",
   "metadata": {},
   "outputs": [],
   "source": []
  },
  {
   "cell_type": "markdown",
   "id": "62eacc3e",
   "metadata": {},
   "source": [
    "### 인터페이스의 네임스페이스 확인 \n",
    "\n",
    "- 파이썬에서 인스턴스의 네임스페이스는 해당 인스턴스에 대한 속성(멤버 변수) 이름을 저장하고 관리하는 공간입니다. \n"
   ]
  },
  {
   "cell_type": "code",
   "execution_count": 24,
   "id": "b4c6783c",
   "metadata": {},
   "outputs": [
    {
     "data": {
      "text/plain": [
       "{'name': '농협은행', 'age': 100}"
      ]
     },
     "execution_count": 24,
     "metadata": {},
     "output_type": "execute_result"
    }
   ],
   "source": [
    "p.__dict__   # 객체 내부 속성 확인 "
   ]
  },
  {
   "cell_type": "code",
   "execution_count": 25,
   "id": "73ac1148",
   "metadata": {},
   "outputs": [
    {
     "data": {
      "text/plain": [
       "['__class__',\n",
       " '__delattr__',\n",
       " '__dict__',\n",
       " '__dir__',\n",
       " '__doc__',\n",
       " '__eq__',\n",
       " '__format__',\n",
       " '__ge__',\n",
       " '__getattribute__',\n",
       " '__getstate__',\n",
       " '__gt__',\n",
       " '__hash__',\n",
       " '__init__',\n",
       " '__init_subclass__',\n",
       " '__le__',\n",
       " '__lt__',\n",
       " '__module__',\n",
       " '__ne__',\n",
       " '__new__',\n",
       " '__reduce__',\n",
       " '__reduce_ex__',\n",
       " '__repr__',\n",
       " '__setattr__',\n",
       " '__sizeof__',\n",
       " '__str__',\n",
       " '__subclasshook__',\n",
       " '__weakref__',\n",
       " 'age',\n",
       " 'name']"
      ]
     },
     "execution_count": 25,
     "metadata": {},
     "output_type": "execute_result"
    }
   ],
   "source": [
    "dir(p)"
   ]
  },
  {
   "cell_type": "code",
   "execution_count": null,
   "id": "aa07c5f7",
   "metadata": {},
   "outputs": [],
   "source": []
  },
  {
   "cell_type": "code",
   "execution_count": 26,
   "id": "62e9bb4c",
   "metadata": {},
   "outputs": [],
   "source": [
    "def __init__(self, abc,efg) :\n",
    "    self.abc = abc\n",
    "    self.efg = efg"
   ]
  },
  {
   "cell_type": "code",
   "execution_count": null,
   "id": "f9f4a562",
   "metadata": {},
   "outputs": [],
   "source": []
  },
  {
   "cell_type": "code",
   "execution_count": 27,
   "id": "2ec29ac8",
   "metadata": {},
   "outputs": [],
   "source": [
    "class ABCD :\n",
    "    __init__ = __init__"
   ]
  },
  {
   "cell_type": "code",
   "execution_count": null,
   "id": "c231f08f",
   "metadata": {},
   "outputs": [],
   "source": []
  },
  {
   "cell_type": "code",
   "execution_count": 31,
   "id": "6d89a781",
   "metadata": {},
   "outputs": [
    {
     "data": {
      "text/plain": [
       "mappingproxy({'__module__': '__main__',\n",
       "              '__init__': <function __main__.__init__(self, abc, efg)>,\n",
       "              '__dict__': <attribute '__dict__' of 'ABCD' objects>,\n",
       "              '__weakref__': <attribute '__weakref__' of 'ABCD' objects>,\n",
       "              '__doc__': None})"
      ]
     },
     "execution_count": 31,
     "metadata": {},
     "output_type": "execute_result"
    }
   ],
   "source": [
    "ABCD.__dict__"
   ]
  },
  {
   "cell_type": "code",
   "execution_count": null,
   "id": "914b6cda",
   "metadata": {},
   "outputs": [],
   "source": []
  },
  {
   "cell_type": "code",
   "execution_count": 29,
   "id": "44dbd023",
   "metadata": {},
   "outputs": [],
   "source": [
    "aa = ABCD(\"가을\", \"겨울\")"
   ]
  },
  {
   "cell_type": "code",
   "execution_count": 30,
   "id": "adb63f3e",
   "metadata": {},
   "outputs": [
    {
     "data": {
      "text/plain": [
       "{'abc': '가을', 'efg': '겨울'}"
      ]
     },
     "execution_count": 30,
     "metadata": {},
     "output_type": "execute_result"
    }
   ],
   "source": [
    "aa.__dict__"
   ]
  },
  {
   "cell_type": "code",
   "execution_count": null,
   "id": "fb93d71d",
   "metadata": {},
   "outputs": [],
   "source": []
  },
  {
   "cell_type": "code",
   "execution_count": 32,
   "id": "c19c73ee",
   "metadata": {},
   "outputs": [],
   "source": [
    "class AAA :\n",
    "    pass"
   ]
  },
  {
   "cell_type": "code",
   "execution_count": 33,
   "id": "39b1800a",
   "metadata": {},
   "outputs": [],
   "source": [
    "AAA.__init__ = __init__"
   ]
  },
  {
   "cell_type": "markdown",
   "id": "05a1ac63",
   "metadata": {},
   "source": [
    "# 2. 메서드 정의 \n",
    "\n",
    "- 파이썬에서 메서드(method)는 클래스 내에서 정의되는 함수를 의미합니다. \n",
    "- 메서드는 클래스의 속성과 연결되어 클래스의 행동을 정의하고 동작을 수행할 수 있도록 합니다. \n",
    "- 메서드는 객체 지향 프로그래밍의 주요 특징인 캡슐화, 추상화, 상속 등을 구현하는데 중요한 역할을 합니다.\n",
    "\n",
    "\n",
    "## 메서드의 종류\n",
    "\n",
    "###  인스턴스 메서드 (Instance Methods): \n",
    "- self 매개변수를 받는 메서드로, 인스턴스의 속성에 접근하고 수정하는 데 사용됩니다.\n",
    "\n",
    "### 클래스 메서드 (Class Methods): \n",
    "- cls 매개변수를 받는 메서드로, 클래스 레벨의 속성을 접근하고 수정하는 데 사용됩니다. \n",
    "- @classmethod 데코레이터를 사용하여 정의됩니다.\n",
    "\n",
    "### 정적 메서드 (Static Methods):\n",
    "- 특정 인스턴스나 클래스에 종속되지 않는 독립적인 메서드로, 클래스 내에서 유틸리티 함수를 정의할 때 사용됩니다. \n",
    "- @staticmethod 데코레이터를 사용하여 정의됩니다."
   ]
  },
  {
   "cell_type": "markdown",
   "id": "2d8f2072",
   "metadata": {},
   "source": [
    "## 2-1 객체가 사용하는 인스턴스 메서드 정의\n",
    "\n",
    "- 객체인 인스턴스가 바로 행위를 처리하고 속성을 조회하는 메서드 "
   ]
  },
  {
   "cell_type": "code",
   "execution_count": 34,
   "id": "56a37b37",
   "metadata": {},
   "outputs": [],
   "source": [
    "class User :\n",
    "    def __init__(self,name,age) :\n",
    "        self.name = name\n",
    "        self.age = age\n",
    "        \n",
    "    def getUser(self) :\n",
    "        return self.name, self.age"
   ]
  },
  {
   "cell_type": "code",
   "execution_count": 35,
   "id": "40666f93",
   "metadata": {},
   "outputs": [],
   "source": [
    "u = User(\"이름\", 11)"
   ]
  },
  {
   "cell_type": "code",
   "execution_count": 36,
   "id": "ca68a3cc",
   "metadata": {},
   "outputs": [
    {
     "data": {
      "text/plain": [
       "('이름', 11)"
      ]
     },
     "execution_count": 36,
     "metadata": {},
     "output_type": "execute_result"
    }
   ],
   "source": [
    "u.getUser()"
   ]
  },
  {
   "cell_type": "markdown",
   "id": "53f8f73c",
   "metadata": {},
   "source": [
    "### 인스턴스 메서드의 자료형을 확인 "
   ]
  },
  {
   "cell_type": "code",
   "execution_count": 38,
   "id": "e9d66fd5",
   "metadata": {},
   "outputs": [],
   "source": [
    "import types"
   ]
  },
  {
   "cell_type": "code",
   "execution_count": 39,
   "id": "85e57b60",
   "metadata": {},
   "outputs": [
    {
     "data": {
      "text/plain": [
       "True"
      ]
     },
     "execution_count": 39,
     "metadata": {},
     "output_type": "execute_result"
    }
   ],
   "source": [
    "isinstance(u.getUser,types.MethodType)"
   ]
  },
  {
   "cell_type": "code",
   "execution_count": 42,
   "id": "e9c02fcb",
   "metadata": {},
   "outputs": [
    {
     "data": {
      "text/plain": [
       "['__call__',\n",
       " '__class__',\n",
       " '__delattr__',\n",
       " '__dir__',\n",
       " '__doc__',\n",
       " '__eq__',\n",
       " '__format__',\n",
       " '__func__',\n",
       " '__ge__',\n",
       " '__getattribute__',\n",
       " '__getstate__',\n",
       " '__gt__',\n",
       " '__hash__',\n",
       " '__init__',\n",
       " '__init_subclass__',\n",
       " '__le__',\n",
       " '__lt__',\n",
       " '__ne__',\n",
       " '__new__',\n",
       " '__reduce__',\n",
       " '__reduce_ex__',\n",
       " '__repr__',\n",
       " '__self__',\n",
       " '__setattr__',\n",
       " '__sizeof__',\n",
       " '__str__',\n",
       " '__subclasshook__']"
      ]
     },
     "execution_count": 42,
     "metadata": {},
     "output_type": "execute_result"
    }
   ],
   "source": [
    "dir(u.getUser)"
   ]
  },
  {
   "cell_type": "code",
   "execution_count": 43,
   "id": "fcd723ec",
   "metadata": {},
   "outputs": [
    {
     "data": {
      "text/plain": [
       "True"
      ]
     },
     "execution_count": 43,
     "metadata": {},
     "output_type": "execute_result"
    }
   ],
   "source": [
    "u.getUser.__self__ is u"
   ]
  },
  {
   "cell_type": "code",
   "execution_count": 45,
   "id": "c76a8a84",
   "metadata": {},
   "outputs": [
    {
     "data": {
      "text/plain": [
       "True"
      ]
     },
     "execution_count": 45,
     "metadata": {},
     "output_type": "execute_result"
    }
   ],
   "source": [
    "u.getUser.__func__ is User.getUser"
   ]
  },
  {
   "cell_type": "code",
   "execution_count": null,
   "id": "2c4186f8",
   "metadata": {},
   "outputs": [],
   "source": []
  },
  {
   "cell_type": "code",
   "execution_count": 41,
   "id": "b7b1661d",
   "metadata": {},
   "outputs": [
    {
     "data": {
      "text/plain": [
       "True"
      ]
     },
     "execution_count": 41,
     "metadata": {},
     "output_type": "execute_result"
    }
   ],
   "source": [
    "isinstance(User.getUser,types.FunctionType)"
   ]
  },
  {
   "cell_type": "code",
   "execution_count": 46,
   "id": "c5c54c6f",
   "metadata": {},
   "outputs": [
    {
     "data": {
      "text/plain": [
       "('이름', 11)"
      ]
     },
     "execution_count": 46,
     "metadata": {},
     "output_type": "execute_result"
    }
   ],
   "source": [
    "u.getUser.__func__(u.getUser.__self__)"
   ]
  },
  {
   "cell_type": "code",
   "execution_count": null,
   "id": "3dd025d2",
   "metadata": {},
   "outputs": [],
   "source": []
  },
  {
   "cell_type": "markdown",
   "id": "6cee6fd0",
   "metadata": {},
   "source": [
    "### 인스턴스 메서드 정의할 때 첫번째 자료를 self 정의하는 이유\n",
    "\n",
    "- 실제 내부의 `__self__ ` 속성에 인스턴스가 전달되어 처리"
   ]
  },
  {
   "cell_type": "code",
   "execution_count": 21,
   "id": "81d973aa",
   "metadata": {},
   "outputs": [
    {
     "data": {
      "text/plain": [
       "<__main__.User at 0x10706c390>"
      ]
     },
     "execution_count": 21,
     "metadata": {},
     "output_type": "execute_result"
    }
   ],
   "source": [
    "u.getUser.__self__"
   ]
  },
  {
   "cell_type": "markdown",
   "id": "3930b4f5",
   "metadata": {},
   "source": [
    "### 인스턴스 메서드 바인딩 될 때 클래스에 정의된 함수가 전달됨 \n",
    "\n",
    "- 실제 내부의 `__func__ ` 속성에 함수가 저장됨"
   ]
  },
  {
   "cell_type": "code",
   "execution_count": 22,
   "id": "17333c6d",
   "metadata": {},
   "outputs": [
    {
     "data": {
      "text/plain": [
       "<function __main__.User.getUser(self)>"
      ]
     },
     "execution_count": 22,
     "metadata": {},
     "output_type": "execute_result"
    }
   ],
   "source": [
    "u.getUser.__func__"
   ]
  },
  {
   "cell_type": "code",
   "execution_count": 23,
   "id": "7522887e",
   "metadata": {},
   "outputs": [
    {
     "data": {
      "text/plain": [
       "('이름', 11)"
      ]
     },
     "execution_count": 23,
     "metadata": {},
     "output_type": "execute_result"
    }
   ],
   "source": [
    "u.getUser.__func__(u)"
   ]
  },
  {
   "cell_type": "code",
   "execution_count": null,
   "id": "d8a6a4e3",
   "metadata": {},
   "outputs": [],
   "source": []
  },
  {
   "cell_type": "markdown",
   "id": "5ded92e9",
   "metadata": {},
   "source": [
    "## 2-2 속성을 갱신하는 메서드 정의 \n",
    "\n",
    "- 특정 속성을 갱신하는 메서드 작성 "
   ]
  },
  {
   "cell_type": "code",
   "execution_count": 24,
   "id": "2553867e",
   "metadata": {},
   "outputs": [],
   "source": [
    "class User1 :\n",
    "    def __init__(self,name,age) :\n",
    "        self.name = name\n",
    "        self.age = age\n",
    "        \n",
    "    def getUser(self) :\n",
    "        return self.name, self.age\n",
    "    \n",
    "    def setUser(self,nVal,aVal) :\n",
    "        self.name = nVal\n",
    "        self.age = aVal"
   ]
  },
  {
   "cell_type": "code",
   "execution_count": 25,
   "id": "64192ffc",
   "metadata": {},
   "outputs": [],
   "source": [
    "u1 = User1(\"이름1\", 111)"
   ]
  },
  {
   "cell_type": "code",
   "execution_count": 26,
   "id": "41d5f4aa",
   "metadata": {},
   "outputs": [
    {
     "data": {
      "text/plain": [
       "('이름1', 111)"
      ]
     },
     "execution_count": 26,
     "metadata": {},
     "output_type": "execute_result"
    }
   ],
   "source": [
    "u1.getUser()"
   ]
  },
  {
   "cell_type": "code",
   "execution_count": 27,
   "id": "c4e72d19",
   "metadata": {},
   "outputs": [],
   "source": [
    "u1.setUser(\"은행\", 120)"
   ]
  },
  {
   "cell_type": "code",
   "execution_count": 28,
   "id": "9089ee4a",
   "metadata": {},
   "outputs": [
    {
     "data": {
      "text/plain": [
       "('은행', 120)"
      ]
     },
     "execution_count": 28,
     "metadata": {},
     "output_type": "execute_result"
    }
   ],
   "source": [
    "u1.getUser()"
   ]
  },
  {
   "cell_type": "code",
   "execution_count": null,
   "id": "ecf160f8",
   "metadata": {},
   "outputs": [],
   "source": []
  },
  {
   "cell_type": "markdown",
   "id": "dff76e4e",
   "metadata": {},
   "source": [
    "## 2-3 특정 기능을 하는 메서드 정의 \n",
    "\n",
    "- 객체의 특별한 기능을 처리하는 메서드 작성"
   ]
  },
  {
   "cell_type": "code",
   "execution_count": 29,
   "id": "bc91cec1",
   "metadata": {},
   "outputs": [],
   "source": [
    "class User2 :\n",
    "    def __init__(self,name,age) :\n",
    "        self.name = name\n",
    "        self.age = age\n",
    "        \n",
    "    def getUser(self) :\n",
    "        return self.name, self.age\n",
    "    def setUser(self,nVal,aVal) :\n",
    "        self.name = nVal\n",
    "        self.age = aVal\n",
    "        \n",
    "    def printUser(self) :\n",
    "        print(\"User2 name = \" + self.name + ' age = ' + str(self.age))"
   ]
  },
  {
   "cell_type": "code",
   "execution_count": 30,
   "id": "930dc635",
   "metadata": {},
   "outputs": [],
   "source": [
    "u2 = User2(\"이름1\", 111)"
   ]
  },
  {
   "cell_type": "code",
   "execution_count": 31,
   "id": "23ddb587",
   "metadata": {},
   "outputs": [
    {
     "name": "stdout",
     "output_type": "stream",
     "text": [
      "User2 name = 이름1 age = 111\n"
     ]
    }
   ],
   "source": [
    "u2.printUser()"
   ]
  },
  {
   "cell_type": "code",
   "execution_count": null,
   "id": "73290c7a",
   "metadata": {},
   "outputs": [],
   "source": []
  },
  {
   "cell_type": "code",
   "execution_count": null,
   "id": "5436045d",
   "metadata": {},
   "outputs": [],
   "source": []
  },
  {
   "cell_type": "markdown",
   "id": "1e6c4bf7",
   "metadata": {},
   "source": [
    "## 함수의 글로벌 스코프 확인 "
   ]
  },
  {
   "cell_type": "code",
   "execution_count": 1,
   "id": "f6cb35b2",
   "metadata": {},
   "outputs": [
    {
     "name": "stdout",
     "output_type": "stream",
     "text": [
      "Overwriting add3.py\n"
     ]
    }
   ],
   "source": [
    "%%writefile add3.py\n",
    "\n",
    "glo = 9999\n",
    "glo_ = 0 \n",
    "\n",
    "def __init__(self) :\n",
    "    print(f\"글로벌 {glo}\")\n",
    "    print(f\"글로벌 {glo_}\")\n"
   ]
  },
  {
   "cell_type": "code",
   "execution_count": 2,
   "id": "299775f4",
   "metadata": {},
   "outputs": [],
   "source": [
    "import add3\n",
    "import types"
   ]
  },
  {
   "cell_type": "code",
   "execution_count": 7,
   "id": "1771b429",
   "metadata": {},
   "outputs": [
    {
     "data": {
      "text/plain": [
       "True"
      ]
     },
     "execution_count": 7,
     "metadata": {},
     "output_type": "execute_result"
    }
   ],
   "source": [
    "isinstance(add3.__init__, types.FunctionType)"
   ]
  },
  {
   "cell_type": "code",
   "execution_count": 8,
   "id": "1df22e67",
   "metadata": {},
   "outputs": [
    {
     "data": {
      "text/plain": [
       "type"
      ]
     },
     "execution_count": 8,
     "metadata": {},
     "output_type": "execute_result"
    }
   ],
   "source": [
    "type(add3).__class__"
   ]
  },
  {
   "cell_type": "code",
   "execution_count": 23,
   "id": "2401d181",
   "metadata": {},
   "outputs": [
    {
     "name": "stdout",
     "output_type": "stream",
     "text": [
      "글로벌 9999\n",
      "글로벌 333\n"
     ]
    }
   ],
   "source": [
    "add3.__init__(object())"
   ]
  },
  {
   "cell_type": "markdown",
   "id": "342c5b37",
   "metadata": {},
   "source": [
    "## 전영영역을 수정하려면 항상 모듈 내의 속성을 추가하거나 수정해야함 "
   ]
  },
  {
   "cell_type": "code",
   "execution_count": 17,
   "id": "11bc0f2f",
   "metadata": {},
   "outputs": [],
   "source": [
    "glo = 777\n",
    "add3.glo_ = 333\n",
    "class ABCDE :\n",
    "    __init__ = add3.__init__"
   ]
  },
  {
   "cell_type": "code",
   "execution_count": 18,
   "id": "cbb3d6eb",
   "metadata": {},
   "outputs": [
    {
     "data": {
      "text/plain": [
       "{'__name__': 'add3',\n",
       " '__doc__': None,\n",
       " '__package__': '',\n",
       " '__loader__': <_frozen_importlib_external.SourceFileLoader at 0x11a765550>,\n",
       " '__spec__': ModuleSpec(name='add3', loader=<_frozen_importlib_external.SourceFileLoader object at 0x11a765550>, origin='/Users/a06411/Documents/GitHub/js_fluent_python/파이썬_기초과정/add3.py'),\n",
       " '__file__': '/Users/a06411/Documents/GitHub/js_fluent_python/파이썬_기초과정/add3.py',\n",
       " '__cached__': '/Users/a06411/Documents/GitHub/js_fluent_python/파이썬_기초과정/__pycache__/add3.cpython-311.pyc',\n",
       " '__builtins__': {'__name__': 'builtins',\n",
       "  '__doc__': \"Built-in functions, exceptions, and other objects.\\n\\nNoteworthy: None is the `nil' object; Ellipsis represents `...' in slices.\",\n",
       "  '__package__': '',\n",
       "  '__loader__': _frozen_importlib.BuiltinImporter,\n",
       "  '__spec__': ModuleSpec(name='builtins', loader=<class '_frozen_importlib.BuiltinImporter'>, origin='built-in'),\n",
       "  '__build_class__': <function __build_class__>,\n",
       "  '__import__': <function __import__(name, globals=None, locals=None, fromlist=(), level=0)>,\n",
       "  'abs': <function abs(x, /)>,\n",
       "  'all': <function all(iterable, /)>,\n",
       "  'any': <function any(iterable, /)>,\n",
       "  'ascii': <function ascii(obj, /)>,\n",
       "  'bin': <function bin(number, /)>,\n",
       "  'breakpoint': <function breakpoint>,\n",
       "  'callable': <function callable(obj, /)>,\n",
       "  'chr': <function chr(i, /)>,\n",
       "  'compile': <function compile(source, filename, mode, flags=0, dont_inherit=False, optimize=-1, *, _feature_version=-1)>,\n",
       "  'delattr': <function delattr(obj, name, /)>,\n",
       "  'dir': <function dir>,\n",
       "  'divmod': <function divmod(x, y, /)>,\n",
       "  'eval': <function eval(source, globals=None, locals=None, /)>,\n",
       "  'exec': <function exec(source, globals=None, locals=None, /, *, closure=None)>,\n",
       "  'format': <function format(value, format_spec='', /)>,\n",
       "  'getattr': <function getattr>,\n",
       "  'globals': <function globals()>,\n",
       "  'hasattr': <function hasattr(obj, name, /)>,\n",
       "  'hash': <function hash(obj, /)>,\n",
       "  'hex': <function hex(number, /)>,\n",
       "  'id': <function id(obj, /)>,\n",
       "  'input': <bound method Kernel.raw_input of <ipykernel.ipkernel.IPythonKernel object at 0x11a710110>>,\n",
       "  'isinstance': <function isinstance(obj, class_or_tuple, /)>,\n",
       "  'issubclass': <function issubclass(cls, class_or_tuple, /)>,\n",
       "  'iter': <function iter>,\n",
       "  'aiter': <function aiter(async_iterable, /)>,\n",
       "  'len': <function len(obj, /)>,\n",
       "  'locals': <function locals()>,\n",
       "  'max': <function max>,\n",
       "  'min': <function min>,\n",
       "  'next': <function next>,\n",
       "  'anext': <function anext>,\n",
       "  'oct': <function oct(number, /)>,\n",
       "  'ord': <function ord(c, /)>,\n",
       "  'pow': <function pow(base, exp, mod=None)>,\n",
       "  'print': <function print(*args, sep=' ', end='\\n', file=None, flush=False)>,\n",
       "  'repr': <function repr(obj, /)>,\n",
       "  'round': <function round(number, ndigits=None)>,\n",
       "  'setattr': <function setattr(obj, name, value, /)>,\n",
       "  'sorted': <function sorted(iterable, /, *, key=None, reverse=False)>,\n",
       "  'sum': <function sum(iterable, /, start=0)>,\n",
       "  'vars': <function vars>,\n",
       "  'None': None,\n",
       "  'Ellipsis': Ellipsis,\n",
       "  'NotImplemented': NotImplemented,\n",
       "  'False': False,\n",
       "  'True': True,\n",
       "  'bool': bool,\n",
       "  'memoryview': memoryview,\n",
       "  'bytearray': bytearray,\n",
       "  'bytes': bytes,\n",
       "  'classmethod': classmethod,\n",
       "  'complex': complex,\n",
       "  'dict': dict,\n",
       "  'enumerate': enumerate,\n",
       "  'filter': filter,\n",
       "  'float': float,\n",
       "  'frozenset': frozenset,\n",
       "  'property': property,\n",
       "  'int': int,\n",
       "  'list': list,\n",
       "  'map': map,\n",
       "  'object': object,\n",
       "  'range': range,\n",
       "  'reversed': reversed,\n",
       "  'set': set,\n",
       "  'slice': slice,\n",
       "  'staticmethod': staticmethod,\n",
       "  'str': str,\n",
       "  'super': super,\n",
       "  'tuple': tuple,\n",
       "  'type': type,\n",
       "  'zip': zip,\n",
       "  '__debug__': True,\n",
       "  'BaseException': BaseException,\n",
       "  'BaseExceptionGroup': BaseExceptionGroup,\n",
       "  'Exception': Exception,\n",
       "  'GeneratorExit': GeneratorExit,\n",
       "  'KeyboardInterrupt': KeyboardInterrupt,\n",
       "  'SystemExit': SystemExit,\n",
       "  'ArithmeticError': ArithmeticError,\n",
       "  'AssertionError': AssertionError,\n",
       "  'AttributeError': AttributeError,\n",
       "  'BufferError': BufferError,\n",
       "  'EOFError': EOFError,\n",
       "  'ImportError': ImportError,\n",
       "  'LookupError': LookupError,\n",
       "  'MemoryError': MemoryError,\n",
       "  'NameError': NameError,\n",
       "  'OSError': OSError,\n",
       "  'ReferenceError': ReferenceError,\n",
       "  'RuntimeError': RuntimeError,\n",
       "  'StopAsyncIteration': StopAsyncIteration,\n",
       "  'StopIteration': StopIteration,\n",
       "  'SyntaxError': SyntaxError,\n",
       "  'SystemError': SystemError,\n",
       "  'TypeError': TypeError,\n",
       "  'ValueError': ValueError,\n",
       "  'Warning': Warning,\n",
       "  'FloatingPointError': FloatingPointError,\n",
       "  'OverflowError': OverflowError,\n",
       "  'ZeroDivisionError': ZeroDivisionError,\n",
       "  'BytesWarning': BytesWarning,\n",
       "  'DeprecationWarning': DeprecationWarning,\n",
       "  'EncodingWarning': EncodingWarning,\n",
       "  'FutureWarning': FutureWarning,\n",
       "  'ImportWarning': ImportWarning,\n",
       "  'PendingDeprecationWarning': PendingDeprecationWarning,\n",
       "  'ResourceWarning': ResourceWarning,\n",
       "  'RuntimeWarning': RuntimeWarning,\n",
       "  'SyntaxWarning': SyntaxWarning,\n",
       "  'UnicodeWarning': UnicodeWarning,\n",
       "  'UserWarning': UserWarning,\n",
       "  'BlockingIOError': BlockingIOError,\n",
       "  'ChildProcessError': ChildProcessError,\n",
       "  'ConnectionError': ConnectionError,\n",
       "  'FileExistsError': FileExistsError,\n",
       "  'FileNotFoundError': FileNotFoundError,\n",
       "  'InterruptedError': InterruptedError,\n",
       "  'IsADirectoryError': IsADirectoryError,\n",
       "  'NotADirectoryError': NotADirectoryError,\n",
       "  'PermissionError': PermissionError,\n",
       "  'ProcessLookupError': ProcessLookupError,\n",
       "  'TimeoutError': TimeoutError,\n",
       "  'IndentationError': IndentationError,\n",
       "  'IndexError': IndexError,\n",
       "  'KeyError': KeyError,\n",
       "  'ModuleNotFoundError': ModuleNotFoundError,\n",
       "  'NotImplementedError': NotImplementedError,\n",
       "  'RecursionError': RecursionError,\n",
       "  'UnboundLocalError': UnboundLocalError,\n",
       "  'UnicodeError': UnicodeError,\n",
       "  'BrokenPipeError': BrokenPipeError,\n",
       "  'ConnectionAbortedError': ConnectionAbortedError,\n",
       "  'ConnectionRefusedError': ConnectionRefusedError,\n",
       "  'ConnectionResetError': ConnectionResetError,\n",
       "  'TabError': TabError,\n",
       "  'UnicodeDecodeError': UnicodeDecodeError,\n",
       "  'UnicodeEncodeError': UnicodeEncodeError,\n",
       "  'UnicodeTranslateError': UnicodeTranslateError,\n",
       "  'ExceptionGroup': ExceptionGroup,\n",
       "  'EnvironmentError': OSError,\n",
       "  'IOError': OSError,\n",
       "  'open': <function io.open(file, mode='r', buffering=-1, encoding=None, errors=None, newline=None, closefd=True, opener=None)>,\n",
       "  'copyright': Copyright (c) 2001-2023 Python Software Foundation.\n",
       "  All Rights Reserved.\n",
       "  \n",
       "  Copyright (c) 2000 BeOpen.com.\n",
       "  All Rights Reserved.\n",
       "  \n",
       "  Copyright (c) 1995-2001 Corporation for National Research Initiatives.\n",
       "  All Rights Reserved.\n",
       "  \n",
       "  Copyright (c) 1991-1995 Stichting Mathematisch Centrum, Amsterdam.\n",
       "  All Rights Reserved.,\n",
       "  'credits':     Thanks to CWI, CNRI, BeOpen.com, Zope Corporation and a cast of thousands\n",
       "      for supporting Python development.  See www.python.org for more information.,\n",
       "  'license': Type license() to see the full license text,\n",
       "  'help': Type help() for interactive help, or help(object) for help about object.,\n",
       "  'execfile': <function _pydev_bundle._pydev_execfile.execfile(file, glob=None, loc=None)>,\n",
       "  'runfile': <function _pydev_bundle.pydev_umd.runfile(filename, args=None, wdir=None, namespace=None)>,\n",
       "  '__IPYTHON__': True,\n",
       "  'display': <function IPython.core.display_functions.display(*objs, include=None, exclude=None, metadata=None, transient=None, display_id=None, raw=False, clear=False, **kwargs)>,\n",
       "  'get_ipython': <bound method InteractiveShell.get_ipython of <ipykernel.zmqshell.ZMQInteractiveShell object at 0x11a728910>>},\n",
       " 'glo': 9999,\n",
       " 'glo_': 333,\n",
       " '__init__': <function add3.__init__(self)>,\n",
       " 'glo1': 333}"
      ]
     },
     "execution_count": 18,
     "metadata": {},
     "output_type": "execute_result"
    }
   ],
   "source": [
    "add3.__dict__"
   ]
  },
  {
   "cell_type": "code",
   "execution_count": 19,
   "id": "2cb55ff4",
   "metadata": {},
   "outputs": [
    {
     "data": {
      "text/plain": [
       "333"
      ]
     },
     "execution_count": 19,
     "metadata": {},
     "output_type": "execute_result"
    }
   ],
   "source": [
    "add3.__init__.__globals__['glo_']"
   ]
  },
  {
   "cell_type": "code",
   "execution_count": 20,
   "id": "f2643dca",
   "metadata": {},
   "outputs": [
    {
     "data": {
      "text/plain": [
       "mappingproxy({'__module__': '__main__',\n",
       "              '__init__': <function add3.__init__(self)>,\n",
       "              '__dict__': <attribute '__dict__' of 'ABCDE' objects>,\n",
       "              '__weakref__': <attribute '__weakref__' of 'ABCDE' objects>,\n",
       "              '__doc__': None})"
      ]
     },
     "execution_count": 20,
     "metadata": {},
     "output_type": "execute_result"
    }
   ],
   "source": [
    "ABCDE.__dict__"
   ]
  },
  {
   "cell_type": "code",
   "execution_count": null,
   "id": "7e46767a",
   "metadata": {},
   "outputs": [],
   "source": []
  },
  {
   "cell_type": "code",
   "execution_count": 21,
   "id": "4505175d",
   "metadata": {},
   "outputs": [
    {
     "name": "stdout",
     "output_type": "stream",
     "text": [
      "글로벌 9999\n",
      "글로벌 333\n"
     ]
    },
    {
     "data": {
      "text/plain": [
       "<__main__.ABCDE at 0x11b8c8390>"
      ]
     },
     "execution_count": 21,
     "metadata": {},
     "output_type": "execute_result"
    }
   ],
   "source": [
    "ABCDE()"
   ]
  },
  {
   "cell_type": "code",
   "execution_count": 22,
   "id": "3b431bba",
   "metadata": {},
   "outputs": [],
   "source": [
    "import abc"
   ]
  },
  {
   "cell_type": "code",
   "execution_count": 135,
   "id": "cfce513b",
   "metadata": {},
   "outputs": [
    {
     "data": {
      "text/plain": [
       "['ABC',\n",
       " 'ABCMeta',\n",
       " '__builtins__',\n",
       " '__doc__',\n",
       " '__file__',\n",
       " '__loader__',\n",
       " '__name__',\n",
       " '__package__',\n",
       " '__spec__',\n",
       " '_abc_init',\n",
       " '_abc_instancecheck',\n",
       " '_abc_register',\n",
       " '_abc_subclasscheck',\n",
       " '_get_dump',\n",
       " '_reset_caches',\n",
       " '_reset_registry',\n",
       " 'abstractclassmethod',\n",
       " 'abstractmethod',\n",
       " 'abstractproperty',\n",
       " 'abstractstaticmethod',\n",
       " 'get_cache_token',\n",
       " 'update_abstractmethods']"
      ]
     },
     "execution_count": 135,
     "metadata": {},
     "output_type": "execute_result"
    }
   ],
   "source": [
    "dir(abc)"
   ]
  },
  {
   "cell_type": "code",
   "execution_count": 129,
   "id": "dfc70e32",
   "metadata": {},
   "outputs": [
    {
     "data": {
      "text/plain": [
       "type"
      ]
     },
     "execution_count": 129,
     "metadata": {},
     "output_type": "execute_result"
    }
   ],
   "source": [
    "abc.ABC.__class__.__class__"
   ]
  },
  {
   "cell_type": "code",
   "execution_count": 24,
   "id": "bb26ac69",
   "metadata": {},
   "outputs": [
    {
     "data": {
      "text/plain": [
       "mappingproxy({'__new__': <function int.__new__(*args, **kwargs)>,\n",
       "              '__repr__': <slot wrapper '__repr__' of 'int' objects>,\n",
       "              '__hash__': <slot wrapper '__hash__' of 'int' objects>,\n",
       "              '__getattribute__': <slot wrapper '__getattribute__' of 'int' objects>,\n",
       "              '__lt__': <slot wrapper '__lt__' of 'int' objects>,\n",
       "              '__le__': <slot wrapper '__le__' of 'int' objects>,\n",
       "              '__eq__': <slot wrapper '__eq__' of 'int' objects>,\n",
       "              '__ne__': <slot wrapper '__ne__' of 'int' objects>,\n",
       "              '__gt__': <slot wrapper '__gt__' of 'int' objects>,\n",
       "              '__ge__': <slot wrapper '__ge__' of 'int' objects>,\n",
       "              '__add__': <slot wrapper '__add__' of 'int' objects>,\n",
       "              '__radd__': <slot wrapper '__radd__' of 'int' objects>,\n",
       "              '__sub__': <slot wrapper '__sub__' of 'int' objects>,\n",
       "              '__rsub__': <slot wrapper '__rsub__' of 'int' objects>,\n",
       "              '__mul__': <slot wrapper '__mul__' of 'int' objects>,\n",
       "              '__rmul__': <slot wrapper '__rmul__' of 'int' objects>,\n",
       "              '__mod__': <slot wrapper '__mod__' of 'int' objects>,\n",
       "              '__rmod__': <slot wrapper '__rmod__' of 'int' objects>,\n",
       "              '__divmod__': <slot wrapper '__divmod__' of 'int' objects>,\n",
       "              '__rdivmod__': <slot wrapper '__rdivmod__' of 'int' objects>,\n",
       "              '__pow__': <slot wrapper '__pow__' of 'int' objects>,\n",
       "              '__rpow__': <slot wrapper '__rpow__' of 'int' objects>,\n",
       "              '__neg__': <slot wrapper '__neg__' of 'int' objects>,\n",
       "              '__pos__': <slot wrapper '__pos__' of 'int' objects>,\n",
       "              '__abs__': <slot wrapper '__abs__' of 'int' objects>,\n",
       "              '__bool__': <slot wrapper '__bool__' of 'int' objects>,\n",
       "              '__invert__': <slot wrapper '__invert__' of 'int' objects>,\n",
       "              '__lshift__': <slot wrapper '__lshift__' of 'int' objects>,\n",
       "              '__rlshift__': <slot wrapper '__rlshift__' of 'int' objects>,\n",
       "              '__rshift__': <slot wrapper '__rshift__' of 'int' objects>,\n",
       "              '__rrshift__': <slot wrapper '__rrshift__' of 'int' objects>,\n",
       "              '__and__': <slot wrapper '__and__' of 'int' objects>,\n",
       "              '__rand__': <slot wrapper '__rand__' of 'int' objects>,\n",
       "              '__xor__': <slot wrapper '__xor__' of 'int' objects>,\n",
       "              '__rxor__': <slot wrapper '__rxor__' of 'int' objects>,\n",
       "              '__or__': <slot wrapper '__or__' of 'int' objects>,\n",
       "              '__ror__': <slot wrapper '__ror__' of 'int' objects>,\n",
       "              '__int__': <slot wrapper '__int__' of 'int' objects>,\n",
       "              '__float__': <slot wrapper '__float__' of 'int' objects>,\n",
       "              '__floordiv__': <slot wrapper '__floordiv__' of 'int' objects>,\n",
       "              '__rfloordiv__': <slot wrapper '__rfloordiv__' of 'int' objects>,\n",
       "              '__truediv__': <slot wrapper '__truediv__' of 'int' objects>,\n",
       "              '__rtruediv__': <slot wrapper '__rtruediv__' of 'int' objects>,\n",
       "              '__index__': <slot wrapper '__index__' of 'int' objects>,\n",
       "              'conjugate': <method 'conjugate' of 'int' objects>,\n",
       "              'bit_length': <method 'bit_length' of 'int' objects>,\n",
       "              'bit_count': <method 'bit_count' of 'int' objects>,\n",
       "              'to_bytes': <method 'to_bytes' of 'int' objects>,\n",
       "              'from_bytes': <method 'from_bytes' of 'int' objects>,\n",
       "              'as_integer_ratio': <method 'as_integer_ratio' of 'int' objects>,\n",
       "              '__trunc__': <method '__trunc__' of 'int' objects>,\n",
       "              '__floor__': <method '__floor__' of 'int' objects>,\n",
       "              '__ceil__': <method '__ceil__' of 'int' objects>,\n",
       "              '__round__': <method '__round__' of 'int' objects>,\n",
       "              '__getnewargs__': <method '__getnewargs__' of 'int' objects>,\n",
       "              '__format__': <method '__format__' of 'int' objects>,\n",
       "              '__sizeof__': <method '__sizeof__' of 'int' objects>,\n",
       "              'real': <attribute 'real' of 'int' objects>,\n",
       "              'imag': <attribute 'imag' of 'int' objects>,\n",
       "              'numerator': <attribute 'numerator' of 'int' objects>,\n",
       "              'denominator': <attribute 'denominator' of 'int' objects>,\n",
       "              '__doc__': \"int([x]) -> integer\\nint(x, base=10) -> integer\\n\\nConvert a number or string to an integer, or return 0 if no arguments\\nare given.  If x is a number, return x.__int__().  For floating point\\nnumbers, this truncates towards zero.\\n\\nIf x is not a number or if base is given, then x must be a string,\\nbytes, or bytearray instance representing an integer literal in the\\ngiven base.  The literal can be preceded by '+' or '-' and be surrounded\\nby whitespace.  The base defaults to 10.  Valid bases are 0 and 2-36.\\nBase 0 means to interpret the base from the string as an integer literal.\\n>>> int('0b100', base=0)\\n4\"})"
      ]
     },
     "execution_count": 24,
     "metadata": {},
     "output_type": "execute_result"
    }
   ],
   "source": [
    "int.__dict__"
   ]
  },
  {
   "cell_type": "code",
   "execution_count": 27,
   "id": "b2f61b99",
   "metadata": {
    "scrolled": true
   },
   "outputs": [
    {
     "data": {
      "text/plain": [
       "<method-wrapper '__add__' of str object at 0x11b65d4b0>"
      ]
     },
     "execution_count": 27,
     "metadata": {},
     "output_type": "execute_result"
    }
   ],
   "source": [
    "str(100).__add__"
   ]
  },
  {
   "cell_type": "code",
   "execution_count": 28,
   "id": "495c8d9d",
   "metadata": {},
   "outputs": [
    {
     "data": {
      "text/plain": [
       "mappingproxy({'__new__': <function list.__new__(*args, **kwargs)>,\n",
       "              '__repr__': <slot wrapper '__repr__' of 'list' objects>,\n",
       "              '__hash__': None,\n",
       "              '__getattribute__': <slot wrapper '__getattribute__' of 'list' objects>,\n",
       "              '__lt__': <slot wrapper '__lt__' of 'list' objects>,\n",
       "              '__le__': <slot wrapper '__le__' of 'list' objects>,\n",
       "              '__eq__': <slot wrapper '__eq__' of 'list' objects>,\n",
       "              '__ne__': <slot wrapper '__ne__' of 'list' objects>,\n",
       "              '__gt__': <slot wrapper '__gt__' of 'list' objects>,\n",
       "              '__ge__': <slot wrapper '__ge__' of 'list' objects>,\n",
       "              '__iter__': <slot wrapper '__iter__' of 'list' objects>,\n",
       "              '__init__': <slot wrapper '__init__' of 'list' objects>,\n",
       "              '__len__': <slot wrapper '__len__' of 'list' objects>,\n",
       "              '__getitem__': <method '__getitem__' of 'list' objects>,\n",
       "              '__setitem__': <slot wrapper '__setitem__' of 'list' objects>,\n",
       "              '__delitem__': <slot wrapper '__delitem__' of 'list' objects>,\n",
       "              '__add__': <slot wrapper '__add__' of 'list' objects>,\n",
       "              '__mul__': <slot wrapper '__mul__' of 'list' objects>,\n",
       "              '__rmul__': <slot wrapper '__rmul__' of 'list' objects>,\n",
       "              '__contains__': <slot wrapper '__contains__' of 'list' objects>,\n",
       "              '__iadd__': <slot wrapper '__iadd__' of 'list' objects>,\n",
       "              '__imul__': <slot wrapper '__imul__' of 'list' objects>,\n",
       "              '__reversed__': <method '__reversed__' of 'list' objects>,\n",
       "              '__sizeof__': <method '__sizeof__' of 'list' objects>,\n",
       "              'clear': <method 'clear' of 'list' objects>,\n",
       "              'copy': <method 'copy' of 'list' objects>,\n",
       "              'append': <method 'append' of 'list' objects>,\n",
       "              'insert': <method 'insert' of 'list' objects>,\n",
       "              'extend': <method 'extend' of 'list' objects>,\n",
       "              'pop': <method 'pop' of 'list' objects>,\n",
       "              'remove': <method 'remove' of 'list' objects>,\n",
       "              'index': <method 'index' of 'list' objects>,\n",
       "              'count': <method 'count' of 'list' objects>,\n",
       "              'reverse': <method 'reverse' of 'list' objects>,\n",
       "              'sort': <method 'sort' of 'list' objects>,\n",
       "              '__class_getitem__': <method '__class_getitem__' of 'list' objects>,\n",
       "              '__doc__': 'Built-in mutable sequence.\\n\\nIf no argument is given, the constructor creates a new empty list.\\nThe argument must be an iterable if specified.'})"
      ]
     },
     "execution_count": 28,
     "metadata": {},
     "output_type": "execute_result"
    }
   ],
   "source": [
    "list.__dict__"
   ]
  },
  {
   "cell_type": "code",
   "execution_count": 29,
   "id": "027442bf",
   "metadata": {},
   "outputs": [
    {
     "data": {
      "text/plain": [
       "<method-wrapper '__add__' of list object at 0x11b8e5940>"
      ]
     },
     "execution_count": 29,
     "metadata": {},
     "output_type": "execute_result"
    }
   ],
   "source": [
    "list('str').__add__"
   ]
  },
  {
   "cell_type": "code",
   "execution_count": 30,
   "id": "9b1d907c",
   "metadata": {},
   "outputs": [],
   "source": [
    "import numpy as np"
   ]
  },
  {
   "cell_type": "code",
   "execution_count": 31,
   "id": "d081be9a",
   "metadata": {},
   "outputs": [],
   "source": [
    "ar1 = np.array([1,2,3])"
   ]
  },
  {
   "cell_type": "code",
   "execution_count": 34,
   "id": "66c62578",
   "metadata": {},
   "outputs": [
    {
     "data": {
      "text/plain": [
       "True"
      ]
     },
     "execution_count": 34,
     "metadata": {},
     "output_type": "execute_result"
    }
   ],
   "source": [
    "isinstance(ar1, np.ndarray)"
   ]
  },
  {
   "cell_type": "code",
   "execution_count": 32,
   "id": "7f0098f7",
   "metadata": {},
   "outputs": [
    {
     "data": {
      "text/plain": [
       "mappingproxy({'__new__': <function ndarray.__new__(*args, **kwargs)>,\n",
       "              '__repr__': <slot wrapper '__repr__' of 'numpy.ndarray' objects>,\n",
       "              '__str__': <slot wrapper '__str__' of 'numpy.ndarray' objects>,\n",
       "              '__lt__': <slot wrapper '__lt__' of 'numpy.ndarray' objects>,\n",
       "              '__le__': <slot wrapper '__le__' of 'numpy.ndarray' objects>,\n",
       "              '__eq__': <slot wrapper '__eq__' of 'numpy.ndarray' objects>,\n",
       "              '__ne__': <slot wrapper '__ne__' of 'numpy.ndarray' objects>,\n",
       "              '__gt__': <slot wrapper '__gt__' of 'numpy.ndarray' objects>,\n",
       "              '__ge__': <slot wrapper '__ge__' of 'numpy.ndarray' objects>,\n",
       "              '__iter__': <slot wrapper '__iter__' of 'numpy.ndarray' objects>,\n",
       "              '__add__': <slot wrapper '__add__' of 'numpy.ndarray' objects>,\n",
       "              '__radd__': <slot wrapper '__radd__' of 'numpy.ndarray' objects>,\n",
       "              '__sub__': <slot wrapper '__sub__' of 'numpy.ndarray' objects>,\n",
       "              '__rsub__': <slot wrapper '__rsub__' of 'numpy.ndarray' objects>,\n",
       "              '__mul__': <slot wrapper '__mul__' of 'numpy.ndarray' objects>,\n",
       "              '__rmul__': <slot wrapper '__rmul__' of 'numpy.ndarray' objects>,\n",
       "              '__mod__': <slot wrapper '__mod__' of 'numpy.ndarray' objects>,\n",
       "              '__rmod__': <slot wrapper '__rmod__' of 'numpy.ndarray' objects>,\n",
       "              '__divmod__': <slot wrapper '__divmod__' of 'numpy.ndarray' objects>,\n",
       "              '__rdivmod__': <slot wrapper '__rdivmod__' of 'numpy.ndarray' objects>,\n",
       "              '__pow__': <slot wrapper '__pow__' of 'numpy.ndarray' objects>,\n",
       "              '__rpow__': <slot wrapper '__rpow__' of 'numpy.ndarray' objects>,\n",
       "              '__neg__': <slot wrapper '__neg__' of 'numpy.ndarray' objects>,\n",
       "              '__pos__': <slot wrapper '__pos__' of 'numpy.ndarray' objects>,\n",
       "              '__abs__': <slot wrapper '__abs__' of 'numpy.ndarray' objects>,\n",
       "              '__bool__': <slot wrapper '__bool__' of 'numpy.ndarray' objects>,\n",
       "              '__invert__': <slot wrapper '__invert__' of 'numpy.ndarray' objects>,\n",
       "              '__lshift__': <slot wrapper '__lshift__' of 'numpy.ndarray' objects>,\n",
       "              '__rlshift__': <slot wrapper '__rlshift__' of 'numpy.ndarray' objects>,\n",
       "              '__rshift__': <slot wrapper '__rshift__' of 'numpy.ndarray' objects>,\n",
       "              '__rrshift__': <slot wrapper '__rrshift__' of 'numpy.ndarray' objects>,\n",
       "              '__and__': <slot wrapper '__and__' of 'numpy.ndarray' objects>,\n",
       "              '__rand__': <slot wrapper '__rand__' of 'numpy.ndarray' objects>,\n",
       "              '__xor__': <slot wrapper '__xor__' of 'numpy.ndarray' objects>,\n",
       "              '__rxor__': <slot wrapper '__rxor__' of 'numpy.ndarray' objects>,\n",
       "              '__or__': <slot wrapper '__or__' of 'numpy.ndarray' objects>,\n",
       "              '__ror__': <slot wrapper '__ror__' of 'numpy.ndarray' objects>,\n",
       "              '__int__': <slot wrapper '__int__' of 'numpy.ndarray' objects>,\n",
       "              '__float__': <slot wrapper '__float__' of 'numpy.ndarray' objects>,\n",
       "              '__iadd__': <slot wrapper '__iadd__' of 'numpy.ndarray' objects>,\n",
       "              '__isub__': <slot wrapper '__isub__' of 'numpy.ndarray' objects>,\n",
       "              '__imul__': <slot wrapper '__imul__' of 'numpy.ndarray' objects>,\n",
       "              '__imod__': <slot wrapper '__imod__' of 'numpy.ndarray' objects>,\n",
       "              '__ipow__': <slot wrapper '__ipow__' of 'numpy.ndarray' objects>,\n",
       "              '__ilshift__': <slot wrapper '__ilshift__' of 'numpy.ndarray' objects>,\n",
       "              '__irshift__': <slot wrapper '__irshift__' of 'numpy.ndarray' objects>,\n",
       "              '__iand__': <slot wrapper '__iand__' of 'numpy.ndarray' objects>,\n",
       "              '__ixor__': <slot wrapper '__ixor__' of 'numpy.ndarray' objects>,\n",
       "              '__ior__': <slot wrapper '__ior__' of 'numpy.ndarray' objects>,\n",
       "              '__floordiv__': <slot wrapper '__floordiv__' of 'numpy.ndarray' objects>,\n",
       "              '__rfloordiv__': <slot wrapper '__rfloordiv__' of 'numpy.ndarray' objects>,\n",
       "              '__truediv__': <slot wrapper '__truediv__' of 'numpy.ndarray' objects>,\n",
       "              '__rtruediv__': <slot wrapper '__rtruediv__' of 'numpy.ndarray' objects>,\n",
       "              '__ifloordiv__': <slot wrapper '__ifloordiv__' of 'numpy.ndarray' objects>,\n",
       "              '__itruediv__': <slot wrapper '__itruediv__' of 'numpy.ndarray' objects>,\n",
       "              '__index__': <slot wrapper '__index__' of 'numpy.ndarray' objects>,\n",
       "              '__matmul__': <slot wrapper '__matmul__' of 'numpy.ndarray' objects>,\n",
       "              '__rmatmul__': <slot wrapper '__rmatmul__' of 'numpy.ndarray' objects>,\n",
       "              '__imatmul__': <slot wrapper '__imatmul__' of 'numpy.ndarray' objects>,\n",
       "              '__len__': <slot wrapper '__len__' of 'numpy.ndarray' objects>,\n",
       "              '__getitem__': <slot wrapper '__getitem__' of 'numpy.ndarray' objects>,\n",
       "              '__setitem__': <slot wrapper '__setitem__' of 'numpy.ndarray' objects>,\n",
       "              '__delitem__': <slot wrapper '__delitem__' of 'numpy.ndarray' objects>,\n",
       "              '__contains__': <slot wrapper '__contains__' of 'numpy.ndarray' objects>,\n",
       "              '__array__': <method '__array__' of 'numpy.ndarray' objects>,\n",
       "              '__array_prepare__': <method '__array_prepare__' of 'numpy.ndarray' objects>,\n",
       "              '__array_finalize__': <method '__array_finalize__' of 'numpy.ndarray' objects>,\n",
       "              '__array_wrap__': <method '__array_wrap__' of 'numpy.ndarray' objects>,\n",
       "              '__array_ufunc__': <method '__array_ufunc__' of 'numpy.ndarray' objects>,\n",
       "              '__array_function__': <method '__array_function__' of 'numpy.ndarray' objects>,\n",
       "              '__sizeof__': <method '__sizeof__' of 'numpy.ndarray' objects>,\n",
       "              '__copy__': <method '__copy__' of 'numpy.ndarray' objects>,\n",
       "              '__deepcopy__': <method '__deepcopy__' of 'numpy.ndarray' objects>,\n",
       "              '__reduce__': <method '__reduce__' of 'numpy.ndarray' objects>,\n",
       "              '__reduce_ex__': <method '__reduce_ex__' of 'numpy.ndarray' objects>,\n",
       "              '__setstate__': <method '__setstate__' of 'numpy.ndarray' objects>,\n",
       "              'dumps': <method 'dumps' of 'numpy.ndarray' objects>,\n",
       "              'dump': <method 'dump' of 'numpy.ndarray' objects>,\n",
       "              '__complex__': <method '__complex__' of 'numpy.ndarray' objects>,\n",
       "              '__format__': <method '__format__' of 'numpy.ndarray' objects>,\n",
       "              '__class_getitem__': <method '__class_getitem__' of 'numpy.ndarray' objects>,\n",
       "              'all': <method 'all' of 'numpy.ndarray' objects>,\n",
       "              'any': <method 'any' of 'numpy.ndarray' objects>,\n",
       "              'argmax': <method 'argmax' of 'numpy.ndarray' objects>,\n",
       "              'argmin': <method 'argmin' of 'numpy.ndarray' objects>,\n",
       "              'argpartition': <method 'argpartition' of 'numpy.ndarray' objects>,\n",
       "              'argsort': <method 'argsort' of 'numpy.ndarray' objects>,\n",
       "              'astype': <method 'astype' of 'numpy.ndarray' objects>,\n",
       "              'byteswap': <method 'byteswap' of 'numpy.ndarray' objects>,\n",
       "              'choose': <method 'choose' of 'numpy.ndarray' objects>,\n",
       "              'clip': <method 'clip' of 'numpy.ndarray' objects>,\n",
       "              'compress': <method 'compress' of 'numpy.ndarray' objects>,\n",
       "              'conj': <method 'conj' of 'numpy.ndarray' objects>,\n",
       "              'conjugate': <method 'conjugate' of 'numpy.ndarray' objects>,\n",
       "              'copy': <method 'copy' of 'numpy.ndarray' objects>,\n",
       "              'cumprod': <method 'cumprod' of 'numpy.ndarray' objects>,\n",
       "              'cumsum': <method 'cumsum' of 'numpy.ndarray' objects>,\n",
       "              'diagonal': <method 'diagonal' of 'numpy.ndarray' objects>,\n",
       "              'dot': <method 'dot' of 'numpy.ndarray' objects>,\n",
       "              'fill': <method 'fill' of 'numpy.ndarray' objects>,\n",
       "              'flatten': <method 'flatten' of 'numpy.ndarray' objects>,\n",
       "              'getfield': <method 'getfield' of 'numpy.ndarray' objects>,\n",
       "              'item': <method 'item' of 'numpy.ndarray' objects>,\n",
       "              'itemset': <method 'itemset' of 'numpy.ndarray' objects>,\n",
       "              'max': <method 'max' of 'numpy.ndarray' objects>,\n",
       "              'mean': <method 'mean' of 'numpy.ndarray' objects>,\n",
       "              'min': <method 'min' of 'numpy.ndarray' objects>,\n",
       "              'newbyteorder': <method 'newbyteorder' of 'numpy.ndarray' objects>,\n",
       "              'nonzero': <method 'nonzero' of 'numpy.ndarray' objects>,\n",
       "              'partition': <method 'partition' of 'numpy.ndarray' objects>,\n",
       "              'prod': <method 'prod' of 'numpy.ndarray' objects>,\n",
       "              'ptp': <method 'ptp' of 'numpy.ndarray' objects>,\n",
       "              'put': <method 'put' of 'numpy.ndarray' objects>,\n",
       "              'ravel': <method 'ravel' of 'numpy.ndarray' objects>,\n",
       "              'repeat': <method 'repeat' of 'numpy.ndarray' objects>,\n",
       "              'reshape': <method 'reshape' of 'numpy.ndarray' objects>,\n",
       "              'resize': <method 'resize' of 'numpy.ndarray' objects>,\n",
       "              'round': <method 'round' of 'numpy.ndarray' objects>,\n",
       "              'searchsorted': <method 'searchsorted' of 'numpy.ndarray' objects>,\n",
       "              'setfield': <method 'setfield' of 'numpy.ndarray' objects>,\n",
       "              'setflags': <method 'setflags' of 'numpy.ndarray' objects>,\n",
       "              'sort': <method 'sort' of 'numpy.ndarray' objects>,\n",
       "              'squeeze': <method 'squeeze' of 'numpy.ndarray' objects>,\n",
       "              'std': <method 'std' of 'numpy.ndarray' objects>,\n",
       "              'sum': <method 'sum' of 'numpy.ndarray' objects>,\n",
       "              'swapaxes': <method 'swapaxes' of 'numpy.ndarray' objects>,\n",
       "              'take': <method 'take' of 'numpy.ndarray' objects>,\n",
       "              'tobytes': <method 'tobytes' of 'numpy.ndarray' objects>,\n",
       "              'tofile': <method 'tofile' of 'numpy.ndarray' objects>,\n",
       "              'tolist': <method 'tolist' of 'numpy.ndarray' objects>,\n",
       "              'tostring': <method 'tostring' of 'numpy.ndarray' objects>,\n",
       "              'trace': <method 'trace' of 'numpy.ndarray' objects>,\n",
       "              'transpose': <method 'transpose' of 'numpy.ndarray' objects>,\n",
       "              'var': <method 'var' of 'numpy.ndarray' objects>,\n",
       "              'view': <method 'view' of 'numpy.ndarray' objects>,\n",
       "              '__dlpack__': <method '__dlpack__' of 'numpy.ndarray' objects>,\n",
       "              '__dlpack_device__': <method '__dlpack_device__' of 'numpy.ndarray' objects>,\n",
       "              'ndim': <attribute 'ndim' of 'numpy.ndarray' objects>,\n",
       "              'flags': <attribute 'flags' of 'numpy.ndarray' objects>,\n",
       "              'shape': <attribute 'shape' of 'numpy.ndarray' objects>,\n",
       "              'strides': <attribute 'strides' of 'numpy.ndarray' objects>,\n",
       "              'data': <attribute 'data' of 'numpy.ndarray' objects>,\n",
       "              'itemsize': <attribute 'itemsize' of 'numpy.ndarray' objects>,\n",
       "              'size': <attribute 'size' of 'numpy.ndarray' objects>,\n",
       "              'nbytes': <attribute 'nbytes' of 'numpy.ndarray' objects>,\n",
       "              'base': <attribute 'base' of 'numpy.ndarray' objects>,\n",
       "              'dtype': <attribute 'dtype' of 'numpy.ndarray' objects>,\n",
       "              'real': <attribute 'real' of 'numpy.ndarray' objects>,\n",
       "              'imag': <attribute 'imag' of 'numpy.ndarray' objects>,\n",
       "              'flat': <attribute 'flat' of 'numpy.ndarray' objects>,\n",
       "              'ctypes': <attribute 'ctypes' of 'numpy.ndarray' objects>,\n",
       "              'T': <attribute 'T' of 'numpy.ndarray' objects>,\n",
       "              '__array_interface__': <attribute '__array_interface__' of 'numpy.ndarray' objects>,\n",
       "              '__array_struct__': <attribute '__array_struct__' of 'numpy.ndarray' objects>,\n",
       "              '__array_priority__': <attribute '__array_priority__' of 'numpy.ndarray' objects>,\n",
       "              '__doc__': 'ndarray(shape, dtype=float, buffer=None, offset=0,\\n            strides=None, order=None)\\n\\n    An array object represents a multidimensional, homogeneous array\\n    of fixed-size items.  An associated data-type object describes the\\n    format of each element in the array (its byte-order, how many bytes it\\n    occupies in memory, whether it is an integer, a floating point number,\\n    or something else, etc.)\\n\\n    Arrays should be constructed using `array`, `zeros` or `empty` (refer\\n    to the See Also section below).  The parameters given here refer to\\n    a low-level method (`ndarray(...)`) for instantiating an array.\\n\\n    For more information, refer to the `numpy` module and examine the\\n    methods and attributes of an array.\\n\\n    Parameters\\n    ----------\\n    (for the __new__ method; see Notes below)\\n\\n    shape : tuple of ints\\n        Shape of created array.\\n    dtype : data-type, optional\\n        Any object that can be interpreted as a numpy data type.\\n    buffer : object exposing buffer interface, optional\\n        Used to fill the array with data.\\n    offset : int, optional\\n        Offset of array data in buffer.\\n    strides : tuple of ints, optional\\n        Strides of data in memory.\\n    order : {\\'C\\', \\'F\\'}, optional\\n        Row-major (C-style) or column-major (Fortran-style) order.\\n\\n    Attributes\\n    ----------\\n    T : ndarray\\n        Transpose of the array.\\n    data : buffer\\n        The array\\'s elements, in memory.\\n    dtype : dtype object\\n        Describes the format of the elements in the array.\\n    flags : dict\\n        Dictionary containing information related to memory use, e.g.,\\n        \\'C_CONTIGUOUS\\', \\'OWNDATA\\', \\'WRITEABLE\\', etc.\\n    flat : numpy.flatiter object\\n        Flattened version of the array as an iterator.  The iterator\\n        allows assignments, e.g., ``x.flat = 3`` (See `ndarray.flat` for\\n        assignment examples; TODO).\\n    imag : ndarray\\n        Imaginary part of the array.\\n    real : ndarray\\n        Real part of the array.\\n    size : int\\n        Number of elements in the array.\\n    itemsize : int\\n        The memory use of each array element in bytes.\\n    nbytes : int\\n        The total number of bytes required to store the array data,\\n        i.e., ``itemsize * size``.\\n    ndim : int\\n        The array\\'s number of dimensions.\\n    shape : tuple of ints\\n        Shape of the array.\\n    strides : tuple of ints\\n        The step-size required to move from one element to the next in\\n        memory. For example, a contiguous ``(3, 4)`` array of type\\n        ``int16`` in C-order has strides ``(8, 2)``.  This implies that\\n        to move from element to element in memory requires jumps of 2 bytes.\\n        To move from row-to-row, one needs to jump 8 bytes at a time\\n        (``2 * 4``).\\n    ctypes : ctypes object\\n        Class containing properties of the array needed for interaction\\n        with ctypes.\\n    base : ndarray\\n        If the array is a view into another array, that array is its `base`\\n        (unless that array is also a view).  The `base` array is where the\\n        array data is actually stored.\\n\\n    See Also\\n    --------\\n    array : Construct an array.\\n    zeros : Create an array, each element of which is zero.\\n    empty : Create an array, but leave its allocated memory unchanged (i.e.,\\n            it contains \"garbage\").\\n    dtype : Create a data-type.\\n    numpy.typing.NDArray : An ndarray alias :term:`generic <generic type>`\\n                           w.r.t. its `dtype.type <numpy.dtype.type>`.\\n\\n    Notes\\n    -----\\n    There are two modes of creating an array using ``__new__``:\\n\\n    1. If `buffer` is None, then only `shape`, `dtype`, and `order`\\n       are used.\\n    2. If `buffer` is an object exposing the buffer interface, then\\n       all keywords are interpreted.\\n\\n    No ``__init__`` method is needed because the array is fully initialized\\n    after the ``__new__`` method.\\n\\n    Examples\\n    --------\\n    These examples illustrate the low-level `ndarray` constructor.  Refer\\n    to the `See Also` section above for easier ways of constructing an\\n    ndarray.\\n\\n    First mode, `buffer` is None:\\n\\n    >>> np.ndarray(shape=(2,2), dtype=float, order=\\'F\\')\\n    array([[0.0e+000, 0.0e+000], # random\\n           [     nan, 2.5e-323]])\\n\\n    Second mode:\\n\\n    >>> np.ndarray((2,), buffer=np.array([1,2,3]),\\n    ...            offset=np.int_().itemsize,\\n    ...            dtype=int) # offset = 1*itemsize, i.e. skip first element\\n    array([2, 3])',\n",
       "              '__hash__': None})"
      ]
     },
     "execution_count": 32,
     "metadata": {},
     "output_type": "execute_result"
    }
   ],
   "source": [
    "np.ndarray.__dict__"
   ]
  },
  {
   "cell_type": "markdown",
   "id": "fb2e4bde",
   "metadata": {},
   "source": [
    "## 불변 클래스 정의"
   ]
  },
  {
   "cell_type": "code",
   "execution_count": 74,
   "id": "9cc8c703",
   "metadata": {},
   "outputs": [],
   "source": [
    "class ddd :\n",
    "    __slots__ =('name', 'age')\n",
    "    def __init__(self, name,age) :\n",
    "        self.name = name\n",
    "        self.age = age\n",
    "        \n",
    "    def __getattr__(self,value) :\n",
    "        print(\"dict not defined\", value)"
   ]
  },
  {
   "cell_type": "code",
   "execution_count": 75,
   "id": "3430047d",
   "metadata": {},
   "outputs": [],
   "source": [
    "d = ddd(\"가을\", 33)"
   ]
  },
  {
   "cell_type": "code",
   "execution_count": 78,
   "id": "23b7cfff",
   "metadata": {},
   "outputs": [
    {
     "name": "stdout",
     "output_type": "stream",
     "text": [
      "'ddd' object has no attribute 'job'\n"
     ]
    }
   ],
   "source": [
    "try : \n",
    "    d.job = \"놀자\"\n",
    "except Exception as e :\n",
    "    print(e)"
   ]
  },
  {
   "cell_type": "code",
   "execution_count": 79,
   "id": "e4527918",
   "metadata": {},
   "outputs": [
    {
     "name": "stdout",
     "output_type": "stream",
     "text": [
      "dict not defined __dict__\n"
     ]
    }
   ],
   "source": [
    "d.__dict__"
   ]
  },
  {
   "cell_type": "code",
   "execution_count": null,
   "id": "e7cc7ef1",
   "metadata": {},
   "outputs": [],
   "source": []
  }
 ],
 "metadata": {
  "kernelspec": {
   "display_name": "Python 3 (ipykernel)",
   "language": "python",
   "name": "python3"
  },
  "language_info": {
   "codemirror_mode": {
    "name": "ipython",
    "version": 3
   },
   "file_extension": ".py",
   "mimetype": "text/x-python",
   "name": "python",
   "nbconvert_exporter": "python",
   "pygments_lexer": "ipython3",
   "version": "3.11.3"
  }
 },
 "nbformat": 4,
 "nbformat_minor": 5
}
