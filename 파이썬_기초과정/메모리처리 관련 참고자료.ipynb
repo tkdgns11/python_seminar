{
 "cells": [
  {
   "cell_type": "code",
   "execution_count": null,
   "id": "41aeb02e",
   "metadata": {},
   "outputs": [],
   "source": []
  },
  {
   "cell_type": "markdown",
   "id": "40cbd8e8",
   "metadata": {},
   "source": [
    "## 전역과 지역 네임스페이스\n",
    "\n",
    "https://www.askpython.com/python/python-namespace-variable-scope-resolution-legb\n",
    "\n",
    "\n",
    "https://techvidvan.com/tutorials/python-variable-scope/"
   ]
  },
  {
   "cell_type": "code",
   "execution_count": null,
   "id": "8dbd7584",
   "metadata": {},
   "outputs": [],
   "source": []
  },
  {
   "cell_type": "code",
   "execution_count": null,
   "id": "448931df",
   "metadata": {},
   "outputs": [],
   "source": []
  },
  {
   "cell_type": "markdown",
   "id": "2070bf57",
   "metadata": {},
   "source": [
    "## 파이썬 콜스택 처리 \n",
    "\n",
    "https://www.decodejava.com/python-exception-propagation.htm"
   ]
  },
  {
   "cell_type": "code",
   "execution_count": null,
   "id": "ba2a91c0",
   "metadata": {},
   "outputs": [],
   "source": []
  },
  {
   "cell_type": "markdown",
   "id": "53b9113f",
   "metadata": {},
   "source": [
    "## 모듈 네임스페이스 \n",
    "\n",
    "http://pytolearn.csd.auth.gr/p0-py/00/namemod.html"
   ]
  },
  {
   "cell_type": "code",
   "execution_count": null,
   "id": "a817d7ce",
   "metadata": {},
   "outputs": [],
   "source": []
  },
  {
   "cell_type": "markdown",
   "id": "3bb454f7",
   "metadata": {},
   "source": [
    "## 글로벌과 함수 프레임 처리 확인 \n",
    "\n",
    "https://stackoverflow.com/questions/38937721/global-frame-vs-stack-frame"
   ]
  },
  {
   "cell_type": "code",
   "execution_count": null,
   "id": "686f6e09",
   "metadata": {},
   "outputs": [],
   "source": []
  },
  {
   "cell_type": "markdown",
   "id": "ca53af45",
   "metadata": {},
   "source": [
    "## 클래스와 객체 메모리 생성 알아보기 \n",
    "\n",
    "https://hub-courses.pages.pasteur.fr/python_one_week_4_biologists/Object_Oriented_Programming.html"
   ]
  },
  {
   "cell_type": "code",
   "execution_count": null,
   "id": "2dc0baad",
   "metadata": {},
   "outputs": [],
   "source": []
  },
  {
   "cell_type": "markdown",
   "id": "41fe2a29",
   "metadata": {},
   "source": [
    "## 메모리 처리를 확인하는 사이트 \n",
    "\n",
    "https://pythontutor.com/"
   ]
  },
  {
   "cell_type": "code",
   "execution_count": null,
   "id": "3cc0e7a4",
   "metadata": {},
   "outputs": [],
   "source": []
  }
 ],
 "metadata": {
  "kernelspec": {
   "display_name": "Python 3 (ipykernel)",
   "language": "python",
   "name": "python3"
  },
  "language_info": {
   "codemirror_mode": {
    "name": "ipython",
    "version": 3
   },
   "file_extension": ".py",
   "mimetype": "text/x-python",
   "name": "python",
   "nbconvert_exporter": "python",
   "pygments_lexer": "ipython3",
   "version": "3.11.3"
  }
 },
 "nbformat": 4,
 "nbformat_minor": 5
}
