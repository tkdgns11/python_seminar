{
 "cells": [
  {
   "cell_type": "code",
   "execution_count": null,
   "id": "0eaaa801",
   "metadata": {},
   "outputs": [],
   "source": []
  },
  {
   "cell_type": "code",
   "execution_count": 4,
   "id": "9d6e91f5",
   "metadata": {},
   "outputs": [
    {
     "data": {
      "text/plain": [
       "'3.11.3'"
      ]
     },
     "execution_count": 4,
     "metadata": {},
     "output_type": "execute_result"
    }
   ],
   "source": [
    "import platform\n",
    "\n",
    "platform.python_version()"
   ]
  },
  {
   "cell_type": "markdown",
   "id": "d8675724",
   "metadata": {},
   "source": [
    "## 상속과 조합 \n",
    "- 객체 지향 프로그래밍에서 코드 재사용과 모듈화를 위한 두 가지 주요 기법입니다. \n",
    "- 둘 다 코드를 구조화하고 확장하는 방법을 제공하지만, 다른 방식으로 동작합니다.\n",
    "\n",
    "### 상속 (Inheritance):\n",
    "- 상속은 기존 클래스의 특성(속성과 메서드)을 새로운 클래스에 물려주는 개념입니다. \n",
    "- 부모 클래스(또는 기본 클래스)의 특성을 자식 클래스(또는 파생 클래스)가 상속받아 사용할 수 있습니다. \n",
    "- 이로써 기존 코드를 확장하고 변형하여 새로운 클래스를 작성할 수 있습니다. \n",
    "- 상속은 코드 재사용과 계층적 구조를 표현하기 위해 사용됩니다.\n",
    "\n",
    "### 조합 (Composition):\n",
    "- 조합은 클래스를 더 작은 구성요소로 분리하고, 필요한 기능을 다양한 클래스에서 가져와서 조합하는 개념입니다. \n",
    "- 클래스 간에 상호작용이 더 느슨하고 유연하게 이루어질 수 있도록 합니다. \n",
    "- 이를 통해 모듈화와 코드 재사용을 쉽게 할 수 있습니다. \n",
    "- 조합은 클래스의 구성을 강조하며, 보다 작은 단위의 클래스들을 조합하여 큰 기능을 만드는 방식입니다.\n",
    "\n",
    "### 의존관계(Dependency) \n",
    "- 객체 지향 프로그래밍에서 클래스나 모듈 간에 서로 상호작용하거나 의존하는 관계를 의미합니다. \n",
    "- 한 클래스가 다른 클래스의 기능이나 데이터를 사용하거나 호출할 때, 이러한 관계를 의존관계라고 합니다. \n",
    "- 의존관계는 프로그램의 모듈화와 유연성을 강화하기 위해 중요한 개념입니다."
   ]
  },
  {
   "cell_type": "code",
   "execution_count": null,
   "id": "01b7a83b",
   "metadata": {},
   "outputs": [],
   "source": []
  },
  {
   "cell_type": "markdown",
   "id": "3fbd7ee6",
   "metadata": {},
   "source": [
    "# 1. 클래스 상속\n",
    "\n",
    "- 클래스를 재사용할 수 있도록 관계를 구성한다."
   ]
  },
  {
   "cell_type": "code",
   "execution_count": null,
   "id": "67b142a8",
   "metadata": {},
   "outputs": [],
   "source": []
  },
  {
   "cell_type": "markdown",
   "id": "062c9590",
   "metadata": {},
   "source": [
    "## 1-1 super 클래스 \n",
    "\n",
    "- 파이썬에서 상속 관계에서 부모 클래스의 메서드를 호출하기 위해 사용되는 내장 클래스입니다. \n",
    "- 현재 클래스의 부모 클래스의 메서드를 호출하거나 접근할 수 있습니다. \n",
    "- 다중 상속 시에 특히 유용하며, 메서드 해결 순서(Method Resolution Order, MRO)에 따라 올바른 부모 클래스의 메서드를 호출합니다.\n"
   ]
  },
  {
   "cell_type": "markdown",
   "id": "41756629",
   "metadata": {},
   "source": [
    "## super의 주요 특징:\n",
    "\n",
    "## 다중 상속에서의 사용: \n",
    "- 다중 상속 시에 여러 부모 클래스의 메서드를 조합해서 사용할 때, super()를 사용하여 메서드 해결 순서(MRO)에 따라 올바른 메서드를 호출할 수 있습니다.\n",
    "\n",
    "### MRO에 따른 호출: \n",
    "- super() 함수는 메서드 해결 순서에 따라 최상위 부모 클래스의 메서드를 호출합니다. \n",
    "- 메서드 해결 순서는 C3 선형화 알고리즘을 통해 결정됩니다.\n",
    "\n",
    "### 클래스 메서드와 정적 메서드에서 사용: \n",
    "- 클래스 메서드나 정적 메서드에서도 super()를 사용하여 부모 클래스의 메서드에 접근할 수 있습니다."
   ]
  },
  {
   "cell_type": "code",
   "execution_count": null,
   "id": "1283c923",
   "metadata": {},
   "outputs": [],
   "source": []
  },
  {
   "cell_type": "markdown",
   "id": "0d9dd169",
   "metadata": {},
   "source": [
    "## 상속관계 확인"
   ]
  },
  {
   "cell_type": "code",
   "execution_count": 9,
   "id": "0ab1c543",
   "metadata": {},
   "outputs": [
    {
     "data": {
      "text/plain": [
       "True"
      ]
     },
     "execution_count": 9,
     "metadata": {},
     "output_type": "execute_result"
    }
   ],
   "source": [
    "issubclass(bool,int)"
   ]
  },
  {
   "cell_type": "markdown",
   "id": "addfbefd",
   "metadata": {},
   "source": [
    "## 부모 클래스의 속성 사용하기 "
   ]
  },
  {
   "cell_type": "code",
   "execution_count": 8,
   "id": "56251b4f",
   "metadata": {},
   "outputs": [
    {
     "data": {
      "text/plain": [
       "1"
      ]
     },
     "execution_count": 8,
     "metadata": {},
     "output_type": "execute_result"
    }
   ],
   "source": [
    "super(bool,True).real"
   ]
  },
  {
   "cell_type": "markdown",
   "id": "3a5af84a",
   "metadata": {},
   "source": [
    "## 1-2 상속관계 \n",
    "\n",
    "- 파이썬은 다중상속을 지원하는 객체 지향 프로그래밍 언어입니다. \n",
    "- 다중상속은 하나 이상의 부모 클래스로부터 속성과 메서드를 상속받는 기능을 의미합니다. \n",
    "- 이를 통해 여러 부모 클래스의 특성을 하나의 클래스에서 모두 사용할 수 있습니다. \n",
    "- 다중상속을 사용하면 코드 재사용성을 높이고 다양한 클래스 간의 관계를 표현할 수 있습니다."
   ]
  },
  {
   "cell_type": "markdown",
   "id": "b57d893a",
   "metadata": {},
   "source": [
    "## 1-2-1 부모클래스 정의\n",
    "\n",
    "- 먼저 정의된 클래스의 속성과 메서드를 재사용한다"
   ]
  },
  {
   "cell_type": "code",
   "execution_count": 2,
   "id": "bb133db6",
   "metadata": {},
   "outputs": [],
   "source": [
    "class Parent :\n",
    "    def __init__(self,name,age) :\n",
    "        self.name = name;\n",
    "        self.age = age;\n",
    "        \n",
    "    def getInfo(self) :\n",
    "        return self.name, self.age"
   ]
  },
  {
   "cell_type": "code",
   "execution_count": 6,
   "id": "d01fc2df",
   "metadata": {},
   "outputs": [
    {
     "data": {
      "text/plain": [
       "type"
      ]
     },
     "execution_count": 6,
     "metadata": {},
     "output_type": "execute_result"
    }
   ],
   "source": [
    "type(super)"
   ]
  },
  {
   "cell_type": "markdown",
   "id": "50adc245",
   "metadata": {},
   "source": [
    "## 1-2-2 자식 클래스 정의\n",
    "- 추가적인 속성과 메서드를 추가해서 사용한다"
   ]
  },
  {
   "cell_type": "code",
   "execution_count": 12,
   "id": "ab307f03",
   "metadata": {},
   "outputs": [],
   "source": [
    "class Child (Parent):\n",
    "    def __init__(self,name,age,job) :\n",
    "        super().__init__(name,age)\n",
    "        self.job = job\n",
    "        \n",
    "    def getJob(self) :\n",
    "        return self.job"
   ]
  },
  {
   "cell_type": "code",
   "execution_count": 13,
   "id": "b7acd5bb",
   "metadata": {},
   "outputs": [
    {
     "name": "stdout",
     "output_type": "stream",
     "text": [
      "Help on class super in module builtins:\n",
      "\n",
      "class super(object)\n",
      " |  super() -> same as super(__class__, <first argument>)\n",
      " |  super(type) -> unbound super object\n",
      " |  super(type, obj) -> bound super object; requires isinstance(obj, type)\n",
      " |  super(type, type2) -> bound super object; requires issubclass(type2, type)\n",
      " |  Typical use to call a cooperative superclass method:\n",
      " |  class C(B):\n",
      " |      def meth(self, arg):\n",
      " |          super().meth(arg)\n",
      " |  This works for class methods too:\n",
      " |  class C(B):\n",
      " |      @classmethod\n",
      " |      def cmeth(cls, arg):\n",
      " |          super().cmeth(arg)\n",
      " |  \n",
      " |  Methods defined here:\n",
      " |  \n",
      " |  __get__(self, instance, owner=None, /)\n",
      " |      Return an attribute of instance, which is of type owner.\n",
      " |  \n",
      " |  __getattribute__(self, name, /)\n",
      " |      Return getattr(self, name).\n",
      " |  \n",
      " |  __init__(self, /, *args, **kwargs)\n",
      " |      Initialize self.  See help(type(self)) for accurate signature.\n",
      " |  \n",
      " |  __repr__(self, /)\n",
      " |      Return repr(self).\n",
      " |  \n",
      " |  ----------------------------------------------------------------------\n",
      " |  Static methods defined here:\n",
      " |  \n",
      " |  __new__(*args, **kwargs) from builtins.type\n",
      " |      Create and return a new object.  See help(type) for accurate signature.\n",
      " |  \n",
      " |  ----------------------------------------------------------------------\n",
      " |  Data descriptors defined here:\n",
      " |  \n",
      " |  __self__\n",
      " |      the instance invoking super(); may be None\n",
      " |  \n",
      " |  __self_class__\n",
      " |      the type of the instance invoking super(); may be None\n",
      " |  \n",
      " |  __thisclass__\n",
      " |      the class invoking super()\n",
      "\n"
     ]
    }
   ],
   "source": [
    "help(super)"
   ]
  },
  {
   "cell_type": "code",
   "execution_count": 15,
   "id": "158c440b",
   "metadata": {},
   "outputs": [
    {
     "data": {
      "text/plain": [
       "(__main__.Parent,)"
      ]
     },
     "execution_count": 15,
     "metadata": {},
     "output_type": "execute_result"
    }
   ],
   "source": [
    "Child.__bases__"
   ]
  },
  {
   "cell_type": "code",
   "execution_count": null,
   "id": "76637e97",
   "metadata": {},
   "outputs": [],
   "source": []
  },
  {
   "cell_type": "code",
   "execution_count": 17,
   "id": "162d6a90",
   "metadata": {},
   "outputs": [
    {
     "data": {
      "text/plain": [
       "__main__.Child"
      ]
     },
     "execution_count": 17,
     "metadata": {},
     "output_type": "execute_result"
    }
   ],
   "source": [
    "super(Child,Child(33,\"aaa\",\"bbb\")).__thisclass__"
   ]
  },
  {
   "cell_type": "code",
   "execution_count": 16,
   "id": "db2d49b5",
   "metadata": {},
   "outputs": [
    {
     "data": {
      "text/plain": [
       "['__class__',\n",
       " '__delattr__',\n",
       " '__dir__',\n",
       " '__doc__',\n",
       " '__eq__',\n",
       " '__format__',\n",
       " '__ge__',\n",
       " '__get__',\n",
       " '__getattribute__',\n",
       " '__getstate__',\n",
       " '__gt__',\n",
       " '__hash__',\n",
       " '__init__',\n",
       " '__init_subclass__',\n",
       " '__le__',\n",
       " '__lt__',\n",
       " '__ne__',\n",
       " '__new__',\n",
       " '__reduce__',\n",
       " '__reduce_ex__',\n",
       " '__repr__',\n",
       " '__self__',\n",
       " '__self_class__',\n",
       " '__setattr__',\n",
       " '__sizeof__',\n",
       " '__str__',\n",
       " '__subclasshook__',\n",
       " '__thisclass__',\n",
       " 'age',\n",
       " 'job',\n",
       " 'name']"
      ]
     },
     "execution_count": 16,
     "metadata": {},
     "output_type": "execute_result"
    }
   ],
   "source": [
    "dir(super(Child,Child(33,\"aaa\",\"bbb\")))"
   ]
  },
  {
   "cell_type": "markdown",
   "id": "e674b6fa",
   "metadata": {},
   "source": [
    "## 1-2-3 상속관계 확인 \n",
    "\n",
    "- 두 클래스간의 관계가 상속여부를 확인한다"
   ]
  },
  {
   "cell_type": "code",
   "execution_count": 3,
   "id": "d9cc026a",
   "metadata": {},
   "outputs": [
    {
     "data": {
      "text/plain": [
       "[__main__.Child]"
      ]
     },
     "execution_count": 3,
     "metadata": {},
     "output_type": "execute_result"
    }
   ],
   "source": [
    "Parent.__subclasses__()"
   ]
  },
  {
   "cell_type": "code",
   "execution_count": 4,
   "id": "ffa179bb",
   "metadata": {},
   "outputs": [
    {
     "data": {
      "text/plain": [
       "True"
      ]
     },
     "execution_count": 4,
     "metadata": {},
     "output_type": "execute_result"
    }
   ],
   "source": [
    "issubclass(Child,object)"
   ]
  },
  {
   "cell_type": "code",
   "execution_count": 5,
   "id": "42ef67af",
   "metadata": {},
   "outputs": [
    {
     "data": {
      "text/plain": [
       "True"
      ]
     },
     "execution_count": 5,
     "metadata": {},
     "output_type": "execute_result"
    }
   ],
   "source": [
    "issubclass(Child,Parent)"
   ]
  },
  {
   "cell_type": "markdown",
   "id": "7a7174f6",
   "metadata": {},
   "source": [
    "## 1-2-4 객체 생성 및 확인 "
   ]
  },
  {
   "cell_type": "code",
   "execution_count": 6,
   "id": "2e4690f2",
   "metadata": {},
   "outputs": [],
   "source": [
    "c = Child(\"이름\", 33, \"은행원\")"
   ]
  },
  {
   "cell_type": "code",
   "execution_count": 7,
   "id": "1cd34537",
   "metadata": {},
   "outputs": [
    {
     "data": {
      "text/plain": [
       "{'name': '이름', 'age': 33, 'job': '은행원'}"
      ]
     },
     "execution_count": 7,
     "metadata": {},
     "output_type": "execute_result"
    }
   ],
   "source": [
    "c.__dict__"
   ]
  },
  {
   "cell_type": "markdown",
   "id": "08af1325",
   "metadata": {},
   "source": [
    "## 1-2-5 인스턴스 관계 확인 \n",
    "\n",
    "- 클래스로 객체를 만들었는 지를 확인한다."
   ]
  },
  {
   "cell_type": "code",
   "execution_count": 8,
   "id": "1c8d9a48",
   "metadata": {},
   "outputs": [
    {
     "data": {
      "text/plain": [
       "True"
      ]
     },
     "execution_count": 8,
     "metadata": {},
     "output_type": "execute_result"
    }
   ],
   "source": [
    "isinstance(c,Parent)"
   ]
  },
  {
   "cell_type": "code",
   "execution_count": 9,
   "id": "1936a550",
   "metadata": {},
   "outputs": [
    {
     "data": {
      "text/plain": [
       "True"
      ]
     },
     "execution_count": 9,
     "metadata": {},
     "output_type": "execute_result"
    }
   ],
   "source": [
    "isinstance(c,Child)"
   ]
  },
  {
   "cell_type": "markdown",
   "id": "5d5804ac",
   "metadata": {},
   "source": [
    "## 1-3  추상클래스 상속 처리 "
   ]
  },
  {
   "cell_type": "code",
   "execution_count": 1,
   "id": "816775a8",
   "metadata": {},
   "outputs": [],
   "source": [
    "from numbers import Number\n",
    "\n",
    "class CustomNumber(Number):\n",
    "    def __init__(self, value):\n",
    "        self.value = value\n",
    "\n",
    "    def __float__(self):\n",
    "        return float(self.value)\n",
    "\n",
    "    def __int__(self):\n",
    "        return int(self.value)\n",
    "\n",
    "    def __add__(self, other):\n",
    "        return CustomNumber(self.value + other.value)\n",
    "\n",
    "    # 다른 메서드들도 구현...\n"
   ]
  },
  {
   "cell_type": "code",
   "execution_count": 3,
   "id": "f4f3b4f3",
   "metadata": {},
   "outputs": [
    {
     "name": "stdout",
     "output_type": "stream",
     "text": [
      "True\n",
      "True\n"
     ]
    }
   ],
   "source": [
    "\n",
    "num1 = CustomNumber(10)\n",
    "num2 = CustomNumber(10)\n",
    "result = num1 + num2\n",
    "\n",
    "print(isinstance(num1, Number))  # True\n",
    "print(isinstance(result, Number))  # True"
   ]
  },
  {
   "cell_type": "code",
   "execution_count": null,
   "id": "b87fbe5d",
   "metadata": {},
   "outputs": [],
   "source": []
  },
  {
   "cell_type": "markdown",
   "id": "1d6cce90",
   "metadata": {},
   "source": [
    "## 1-4 다중상속 "
   ]
  },
  {
   "cell_type": "code",
   "execution_count": 18,
   "id": "cf396701",
   "metadata": {},
   "outputs": [
    {
     "name": "stdout",
     "output_type": "stream",
     "text": [
      " 말하다 \n",
      " 모유를 제공한다 \n",
      " 알로 번식한다 \n"
     ]
    }
   ],
   "source": [
    "class Animal:\n",
    "    def speak(self):\n",
    "        print(\" 말하다 \")\n",
    "\n",
    "class Mammal(Animal):\n",
    "    def feed_milk(self):\n",
    "        print(\" 모유를 제공한다 \")\n",
    "\n",
    "class Bird(Animal):\n",
    "    def lay_eggs(self):\n",
    "        print(\" 알로 번식한다 \")\n",
    "\n",
    "class Platypus(Mammal, Bird):\n",
    "    pass\n",
    "\n",
    "platypus = Platypus()\n",
    "platypus.speak()       # Animal 클래스의 메서드 호출\n",
    "platypus.feed_milk()   # Mammal 클래스의 메서드 호출\n",
    "platypus.lay_eggs()   # Bird 클래스의 메서드 호출\n"
   ]
  },
  {
   "cell_type": "markdown",
   "id": "458172f8",
   "metadata": {},
   "source": [
    "## 1- 5 다중상속 클래스 선택해서 처리하기 \n",
    "\n",
    "### MRO는 Method Resolution Order의 약어로, 다중상속 관계에서 메서드 호출 순서를 결정하는 알고리즘\n",
    "\n",
    "- MRO는 클래스의 상속 관계에서 메서드를 찾는 순서를 정의하는데 사용\n",
    "- 클래스의 다이아몬드 상속과 같은 다중상속 시에도 올바른 메서드 호출 순서를 보장하기 위해 사용"
   ]
  },
  {
   "cell_type": "code",
   "execution_count": null,
   "id": "9afbba02",
   "metadata": {},
   "outputs": [],
   "source": []
  },
  {
   "cell_type": "code",
   "execution_count": 19,
   "id": "1a06698d",
   "metadata": {},
   "outputs": [],
   "source": [
    "class Animal:\n",
    "    def speak(self):\n",
    "        print(\"Animal speaks\")\n",
    "\n",
    "class Mammal(Animal):\n",
    "    def speak(self):\n",
    "        super().speak()\n",
    "        print(\"Mammal speaks\")\n",
    "\n",
    "class Bird(Animal):\n",
    "    def speak(self):\n",
    "        super().speak()\n",
    "        print(\"Bird speaks\")"
   ]
  },
  {
   "cell_type": "markdown",
   "id": "84f20e2c",
   "metadata": {},
   "source": [
    "### 다중상속에서 super로 첫번째   부모 클래스 선택하기 \n",
    "\n",
    "- 기본 super() 는 자기자신의 클래스와 객체인 self를 넣어서 실제 상속하는 클래스 선택 "
   ]
  },
  {
   "cell_type": "code",
   "execution_count": 21,
   "id": "1895d104",
   "metadata": {},
   "outputs": [
    {
     "name": "stdout",
     "output_type": "stream",
     "text": [
      "Animal speaks\n",
      "Bird speaks\n",
      "Platypus speaks\n"
     ]
    }
   ],
   "source": [
    "class Platypus1(Mammal, Bird):\n",
    "    def speak(self):\n",
    "        super(Mammal, self).speak()\n",
    "        print(\"Platypus speaks\")\n",
    "\n",
    "platypus = Platypus1()\n",
    "platypus.speak()"
   ]
  },
  {
   "cell_type": "code",
   "execution_count": 9,
   "id": "7834cf76",
   "metadata": {},
   "outputs": [
    {
     "data": {
      "text/plain": [
       "[__main__.Platypus1, __main__.Mammal, __main__.Bird, __main__.Animal, object]"
      ]
     },
     "execution_count": 9,
     "metadata": {},
     "output_type": "execute_result"
    }
   ],
   "source": [
    "Platypus1.mro()"
   ]
  },
  {
   "cell_type": "markdown",
   "id": "d2737cd2",
   "metadata": {},
   "source": [
    "### 다중상속에서 super 에서 두번째 부모 클래스 선택하기 \n",
    "\n",
    "- 기본 super() 는 자기자신의 클래스와 객체인 self를 넣어서 실제 상속하는 클래스 선택 "
   ]
  },
  {
   "cell_type": "code",
   "execution_count": 10,
   "id": "49488487",
   "metadata": {},
   "outputs": [
    {
     "name": "stdout",
     "output_type": "stream",
     "text": [
      "Animal speaks\n",
      "Bird speaks\n",
      "Platypus speaks\n"
     ]
    }
   ],
   "source": [
    "class Platypus2(Mammal, Bird):\n",
    "    def speak(self):\n",
    "        super(Mammal, self).speak()\n",
    "        print(\"Platypus speaks\")\n",
    "\n",
    "platypus = Platypus2()\n",
    "platypus.speak()\n"
   ]
  },
  {
   "cell_type": "code",
   "execution_count": 11,
   "id": "ec4deaf9",
   "metadata": {},
   "outputs": [
    {
     "data": {
      "text/plain": [
       "[__main__.Platypus2, __main__.Mammal, __main__.Bird, __main__.Animal, object]"
      ]
     },
     "execution_count": 11,
     "metadata": {},
     "output_type": "execute_result"
    }
   ],
   "source": [
    "Platypus2.mro()"
   ]
  },
  {
   "cell_type": "code",
   "execution_count": null,
   "id": "8217f738",
   "metadata": {},
   "outputs": [],
   "source": []
  },
  {
   "cell_type": "code",
   "execution_count": null,
   "id": "04b2df0c",
   "metadata": {},
   "outputs": [],
   "source": []
  },
  {
   "cell_type": "markdown",
   "id": "cffda86d",
   "metadata": {},
   "source": [
    "# 2. 클래스 조합 \n",
    "\n",
    "- 여러 클래스의 관계를 조합해서 하나의 기능을 처리하는 관계\n",
    "- "
   ]
  },
  {
   "cell_type": "markdown",
   "id": "d3d06532",
   "metadata": {},
   "source": [
    "## 2-1 결합관계 (Aggregation)\n",
    "\n",
    "- 파이썬에서 클래스 결합관계(Composition)는 한 클래스가 다른 클래스를 사용하는 관계를 나타냅니다. \n",
    "- 이는 \"uses-a\" 관계로 표현되며, 한 클래스가 다른 클래스의 객체를 생성하거나 메서드를 호출하여 기능을 구현하는 방식을 의미합니다. \n",
    "- 결합관계는 클래스 간의 느슨한 결합을 유지하며 코드의 모듈성과 재사용성을 높이는 데 도움이 됩니다."
   ]
  },
  {
   "cell_type": "markdown",
   "id": "6277c405",
   "metadata": {},
   "source": [
    "## 사용 클래스 작성"
   ]
  },
  {
   "cell_type": "code",
   "execution_count": 10,
   "id": "1d475a81",
   "metadata": {},
   "outputs": [],
   "source": [
    "class Salary:\n",
    "    def __init__(self, pay, bonus):\n",
    "        self.pay = pay\n",
    "        self.bonus = bonus\n",
    "  \n",
    "    def annual_salary(self):\n",
    "        return (self.pay*12)+self.bonus\n",
    "  "
   ]
  },
  {
   "cell_type": "markdown",
   "id": "c353b550",
   "metadata": {},
   "source": [
    "## 주 클래스 작성"
   ]
  },
  {
   "cell_type": "code",
   "execution_count": 11,
   "id": "dd0f8e79",
   "metadata": {},
   "outputs": [],
   "source": [
    "class EmployeeOne:\n",
    "    def __init__(self, name, age, sal):\n",
    "        self.name = name\n",
    "        self.age = age\n",
    "  \n",
    "        # initializing the sal parameter\n",
    "        self.agg_salary = sal   # Aggregation\n",
    "  \n",
    "    def total_sal(self):\n",
    "        return self.agg_salary.annual_salary()\n",
    "  "
   ]
  },
  {
   "cell_type": "markdown",
   "id": "f03dd401",
   "metadata": {},
   "source": [
    "## 상속관계 확인"
   ]
  },
  {
   "cell_type": "code",
   "execution_count": 12,
   "id": "1642a109",
   "metadata": {},
   "outputs": [
    {
     "data": {
      "text/plain": [
       "False"
      ]
     },
     "execution_count": 12,
     "metadata": {},
     "output_type": "execute_result"
    }
   ],
   "source": [
    "issubclass(Salary, EmployeeOne)"
   ]
  },
  {
   "cell_type": "markdown",
   "id": "0b0055bf",
   "metadata": {},
   "source": [
    "## 객체 생성 및 메서드 실행 "
   ]
  },
  {
   "cell_type": "code",
   "execution_count": 13,
   "id": "4d774f2c",
   "metadata": {},
   "outputs": [],
   "source": [
    "salary = Salary(10000, 1500)"
   ]
  },
  {
   "cell_type": "code",
   "execution_count": 14,
   "id": "a7d2fe7d",
   "metadata": {},
   "outputs": [],
   "source": [
    "emp = EmployeeOne('Geek', 25, salary)"
   ]
  },
  {
   "cell_type": "code",
   "execution_count": 15,
   "id": "de13515c",
   "metadata": {},
   "outputs": [
    {
     "name": "stdout",
     "output_type": "stream",
     "text": [
      "121500\n"
     ]
    }
   ],
   "source": [
    "print(emp.total_sal())"
   ]
  },
  {
   "cell_type": "markdown",
   "id": "aee26f40",
   "metadata": {},
   "source": [
    "## 2-2 조합관계 (Composition)\n",
    "\n",
    "- 클래스 조합관계(Composition)는 객체 지향 프로그래밍에서 두 클래스 간의 관계를 표현하는 방식 중 하나입니다. \n",
    "- 조합관계는 한 클래스가 다른 클래스를 포함하거나 구성하는 관계를 나타냅니다. \n",
    "- 이는 \"has-a\" 관계로 표현되며, 하나의 클래스가 다른 클래스의 일부분을 갖는 것을 의미합니다."
   ]
  },
  {
   "cell_type": "markdown",
   "id": "54be0740",
   "metadata": {},
   "source": [
    "## 사용대상 클래스 작성"
   ]
  },
  {
   "cell_type": "code",
   "execution_count": 16,
   "id": "44deef38",
   "metadata": {},
   "outputs": [],
   "source": [
    "class Salary:\n",
    "    def __init__(self, pay, bonus):\n",
    "        self.pay = pay\n",
    "        self.bonus = bonus\n",
    "  \n",
    "    def annual_salary(self):\n",
    "        return (self.pay*12)+self.bonus"
   ]
  },
  {
   "cell_type": "markdown",
   "id": "b98abf53",
   "metadata": {},
   "source": [
    "## 주 클래스 작성 "
   ]
  },
  {
   "cell_type": "code",
   "execution_count": 17,
   "id": "482712df",
   "metadata": {},
   "outputs": [],
   "source": [
    "class Employee:\n",
    "    def __init__(self, name, age, pay, bonus):\n",
    "        self.name = name\n",
    "        self.age = age\n",
    "  \n",
    "        self.obj_salary = Salary(pay, bonus)  # 조합을 위해서 생성자 내부에 사용대상 클래스의 객체를 작성 \n",
    "  \n",
    "    def total_sal(self):\n",
    "        return self.obj_salary.annual_salary()\n",
    "  "
   ]
  },
  {
   "cell_type": "markdown",
   "id": "fc6faf25",
   "metadata": {},
   "source": [
    "## 상속관계 여부 확인"
   ]
  },
  {
   "cell_type": "code",
   "execution_count": 18,
   "id": "e3552e09",
   "metadata": {},
   "outputs": [
    {
     "data": {
      "text/plain": [
       "False"
      ]
     },
     "execution_count": 18,
     "metadata": {},
     "output_type": "execute_result"
    }
   ],
   "source": [
    "issubclass(Salary, Employee)"
   ]
  },
  {
   "cell_type": "markdown",
   "id": "44715c2a",
   "metadata": {},
   "source": [
    "## 객체 생성하고 메서드 사용하기"
   ]
  },
  {
   "cell_type": "code",
   "execution_count": 19,
   "id": "170da4f1",
   "metadata": {},
   "outputs": [],
   "source": [
    "emp = Employee('Geek', 25, 10000, 1500)"
   ]
  },
  {
   "cell_type": "code",
   "execution_count": 20,
   "id": "b837c616",
   "metadata": {},
   "outputs": [
    {
     "name": "stdout",
     "output_type": "stream",
     "text": [
      "121500\n"
     ]
    }
   ],
   "source": [
    "print(emp.total_sal())"
   ]
  },
  {
   "cell_type": "markdown",
   "id": "fc238f19",
   "metadata": {},
   "source": [
    "## 2-3 의존관계 (Composition)\n",
    "\n",
    "- 클래스 의존관계(Dependency)는 객체 지향 프로그래밍에서 한 클래스가 다른 클래스에 의존하는 관계를 나타냅니다. \n",
    "- 의존관계는 \"depends-on\" 관계로 표현되며, 한 클래스가 다른 클래스의 기능이나 데이터를 사용하여 동작하는 경우를 의미합니다. \n",
    "- 이는 클래스 간의 협력과 상호작용을 나타내는 중요한 개념 중 하나입니다."
   ]
  },
  {
   "cell_type": "code",
   "execution_count": null,
   "id": "5e5540b1",
   "metadata": {},
   "outputs": [],
   "source": []
  },
  {
   "cell_type": "code",
   "execution_count": 10,
   "id": "1b7adde7",
   "metadata": {},
   "outputs": [],
   "source": [
    "class PaymentGateway:\n",
    "    def process_payment(self, amount):\n",
    "        print(f\"Processing payment of ${amount}\")\n",
    "\n",
    "class Order:\n",
    "    def __init__(self, order_id, total_amount):\n",
    "        self.order_id = order_id\n",
    "        self.total_amount = total_amount\n",
    "\n",
    "    def checkout(self, payment_gateway):\n",
    "        print(f\"Checking out order {self.order_id}\")\n",
    "        payment_gateway.process_payment(self.total_amount)\n",
    "        print(f\"Order {self.order_id} has been successfully paid\")\n"
   ]
  },
  {
   "cell_type": "code",
   "execution_count": 11,
   "id": "b1eeedc3",
   "metadata": {},
   "outputs": [
    {
     "name": "stdout",
     "output_type": "stream",
     "text": [
      "Checking out order 1\n",
      "Processing payment of $100\n",
      "Order 1 has been successfully paid\n"
     ]
    }
   ],
   "source": [
    "# 메인 코드\n",
    "gateway = PaymentGateway()\n",
    "order = Order(order_id=1, total_amount=100)\n",
    "order.checkout(gateway)"
   ]
  },
  {
   "cell_type": "code",
   "execution_count": null,
   "id": "0f63aba2",
   "metadata": {},
   "outputs": [],
   "source": []
  }
 ],
 "metadata": {
  "kernelspec": {
   "display_name": "Python 3 (ipykernel)",
   "language": "python",
   "name": "python3"
  },
  "language_info": {
   "codemirror_mode": {
    "name": "ipython",
    "version": 3
   },
   "file_extension": ".py",
   "mimetype": "text/x-python",
   "name": "python",
   "nbconvert_exporter": "python",
   "pygments_lexer": "ipython3",
   "version": "3.11.3"
  }
 },
 "nbformat": 4,
 "nbformat_minor": 5
}
