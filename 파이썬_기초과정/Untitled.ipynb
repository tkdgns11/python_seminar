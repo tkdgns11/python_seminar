{
 "cells": [
  {
   "cell_type": "code",
   "execution_count": 4,
   "id": "2f241ba4",
   "metadata": {},
   "outputs": [],
   "source": [
    "sum??"
   ]
  },
  {
   "cell_type": "code",
   "execution_count": 5,
   "id": "0324b671",
   "metadata": {},
   "outputs": [],
   "source": [
    "def add(x,y) : \n",
    "    return x+y"
   ]
  },
  {
   "cell_type": "code",
   "execution_count": 6,
   "id": "b7f86444",
   "metadata": {},
   "outputs": [],
   "source": [
    "add?"
   ]
  },
  {
   "cell_type": "code",
   "execution_count": 7,
   "id": "d1339c19",
   "metadata": {},
   "outputs": [],
   "source": [
    "add??"
   ]
  },
  {
   "cell_type": "code",
   "execution_count": 1,
   "id": "3bbd8644",
   "metadata": {},
   "outputs": [
    {
     "data": {
      "text/plain": [
       "'/Users/a06411/Documents/GitHub/js_fluent_python/파이썬_기초과정'"
      ]
     },
     "execution_count": 1,
     "metadata": {},
     "output_type": "execute_result"
    }
   ],
   "source": [
    "%pwd"
   ]
  },
  {
   "cell_type": "code",
   "execution_count": 2,
   "id": "1aa29669",
   "metadata": {},
   "outputs": [
    {
     "name": "stdout",
     "output_type": "stream",
     "text": [
      "/Users/a06411/Documents\n"
     ]
    }
   ],
   "source": [
    "%cd /Users/a06411/Documents/"
   ]
  },
  {
   "cell_type": "code",
   "execution_count": 3,
   "id": "83c633e2",
   "metadata": {},
   "outputs": [
    {
     "name": "stdout",
     "output_type": "stream",
     "text": [
      "\u001b[34mAIFFLE-Node\u001b[m\u001b[m/\r\n",
      "\u001b[34mGitHub\u001b[m\u001b[m/\r\n",
      "\u001b[34mcomprehensive-rust\u001b[m\u001b[m/\r\n",
      "\u001b[34mcplusplus\u001b[m\u001b[m/\r\n",
      "\u001b[34mdata_hub\u001b[m\u001b[m/\r\n",
      "\u001b[34mdocker\u001b[m\u001b[m/\r\n",
      "\u001b[34melixir_code\u001b[m\u001b[m/\r\n",
      "\u001b[34melixir_livebook\u001b[m\u001b[m/\r\n",
      "\u001b[34melixir_test\u001b[m\u001b[m/\r\n",
      "\u001b[34melixir_workspace\u001b[m\u001b[m/\r\n",
      "\u001b[34mgolang\u001b[m\u001b[m/\r\n",
      "\u001b[34mjavascript_study\u001b[m\u001b[m/\r\n",
      "\u001b[34mjsbackend-main\u001b[m\u001b[m/\r\n",
      "\u001b[34mjula_coding\u001b[m\u001b[m/\r\n",
      "\u001b[34mmysql\u001b[m\u001b[m/\r\n",
      "\u001b[34mpython\u001b[m\u001b[m/\r\n",
      "\u001b[34mreact_chapter04\u001b[m\u001b[m/\r\n",
      "\u001b[34mreact_tech\u001b[m\u001b[m/\r\n",
      "\u001b[34mreact_test\u001b[m\u001b[m/\r\n",
      "\u001b[34mreact_test_project\u001b[m\u001b[m/\r\n",
      "\u001b[34mrenpy_project\u001b[m\u001b[m/\r\n",
      "\u001b[34mrust_file\u001b[m\u001b[m/\r\n",
      "\u001b[34mrust_projects\u001b[m\u001b[m/\r\n",
      "\u001b[34mscala_coding\u001b[m\u001b[m/\r\n",
      "\u001b[34mscikit_learn_data\u001b[m\u001b[m/\r\n",
      "\u001b[34mshell\u001b[m\u001b[m/\r\n",
      "\u001b[34msnowflake\u001b[m\u001b[m/\r\n",
      "\u001b[34mspring_boot\u001b[m\u001b[m/\r\n",
      "\u001b[34mtypescript_jupyter\u001b[m\u001b[m/\r\n",
      "\u001b[34mtypescript_workspace\u001b[m\u001b[m/\r\n",
      "\u001b[34mworkspace-spring-tool-suite-4-4.15.1.RELEASE\u001b[m\u001b[m/\r\n",
      "\u001b[34m문지원\u001b[m\u001b[m/\r\n",
      "\u001b[34m참고자료\u001b[m\u001b[m/\r\n",
      "\u001b[34m내부작업용\u001b[m\u001b[m/\r\n"
     ]
    }
   ],
   "source": [
    "%ls"
   ]
  },
  {
   "cell_type": "code",
   "execution_count": 4,
   "id": "4e625f18",
   "metadata": {},
   "outputs": [
    {
     "name": "stdout",
     "output_type": "stream",
     "text": [
      "/Users/a06411/Documents/renpy_project\n"
     ]
    }
   ],
   "source": [
    "%cd renpy_project"
   ]
  },
  {
   "cell_type": "code",
   "execution_count": 5,
   "id": "204c5c89",
   "metadata": {},
   "outputs": [
    {
     "name": "stdout",
     "output_type": "stream",
     "text": [
      "\u001b[34mrrr\u001b[m\u001b[m/\r\n"
     ]
    }
   ],
   "source": [
    "%ls"
   ]
  },
  {
   "cell_type": "code",
   "execution_count": 6,
   "id": "735e82ad",
   "metadata": {},
   "outputs": [
    {
     "name": "stdout",
     "output_type": "stream",
     "text": [
      "/Users/a06411/Documents/renpy_project/rrr\n"
     ]
    }
   ],
   "source": [
    "%cd rrr"
   ]
  },
  {
   "cell_type": "code",
   "execution_count": 7,
   "id": "39f0bdcc",
   "metadata": {},
   "outputs": [
    {
     "name": "stdout",
     "output_type": "stream",
     "text": [
      "errors.txt     \u001b[34mgame\u001b[m\u001b[m/          log.txt        traceback.txt\r\n"
     ]
    }
   ],
   "source": [
    "%ls"
   ]
  },
  {
   "cell_type": "code",
   "execution_count": 8,
   "id": "c0345fa9",
   "metadata": {},
   "outputs": [
    {
     "name": "stdout",
     "output_type": "stream",
     "text": [
      "/Users/a06411/Documents/renpy_project/rrr/game\n"
     ]
    }
   ],
   "source": [
    "%cd game"
   ]
  },
  {
   "cell_type": "code",
   "execution_count": 9,
   "id": "67c3466a",
   "metadata": {},
   "outputs": [
    {
     "name": "stdout",
     "output_type": "stream",
     "text": [
      "SourceHanSansLite.ttf  gui.rpyc               screens.rpy\r\n",
      "\u001b[34maudio\u001b[m\u001b[m/                 \u001b[34mimages\u001b[m\u001b[m/                screens.rpyc\r\n",
      "\u001b[34mcache\u001b[m\u001b[m/                 options.rpy            script.rpy\r\n",
      "\u001b[34mgui\u001b[m\u001b[m/                   options.rpyc           script.rpyc\r\n",
      "gui.rpy                \u001b[34msaves\u001b[m\u001b[m/                 \u001b[34mtl\u001b[m\u001b[m/\r\n"
     ]
    }
   ],
   "source": [
    "%ls"
   ]
  },
  {
   "cell_type": "code",
   "execution_count": null,
   "id": "02af9643",
   "metadata": {},
   "outputs": [],
   "source": [
    "# %load script.rpy\n",
    "# 이 파일에 게임 스크립트를 입력합니다.\n",
    "\n",
    "# image 문을 사용해 이미지를 정의합니다.\n",
    "# image eileen happy = \"eileen_happy.png\"\n",
    "\n",
    "# 게임에서 사용할 캐릭터를 정의합니다.\n",
    "define e = Character('아이린', color=\"#ffff\")\n",
    "\n",
    "init python:\n",
    "    name = \"달삼춘\"\n",
    "    time_left = 10\n",
    "    \n",
    "screen status(nme):\n",
    "    timer 1 repeat True action If(time_left > 0, true=[SetVariable('time_left', time_left - 1)])\n",
    "    frame:\n",
    "        text \"[time_left]\"\n",
    "    textbutton \"이름 : [nme]\" action [NullAction()]\n",
    "\n",
    "# 여기에서부터 게임이 시작합니다.\n",
    "label start:\n",
    "    show screen status(name)\n",
    "    \"아이린\" \"안녕하세요 [name]님!\"\n",
    "    \"이야기와 그림, 음악을 더하면 여러분의 게임을 세상에 배포할 수 있어요!\"\n",
    "\n",
    "    menu:\n",
    "        \"선택지 1\":\n",
    "            jump choice1\n",
    "        \"선택지 2\":\n",
    "            jump choice2\n",
    "    return\n",
    "\n",
    "label choice1:\n",
    "    \"선택지 1을 누르셨습니다.\"\n",
    "    return\n",
    "\n",
    "label choice2:\n",
    "    \"선택지 2를 누르셨습니다.\"\n",
    "    return\n"
   ]
  },
  {
   "cell_type": "code",
   "execution_count": 11,
   "id": "324be0c7",
   "metadata": {},
   "outputs": [
    {
     "name": "stdout",
     "output_type": "stream",
     "text": [
      "Writing test.rpy\n"
     ]
    }
   ],
   "source": [
    "%%writefile test.rpy\n",
    "\n",
    "# 게임에서 사용할 캐릭터를 정의합니다.\n",
    "define e = Character('아이린', color=\"#ffff\")\n",
    "\n",
    "init python:\n",
    "    name = \"달삼춘\"\n",
    "    time_left = 10"
   ]
  },
  {
   "cell_type": "code",
   "execution_count": 12,
   "id": "947be4bf",
   "metadata": {},
   "outputs": [
    {
     "name": "stdout",
     "output_type": "stream",
     "text": [
      "SourceHanSansLite.ttf  \u001b[34mimages\u001b[m\u001b[m/                script.rpy\r\n",
      "\u001b[34maudio\u001b[m\u001b[m/                 options.rpy            script.rpyc\r\n",
      "\u001b[34mcache\u001b[m\u001b[m/                 options.rpyc           test.rpy\r\n",
      "\u001b[34mgui\u001b[m\u001b[m/                   \u001b[34msaves\u001b[m\u001b[m/                 \u001b[34mtl\u001b[m\u001b[m/\r\n",
      "gui.rpy                screens.rpy\r\n",
      "gui.rpyc               screens.rpyc\r\n"
     ]
    }
   ],
   "source": [
    "%ls"
   ]
  },
  {
   "cell_type": "code",
   "execution_count": null,
   "id": "35490603",
   "metadata": {},
   "outputs": [],
   "source": [
    "# %load test.rpy\n",
    "\n",
    "# 게임에서 사용할 캐릭터를 정의합니다.\n",
    "define e = Character('아이린', color=\"#ffff\")\n",
    "\n",
    "init python:\n",
    "    name = \"달삼춘\"\n",
    "    time_left = 10\n"
   ]
  },
  {
   "cell_type": "code",
   "execution_count": null,
   "id": "8bcbf24c",
   "metadata": {},
   "outputs": [],
   "source": []
  }
 ],
 "metadata": {
  "kernelspec": {
   "display_name": "Python 3 (ipykernel)",
   "language": "python",
   "name": "python3"
  },
  "language_info": {
   "codemirror_mode": {
    "name": "ipython",
    "version": 3
   },
   "file_extension": ".py",
   "mimetype": "text/x-python",
   "name": "python",
   "nbconvert_exporter": "python",
   "pygments_lexer": "ipython3",
   "version": "3.11.3"
  }
 },
 "nbformat": 4,
 "nbformat_minor": 5
}
