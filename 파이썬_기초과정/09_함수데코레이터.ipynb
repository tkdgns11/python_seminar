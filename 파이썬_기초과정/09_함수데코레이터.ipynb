{
 "cells": [
  {
   "cell_type": "code",
   "execution_count": 1,
   "id": "a1bb868f",
   "metadata": {},
   "outputs": [
    {
     "data": {
      "text/plain": [
       "'3.9.16'"
      ]
     },
     "execution_count": 1,
     "metadata": {},
     "output_type": "execute_result"
    }
   ],
   "source": [
    "import platform\n",
    "\n",
    "platform.python_version()"
   ]
  },
  {
   "cell_type": "code",
   "execution_count": null,
   "id": "2e4b5e7e",
   "metadata": {},
   "outputs": [],
   "source": []
  },
  {
   "cell_type": "markdown",
   "id": "2acbfeaa",
   "metadata": {},
   "source": [
    "## 1. 함수 내부에 함수 정의하고 사용하기 \n",
    "\n",
    "- 함수 내부에도 함수를 정의해서 사용이 가능\n"
   ]
  },
  {
   "cell_type": "markdown",
   "id": "dc2cf46d",
   "metadata": {},
   "source": [
    "## 1-1 함수 내부의 함수 정의하기"
   ]
  },
  {
   "cell_type": "markdown",
   "id": "21d944f7",
   "metadata": {},
   "source": [
    "###  함수 내부에 함수를 정의하기  : 함수내부에서 실행하기"
   ]
  },
  {
   "cell_type": "code",
   "execution_count": 2,
   "id": "1c327c69",
   "metadata": {},
   "outputs": [],
   "source": [
    "def outer1(x) :\n",
    "    def inner(y) :\n",
    "        return x+y\n",
    "    return inner(100)"
   ]
  },
  {
   "cell_type": "code",
   "execution_count": 3,
   "id": "8e3746d2",
   "metadata": {},
   "outputs": [
    {
     "data": {
      "text/plain": [
       "200"
      ]
     },
     "execution_count": 3,
     "metadata": {},
     "output_type": "execute_result"
    }
   ],
   "source": [
    "outer1(100)"
   ]
  },
  {
   "cell_type": "code",
   "execution_count": null,
   "id": "24f2b7e2",
   "metadata": {},
   "outputs": [],
   "source": []
  },
  {
   "cell_type": "markdown",
   "id": "8ef38f28",
   "metadata": {},
   "source": [
    "###  함수 내부에 함수를 정의하기 : 내부함수를 반환하기"
   ]
  },
  {
   "cell_type": "code",
   "execution_count": 4,
   "id": "0c07573a",
   "metadata": {},
   "outputs": [],
   "source": [
    "def outer2(x) :\n",
    "    def inner(y) :\n",
    "        return x+y\n",
    "    return inner"
   ]
  },
  {
   "cell_type": "code",
   "execution_count": null,
   "id": "959dead8",
   "metadata": {},
   "outputs": [],
   "source": [
    "inner = outer2(10)"
   ]
  },
  {
   "cell_type": "code",
   "execution_count": 6,
   "id": "f833b128",
   "metadata": {},
   "outputs": [
    {
     "data": {
      "text/plain": [
       "30"
      ]
     },
     "execution_count": 6,
     "metadata": {},
     "output_type": "execute_result"
    }
   ],
   "source": [
    "inner(20)"
   ]
  },
  {
   "cell_type": "markdown",
   "id": "ace18aa2",
   "metadata": {},
   "source": [
    "## ###  함수 내부에 함수를 정의하기 : 내부함수를 반환한 후에 전달받은 함수 실행하기"
   ]
  },
  {
   "cell_type": "code",
   "execution_count": 7,
   "id": "3c621c94",
   "metadata": {},
   "outputs": [],
   "source": [
    "def outer3(func) :\n",
    "    def inner(x,y) :\n",
    "        return func(x,y)\n",
    "    return inner"
   ]
  },
  {
   "cell_type": "code",
   "execution_count": 8,
   "id": "40cd6a9e",
   "metadata": {},
   "outputs": [],
   "source": [
    "inner = outer3(lambda x,y : x+y)"
   ]
  },
  {
   "cell_type": "code",
   "execution_count": 9,
   "id": "254d95e8",
   "metadata": {},
   "outputs": [
    {
     "data": {
      "text/plain": [
       "300"
      ]
     },
     "execution_count": 9,
     "metadata": {},
     "output_type": "execute_result"
    }
   ],
   "source": [
    "inner(100,200)"
   ]
  },
  {
   "cell_type": "code",
   "execution_count": null,
   "id": "d174039a",
   "metadata": {},
   "outputs": [],
   "source": []
  },
  {
   "cell_type": "code",
   "execution_count": 3,
   "id": "b2fe428c",
   "metadata": {},
   "outputs": [],
   "source": [
    "import types"
   ]
  },
  {
   "cell_type": "code",
   "execution_count": 15,
   "id": "f32f3f1d",
   "metadata": {},
   "outputs": [],
   "source": [
    "a=100;x=200;y=300;"
   ]
  },
  {
   "cell_type": "code",
   "execution_count": 16,
   "id": "f5e2a6cf",
   "metadata": {},
   "outputs": [],
   "source": [
    "_, *xx = a, x,y"
   ]
  },
  {
   "cell_type": "code",
   "execution_count": 17,
   "id": "3eccf05f",
   "metadata": {},
   "outputs": [
    {
     "data": {
      "text/plain": [
       "[200, 300]"
      ]
     },
     "execution_count": 17,
     "metadata": {},
     "output_type": "execute_result"
    }
   ],
   "source": [
    "xx"
   ]
  },
  {
   "cell_type": "code",
   "execution_count": 29,
   "id": "3b900a51",
   "metadata": {},
   "outputs": [],
   "source": [
    "def add(x,y) : \n",
    "    return x+y"
   ]
  },
  {
   "cell_type": "code",
   "execution_count": 30,
   "id": "a5914c31",
   "metadata": {},
   "outputs": [],
   "source": [
    "def func(z : types.FunctionType) :\n",
    "    func._dict = {} \n",
    "    func._dict[z.__name__] = z\n",
    "    def inner(*args) :\n",
    "        print(args)\n",
    "        return func._dict[z.__name__](*args)\n",
    "    return inner"
   ]
  },
  {
   "cell_type": "code",
   "execution_count": 31,
   "id": "98909668",
   "metadata": {},
   "outputs": [
    {
     "data": {
      "text/plain": [
       "<function __main__.add(x, y)>"
      ]
     },
     "execution_count": 31,
     "metadata": {},
     "output_type": "execute_result"
    }
   ],
   "source": [
    "add"
   ]
  },
  {
   "cell_type": "code",
   "execution_count": 32,
   "id": "03997343",
   "metadata": {},
   "outputs": [],
   "source": [
    "add = func(add)"
   ]
  },
  {
   "cell_type": "code",
   "execution_count": null,
   "id": "6db7249e",
   "metadata": {},
   "outputs": [],
   "source": []
  },
  {
   "cell_type": "code",
   "execution_count": 33,
   "id": "8c53ac02",
   "metadata": {},
   "outputs": [
    {
     "data": {
      "text/plain": [
       "<function __main__.func.<locals>.inner(*args)>"
      ]
     },
     "execution_count": 33,
     "metadata": {},
     "output_type": "execute_result"
    }
   ],
   "source": [
    "add"
   ]
  },
  {
   "cell_type": "code",
   "execution_count": 39,
   "id": "df797d76",
   "metadata": {},
   "outputs": [
    {
     "data": {
      "text/plain": [
       "1"
      ]
     },
     "execution_count": 39,
     "metadata": {},
     "output_type": "execute_result"
    }
   ],
   "source": [
    "len(add.__closure__)"
   ]
  },
  {
   "cell_type": "code",
   "execution_count": 41,
   "id": "3508d390",
   "metadata": {},
   "outputs": [
    {
     "data": {
      "text/plain": [
       "<function __main__.add(x, y)>"
      ]
     },
     "execution_count": 41,
     "metadata": {},
     "output_type": "execute_result"
    }
   ],
   "source": [
    "add.__closure__[0].cell_contents"
   ]
  },
  {
   "cell_type": "code",
   "execution_count": null,
   "id": "d19cbd22",
   "metadata": {},
   "outputs": [],
   "source": []
  },
  {
   "cell_type": "code",
   "execution_count": 34,
   "id": "6fc7c564",
   "metadata": {},
   "outputs": [
    {
     "data": {
      "text/plain": [
       "{'add': <function __main__.add(x, y)>}"
      ]
     },
     "execution_count": 34,
     "metadata": {},
     "output_type": "execute_result"
    }
   ],
   "source": [
    "func._dict"
   ]
  },
  {
   "cell_type": "code",
   "execution_count": 35,
   "id": "fb7b2aaf",
   "metadata": {},
   "outputs": [
    {
     "name": "stdout",
     "output_type": "stream",
     "text": [
      "(100, 200)\n"
     ]
    },
    {
     "data": {
      "text/plain": [
       "300"
      ]
     },
     "execution_count": 35,
     "metadata": {},
     "output_type": "execute_result"
    }
   ],
   "source": [
    "add(100,200)"
   ]
  },
  {
   "cell_type": "code",
   "execution_count": null,
   "id": "179f2916",
   "metadata": {},
   "outputs": [],
   "source": []
  },
  {
   "cell_type": "code",
   "execution_count": 52,
   "id": "ecfe8d76",
   "metadata": {},
   "outputs": [],
   "source": [
    "def add1(x,y) :\n",
    "    return x+y"
   ]
  },
  {
   "cell_type": "code",
   "execution_count": null,
   "id": "ef9e3a3e",
   "metadata": {},
   "outputs": [],
   "source": []
  },
  {
   "cell_type": "code",
   "execution_count": 53,
   "id": "008d3355",
   "metadata": {},
   "outputs": [],
   "source": [
    "def func_c(z : types.FunctionType) :\n",
    "\n",
    "    def inner(*args) :\n",
    "        print(args)\n",
    "        return z(*args)\n",
    "    return inner"
   ]
  },
  {
   "cell_type": "code",
   "execution_count": 54,
   "id": "77801cf1",
   "metadata": {},
   "outputs": [],
   "source": [
    "add1 = func_c(add1)"
   ]
  },
  {
   "cell_type": "code",
   "execution_count": 55,
   "id": "28db095d",
   "metadata": {},
   "outputs": [
    {
     "data": {
      "text/plain": [
       "<function __main__.add1(x, y)>"
      ]
     },
     "execution_count": 55,
     "metadata": {},
     "output_type": "execute_result"
    }
   ],
   "source": [
    "add1.__closure__[0].cell_contents"
   ]
  },
  {
   "cell_type": "code",
   "execution_count": null,
   "id": "25b1c43a",
   "metadata": {},
   "outputs": [],
   "source": []
  },
  {
   "cell_type": "code",
   "execution_count": 58,
   "id": "07e44b33",
   "metadata": {},
   "outputs": [],
   "source": [
    "@func_c\n",
    "def add2(x,y) :\n",
    "    return x+y"
   ]
  },
  {
   "cell_type": "code",
   "execution_count": 59,
   "id": "e0aba9b4",
   "metadata": {},
   "outputs": [
    {
     "data": {
      "text/plain": [
       "<function __main__.add2(x, y)>"
      ]
     },
     "execution_count": 59,
     "metadata": {},
     "output_type": "execute_result"
    }
   ],
   "source": [
    "add2.__closure__[0].cell_contents"
   ]
  },
  {
   "cell_type": "code",
   "execution_count": null,
   "id": "9da1770c",
   "metadata": {},
   "outputs": [],
   "source": []
  },
  {
   "cell_type": "code",
   "execution_count": 67,
   "id": "cbb00da6",
   "metadata": {},
   "outputs": [],
   "source": [
    "class KK :\n",
    "    def __init__(self,func) :\n",
    "        self._func = func\n",
    "        \n",
    "    def __call__(self,*args) :\n",
    "        return self._func(*args)"
   ]
  },
  {
   "cell_type": "code",
   "execution_count": 68,
   "id": "8d2d47be",
   "metadata": {},
   "outputs": [],
   "source": [
    "kk = KK(lambda x,y : x+y)"
   ]
  },
  {
   "cell_type": "code",
   "execution_count": 69,
   "id": "685053be",
   "metadata": {},
   "outputs": [],
   "source": [
    "@KK\n",
    "def add3(x,y) :\n",
    "    return x+y"
   ]
  },
  {
   "cell_type": "code",
   "execution_count": 70,
   "id": "67a6abc4",
   "metadata": {},
   "outputs": [
    {
     "data": {
      "text/plain": [
       "300"
      ]
     },
     "execution_count": 70,
     "metadata": {},
     "output_type": "execute_result"
    }
   ],
   "source": [
    "add3(100,200)"
   ]
  },
  {
   "cell_type": "code",
   "execution_count": null,
   "id": "c7c19b6d",
   "metadata": {},
   "outputs": [],
   "source": []
  },
  {
   "cell_type": "code",
   "execution_count": 61,
   "id": "37156057",
   "metadata": {},
   "outputs": [
    {
     "data": {
      "text/plain": [
       "type"
      ]
     },
     "execution_count": 61,
     "metadata": {},
     "output_type": "execute_result"
    }
   ],
   "source": [
    "classmethod.__class__"
   ]
  },
  {
   "cell_type": "code",
   "execution_count": 72,
   "id": "175fab91",
   "metadata": {},
   "outputs": [],
   "source": [
    "class Klass :\n",
    "    attr = \"klass\"\n",
    "    \n",
    "    def __init__(self) :\n",
    "        pass\n",
    "    \n",
    "    @classmethod\n",
    "    def getAttr(cls) :\n",
    "        return cls.attr"
   ]
  },
  {
   "cell_type": "code",
   "execution_count": 73,
   "id": "6cf1a5e1",
   "metadata": {},
   "outputs": [
    {
     "data": {
      "text/plain": [
       "mappingproxy({'__module__': '__main__',\n",
       "              'attr': 'klass',\n",
       "              '__init__': <function __main__.Klass.__init__(self)>,\n",
       "              'getAttr': <classmethod(<function Klass.getAttr at 0x1073d6ca0>)>,\n",
       "              '__dict__': <attribute '__dict__' of 'Klass' objects>,\n",
       "              '__weakref__': <attribute '__weakref__' of 'Klass' objects>,\n",
       "              '__doc__': None})"
      ]
     },
     "execution_count": 73,
     "metadata": {},
     "output_type": "execute_result"
    }
   ],
   "source": [
    "Klass.__dict__"
   ]
  },
  {
   "cell_type": "code",
   "execution_count": 75,
   "id": "5d7a7825",
   "metadata": {},
   "outputs": [
    {
     "data": {
      "text/plain": [
       "'klass'"
      ]
     },
     "execution_count": 75,
     "metadata": {},
     "output_type": "execute_result"
    }
   ],
   "source": [
    "Klass.getAttr()"
   ]
  },
  {
   "cell_type": "code",
   "execution_count": 74,
   "id": "9e353f56",
   "metadata": {},
   "outputs": [],
   "source": [
    "k = Klass()"
   ]
  },
  {
   "cell_type": "code",
   "execution_count": 76,
   "id": "f4f5e2dd",
   "metadata": {},
   "outputs": [
    {
     "data": {
      "text/plain": [
       "'klass'"
      ]
     },
     "execution_count": 76,
     "metadata": {},
     "output_type": "execute_result"
    }
   ],
   "source": [
    "k.getAttr()"
   ]
  },
  {
   "cell_type": "code",
   "execution_count": 82,
   "id": "dd303909",
   "metadata": {},
   "outputs": [
    {
     "data": {
      "text/plain": [
       "(__main__.Klass, <function __main__.Klass.getAttr(cls)>)"
      ]
     },
     "execution_count": 82,
     "metadata": {},
     "output_type": "execute_result"
    }
   ],
   "source": [
    "k.getAttr.__self__,k.getAttr.__func__"
   ]
  },
  {
   "cell_type": "code",
   "execution_count": 78,
   "id": "3cd507f1",
   "metadata": {},
   "outputs": [
    {
     "data": {
      "text/plain": [
       "'klass'"
      ]
     },
     "execution_count": 78,
     "metadata": {},
     "output_type": "execute_result"
    }
   ],
   "source": [
    "k.__getattribute__('attr')"
   ]
  },
  {
   "cell_type": "code",
   "execution_count": 79,
   "id": "b06500a9",
   "metadata": {},
   "outputs": [
    {
     "data": {
      "text/plain": [
       "'klass'"
      ]
     },
     "execution_count": 79,
     "metadata": {},
     "output_type": "execute_result"
    }
   ],
   "source": [
    "object.__getattribute__(k,'attr')"
   ]
  },
  {
   "cell_type": "code",
   "execution_count": null,
   "id": "bf911fb2",
   "metadata": {},
   "outputs": [],
   "source": []
  },
  {
   "cell_type": "code",
   "execution_count": 77,
   "id": "1a9dac3b",
   "metadata": {},
   "outputs": [
    {
     "data": {
      "text/plain": [
       "['__class__',\n",
       " '__delattr__',\n",
       " '__dir__',\n",
       " '__doc__',\n",
       " '__eq__',\n",
       " '__format__',\n",
       " '__ge__',\n",
       " '__getattribute__',\n",
       " '__getstate__',\n",
       " '__gt__',\n",
       " '__hash__',\n",
       " '__init__',\n",
       " '__init_subclass__',\n",
       " '__le__',\n",
       " '__lt__',\n",
       " '__ne__',\n",
       " '__new__',\n",
       " '__reduce__',\n",
       " '__reduce_ex__',\n",
       " '__repr__',\n",
       " '__setattr__',\n",
       " '__sizeof__',\n",
       " '__str__',\n",
       " '__subclasshook__']"
      ]
     },
     "execution_count": 77,
     "metadata": {},
     "output_type": "execute_result"
    }
   ],
   "source": [
    "dir(object)"
   ]
  },
  {
   "cell_type": "code",
   "execution_count": null,
   "id": "99295f98",
   "metadata": {},
   "outputs": [],
   "source": []
  },
  {
   "cell_type": "code",
   "execution_count": 88,
   "id": "4ec758ca",
   "metadata": {},
   "outputs": [],
   "source": [
    "aaa = lambda x : x+x"
   ]
  },
  {
   "cell_type": "code",
   "execution_count": 89,
   "id": "0c1c4e48",
   "metadata": {},
   "outputs": [],
   "source": [
    "aaa.lamvar = 100"
   ]
  },
  {
   "cell_type": "code",
   "execution_count": null,
   "id": "30321653",
   "metadata": {},
   "outputs": [],
   "source": []
  },
  {
   "cell_type": "code",
   "execution_count": 90,
   "id": "0f25278a",
   "metadata": {},
   "outputs": [
    {
     "data": {
      "text/plain": [
       "{'lamvar': 100}"
      ]
     },
     "execution_count": 90,
     "metadata": {},
     "output_type": "execute_result"
    }
   ],
   "source": [
    "aaa.__dict__"
   ]
  },
  {
   "cell_type": "code",
   "execution_count": 91,
   "id": "9d341e58",
   "metadata": {},
   "outputs": [
    {
     "data": {
      "text/plain": [
       "200"
      ]
     },
     "execution_count": 91,
     "metadata": {},
     "output_type": "execute_result"
    }
   ],
   "source": [
    "aaa(aaa.lamvar)"
   ]
  },
  {
   "cell_type": "code",
   "execution_count": 86,
   "id": "a1d3c476",
   "metadata": {},
   "outputs": [
    {
     "data": {
      "text/plain": [
       "True"
      ]
     },
     "execution_count": 86,
     "metadata": {},
     "output_type": "execute_result"
    }
   ],
   "source": [
    "isinstance(aaa, types.LambdaType)"
   ]
  },
  {
   "cell_type": "code",
   "execution_count": null,
   "id": "c51425b9",
   "metadata": {},
   "outputs": [],
   "source": [
    "aaa()"
   ]
  },
  {
   "cell_type": "markdown",
   "id": "d3e1698c",
   "metadata": {},
   "source": [
    "## 2. 클로저 환경 \n"
   ]
  },
  {
   "cell_type": "code",
   "execution_count": null,
   "id": "7ccafd6a",
   "metadata": {},
   "outputs": [],
   "source": []
  },
  {
   "cell_type": "markdown",
   "id": "148816ac",
   "metadata": {},
   "source": [
    "## 클로저(Closure) \n",
    "\n",
    "- 내부 함수가 외부 함수의 범위에 있는 변수를 참조하고 있는 경우를 가리킵니다. \n",
    "- 파이썬에서 클로저는 함수가 호출되어 종료된 후에도 해당 함수의 범위에 있는 변수들이 메모리에 유지되는 현상을 말합니다.\n",
    "- 이를 통해 함수의 상태를 유지하면서 독립적인 작업 단위를 만들 수 있습니다.\n",
    "\n",
    "### 클로저는 주로 다음과 같은 상황에서 사용됩니다:\n",
    "\n",
    "- 콜백 함수(Callback Functions): 함수 내부에서 정의된 함수가 외부 함수에 전달되어 나중에 호출될 때, 클로저로서 동작합니다.\n",
    "\n",
    "- 팩토리 함수(Factory Functions): 함수 내부에서 함수를 생성하여 반환하고, 반환된 함수는 클로저로서 원본 함수의 범위에 있는 변수를 유지합니다.\n",
    "\n",
    "- 상태 유지(State Preservation): 함수가 호출될 때마다 함수 내의 변수 상태가 유지되어야 할 때, 클로저를 사용하여 변수 상태를 유지할 수 있습니다."
   ]
  },
  {
   "cell_type": "code",
   "execution_count": null,
   "id": "a17c4a2c",
   "metadata": {},
   "outputs": [],
   "source": []
  },
  {
   "cell_type": "markdown",
   "id": "fbd6dd8e",
   "metadata": {},
   "source": [
    "## 클로저에서 자유 변수(Free Variable)\n",
    "\n",
    "- 내부 함수가 외부 함수의 범위에 있는 변수를 참조하는 경우를 가리킵니다. \n",
    "- 이러한 자유 변수는 클로저의 동작을 정의하고 상태를 유지하는 데에 사용됩니다.\n",
    "\n",
    "### 클로저에서 자유 변수의 특징은 다음과 같습니다:\n",
    "\n",
    "- 참조: 클로저 내부 함수에서 외부 함수의 변수를 참조하면 자유 변수가 형성됩니다. 이 변수는 내부 함수의 범위 내에서 선언되지 않았지만 사용됩니다.\n",
    "\n",
    "- 유지: 클로저가 생성된 후에도 자유 변수의 값은 유지됩니다. 클로저가 호출될 때마다 해당 변수의 값이 유지되어 사용됩니다.\n",
    "\n",
    "- 함수 간 상호작용: 클로저가 자유 변수를 사용하여 함수 간에 상태를 공유하거나 정보를 전달할 수 있습니다."
   ]
  },
  {
   "cell_type": "code",
   "execution_count": null,
   "id": "425b8e03",
   "metadata": {},
   "outputs": [],
   "source": []
  },
  {
   "cell_type": "markdown",
   "id": "eae6b32e",
   "metadata": {},
   "source": [
    "## 2-1  클로저 환경 확인하기 : 변수 확인 "
   ]
  },
  {
   "cell_type": "markdown",
   "id": "481d300f",
   "metadata": {},
   "source": [
    "### 함수를 정의하기\n",
    "- 외부 변수의 x 를 내부 함수에서 캡처해서 사용 "
   ]
  },
  {
   "cell_type": "code",
   "execution_count": 10,
   "id": "35a1cbfa",
   "metadata": {},
   "outputs": [],
   "source": [
    "def outer(x) :\n",
    "    def inner(y) :\n",
    "        return x+y\n",
    "    return inner"
   ]
  },
  {
   "cell_type": "code",
   "execution_count": 11,
   "id": "6e504ac4",
   "metadata": {},
   "outputs": [],
   "source": [
    "inner = outer(10)"
   ]
  },
  {
   "cell_type": "markdown",
   "id": "99bbc214",
   "metadata": {},
   "source": [
    "### 자유변수 확인하기 "
   ]
  },
  {
   "cell_type": "code",
   "execution_count": 12,
   "id": "df8b039b",
   "metadata": {},
   "outputs": [
    {
     "data": {
      "text/plain": [
       "(<cell at 0x108953940: int object at 0x1050f2a50>,)"
      ]
     },
     "execution_count": 12,
     "metadata": {},
     "output_type": "execute_result"
    }
   ],
   "source": [
    "inner.__closure__            # 내부함수 내의 클로저인 변수를 확인"
   ]
  },
  {
   "cell_type": "code",
   "execution_count": 13,
   "id": "b10b7a70",
   "metadata": {},
   "outputs": [
    {
     "data": {
      "text/plain": [
       "10"
      ]
     },
     "execution_count": 13,
     "metadata": {},
     "output_type": "execute_result"
    }
   ],
   "source": [
    "inner.__closure__[0].cell_contents"
   ]
  },
  {
   "cell_type": "markdown",
   "id": "d54debfe",
   "metadata": {},
   "source": [
    "## 2-2  클로저 환경 확인하기 : 전달된 함수 확인 "
   ]
  },
  {
   "cell_type": "markdown",
   "id": "8622af24",
   "metadata": {},
   "source": [
    "### 함수를 정의하기\n",
    "- 외부 변수의 func 를 내부 함수에서 캡처해서 사용 "
   ]
  },
  {
   "cell_type": "code",
   "execution_count": 14,
   "id": "9807f8cc",
   "metadata": {},
   "outputs": [],
   "source": [
    "def freeVar(func) :\n",
    "    def inner(x,y) :\n",
    "        return func(x,y)\n",
    "    return inner"
   ]
  },
  {
   "cell_type": "code",
   "execution_count": 15,
   "id": "cec91f54",
   "metadata": {},
   "outputs": [],
   "source": [
    "inner = freeVar(lambda x,y : x+y)"
   ]
  },
  {
   "cell_type": "markdown",
   "id": "78e85759",
   "metadata": {},
   "source": [
    "### 자유변수 확인하기"
   ]
  },
  {
   "cell_type": "code",
   "execution_count": 16,
   "id": "8c22022e",
   "metadata": {},
   "outputs": [
    {
     "data": {
      "text/plain": [
       "(<cell at 0x108858610: function object at 0x108e41310>,)"
      ]
     },
     "execution_count": 16,
     "metadata": {},
     "output_type": "execute_result"
    }
   ],
   "source": [
    "inner.__closure__            # 내부함수 내의 클로저인 변수를 확인"
   ]
  },
  {
   "cell_type": "code",
   "execution_count": 17,
   "id": "04065054",
   "metadata": {},
   "outputs": [
    {
     "data": {
      "text/plain": [
       "<function __main__.<lambda>(x, y)>"
      ]
     },
     "execution_count": 17,
     "metadata": {},
     "output_type": "execute_result"
    }
   ],
   "source": [
    "inner.__closure__[0].cell_contents"
   ]
  },
  {
   "cell_type": "code",
   "execution_count": null,
   "id": "ae9260fd",
   "metadata": {},
   "outputs": [],
   "source": []
  },
  {
   "cell_type": "markdown",
   "id": "643948c0",
   "metadata": {},
   "source": [
    "# 2. 데코레이터\n",
    "\n",
    "-  클로저환경을 이용해서 실행함수를 전달한 후에 이를 사용해서 내부 기능을 추가하고 처리하는 방식"
   ]
  },
  {
   "cell_type": "markdown",
   "id": "d1388081",
   "metadata": {},
   "source": [
    "## 데코레이터(Decorator)\n",
    "\n",
    "- 파이썬에서 함수나 메서드의 동작을 수정하거나 확장하기 위해 사용되는 강력한 기능입니다.\n",
    "- 데코레이터는 함수를 입력으로 받아 또 다른 함수를 반환하는 함수입니다. \n",
    "- 이를 활용하여 기존 함수의 동작을 변경하거나 추가적인 작업을 수행할 수 있습니다.\n",
    "\n",
    "### 데코레이터 표기\n",
    "- 보통 실행 함수의 선언 위에 @decorator_name 형태로 표기되며, 함수의 정의나 호출을 더 간결하게 만들어주고 코드 중복을 줄이는데 도움을 줍니다.\n",
    "\n"
   ]
  },
  {
   "cell_type": "markdown",
   "id": "a34b8153",
   "metadata": {},
   "source": [
    "## 2-1 일반적인 방식이 데코레이터 구성하기 \n",
    "\n",
    "- 함수를 정의해서 함수의 인자로 함수를 전달해서 내부함수를 반환"
   ]
  },
  {
   "cell_type": "code",
   "execution_count": 18,
   "id": "98235f36",
   "metadata": {},
   "outputs": [],
   "source": [
    "def add(x,y) :\n",
    "    return x+y"
   ]
  },
  {
   "cell_type": "code",
   "execution_count": 19,
   "id": "5f72f7d5",
   "metadata": {},
   "outputs": [],
   "source": [
    "def outer(func) :\n",
    "    def inner(*args, **kwargs) :\n",
    "        return func(*args, **kwargs)\n",
    "    \n",
    "    return inner"
   ]
  },
  {
   "cell_type": "code",
   "execution_count": 20,
   "id": "519aa2fb",
   "metadata": {},
   "outputs": [],
   "source": [
    "add = outer(add)"
   ]
  },
  {
   "cell_type": "code",
   "execution_count": 21,
   "id": "bc418da7",
   "metadata": {},
   "outputs": [
    {
     "data": {
      "text/plain": [
       "<function __main__.outer.<locals>.inner(*args, **kwargs)>"
      ]
     },
     "execution_count": 21,
     "metadata": {},
     "output_type": "execute_result"
    }
   ],
   "source": [
    "add"
   ]
  },
  {
   "cell_type": "code",
   "execution_count": 22,
   "id": "a186b5f1",
   "metadata": {},
   "outputs": [
    {
     "data": {
      "text/plain": [
       "30"
      ]
     },
     "execution_count": 22,
     "metadata": {},
     "output_type": "execute_result"
    }
   ],
   "source": [
    "add(10,20)"
   ]
  },
  {
   "cell_type": "markdown",
   "id": "957c464a",
   "metadata": {},
   "source": [
    "## 2-2 데코레이터 표기법 사용하기\n",
    "\n",
    "- 데코레이터는 @decorator_name 형식으로 함수나 메서드 위에 표기됩니다. \n",
    "- 데코레이터는 해당 함수나 메서드의 동작을 변경하거나 확장하기 위해 사용됩니다. "
   ]
  },
  {
   "cell_type": "code",
   "execution_count": null,
   "id": "a7c6a412",
   "metadata": {},
   "outputs": [],
   "source": []
  },
  {
   "cell_type": "code",
   "execution_count": 23,
   "id": "f77d95c6",
   "metadata": {},
   "outputs": [],
   "source": [
    "def decorator(func) :\n",
    "    def printFunc() :\n",
    "        print(\" 내부 기능 실행 \")\n",
    "    def inner(*args, **kwargs) :\n",
    "        printFunc()\n",
    "        return func(*args, **kwargs)\n",
    "    \n",
    "    return inner"
   ]
  },
  {
   "cell_type": "code",
   "execution_count": null,
   "id": "10b905ea",
   "metadata": {},
   "outputs": [],
   "source": []
  },
  {
   "cell_type": "code",
   "execution_count": 24,
   "id": "39dfd413",
   "metadata": {},
   "outputs": [],
   "source": [
    "@decorator\n",
    "def mul(x,y) :\n",
    "    return x*y"
   ]
  },
  {
   "cell_type": "code",
   "execution_count": 25,
   "id": "1c7a484b",
   "metadata": {},
   "outputs": [
    {
     "name": "stdout",
     "output_type": "stream",
     "text": [
      " 내부 기능 실행 \n"
     ]
    },
    {
     "data": {
      "text/plain": [
       "200"
      ]
     },
     "execution_count": 25,
     "metadata": {},
     "output_type": "execute_result"
    }
   ],
   "source": [
    "mul(10,20)"
   ]
  },
  {
   "cell_type": "code",
   "execution_count": null,
   "id": "37ac0587",
   "metadata": {},
   "outputs": [],
   "source": []
  },
  {
   "cell_type": "markdown",
   "id": "945c3525",
   "metadata": {},
   "source": [
    "## 2-3 여러 데코레이터를 사용하기 \n",
    "\n",
    "\n",
    "## 여러 개의 데코레이터를 사용하는 주요 이유는 \n",
    "\n",
    "\n",
    "### 관심사의 분리: \n",
    "- 각 데코레이터는 특정한 관심사나 기능을 담당할 수 있습니다. \n",
    "- 여러 개의 데코레이터를 조합하여 함수에 여러 가지 관심사를 분리하여 적용할 수 있습니다. \n",
    "- 이로써 코드가 더 읽기 쉽고 각각의 데코레이터가 독립적으로 작동할 수 있게 됩니다.\n",
    "\n",
    "### 코드 재사용성: \n",
    "- 데코레이터를 작은 기능 단위로 분리하여 재사용할 수 있습니다. \n",
    "- 각 데코레이터가 특정한 역할을 수행하므로, 다른 함수에서도 동일한 데코레이터를 사용하여 비슷한 동작을 수행할 수 있습니다."
   ]
  },
  {
   "cell_type": "markdown",
   "id": "2fbea203",
   "metadata": {},
   "source": [
    "## 2개의 데코레이터 처리함수 정의"
   ]
  },
  {
   "cell_type": "code",
   "execution_count": 26,
   "id": "bae72b35",
   "metadata": {},
   "outputs": [],
   "source": [
    "def decorator1(func) :\n",
    "    def printFunc() :\n",
    "        print(\" 데코레이터 1 내부 기능 실행 \")\n",
    "    def inner(*args, **kwargs) :\n",
    "        printFunc()\n",
    "        return func(*args, **kwargs)\n",
    "    \n",
    "    return inner"
   ]
  },
  {
   "cell_type": "code",
   "execution_count": 27,
   "id": "808b11fa",
   "metadata": {},
   "outputs": [],
   "source": [
    "def decorator2(func) :\n",
    "    def printFunc() :\n",
    "        print(\" 데코레이터 2 내부 기능 실행 \")\n",
    "    def inner(*args, **kwargs) :\n",
    "        printFunc()\n",
    "        return func(*args, **kwargs)\n",
    "    \n",
    "    return inner"
   ]
  },
  {
   "cell_type": "markdown",
   "id": "1329375f",
   "metadata": {},
   "source": [
    "## 실행함수에 데코레이터 처리"
   ]
  },
  {
   "cell_type": "code",
   "execution_count": 28,
   "id": "6e7c2cc4",
   "metadata": {},
   "outputs": [],
   "source": [
    "@decorator2\n",
    "@decorator1\n",
    "def sub(x,y) :\n",
    "    return x - y"
   ]
  },
  {
   "cell_type": "markdown",
   "id": "3f51cfae",
   "metadata": {},
   "source": [
    "## 실행함수 실행 "
   ]
  },
  {
   "cell_type": "code",
   "execution_count": 29,
   "id": "f05a6caa",
   "metadata": {},
   "outputs": [
    {
     "name": "stdout",
     "output_type": "stream",
     "text": [
      " 데코레이터 2 내부 기능 실행 \n",
      " 데코레이터 1 내부 기능 실행 \n"
     ]
    },
    {
     "data": {
      "text/plain": [
       "20"
      ]
     },
     "execution_count": 29,
     "metadata": {},
     "output_type": "execute_result"
    }
   ],
   "source": [
    "sub(100,80)"
   ]
  },
  {
   "cell_type": "code",
   "execution_count": null,
   "id": "76d781c4",
   "metadata": {},
   "outputs": [],
   "source": []
  },
  {
   "cell_type": "markdown",
   "id": "472f4265",
   "metadata": {},
   "source": [
    "## 2-4 데코레이터 처리 함수에 대한 정보를 동기화 하기\n",
    "\n",
    "\n",
    "### functools.wraps() 함수를 사용하는 이유\n",
    "- 데코레이터를 정의할 때 원본 함수의 메타데이터(이름, 문서 문자열, 매개변수 정보 등)를 유지하고 보존하기 위해서입니다. \n",
    "- 데코레이터를 사용하여 함수를 변경하거나 확장할 때, 원본 함수의 정보를 유지하지 않으면 디버깅이 어려워지고 가독성이 저하될 수 있습니다. "
   ]
  },
  {
   "cell_type": "markdown",
   "id": "42cb5fc4",
   "metadata": {},
   "source": [
    "## 모듈 사용하기 "
   ]
  },
  {
   "cell_type": "code",
   "execution_count": 30,
   "id": "26614eb3",
   "metadata": {},
   "outputs": [],
   "source": [
    "import functools"
   ]
  },
  {
   "cell_type": "markdown",
   "id": "60a08d3a",
   "metadata": {},
   "source": [
    "### 데코레이터 함수 정의할 때 wraps로 실행함수 정보를 내부함수에 세팅하기"
   ]
  },
  {
   "cell_type": "code",
   "execution_count": 31,
   "id": "2172e496",
   "metadata": {},
   "outputs": [],
   "source": [
    "def my_decorator(func):\n",
    "    @functools.wraps(func)\n",
    "    def wrapper(*args, **kwargs):\n",
    "        print(\"Something is happening before the function is called.\")\n",
    "        result = func(*args, **kwargs)\n",
    "        print(\"Something is happening after the function is called.\")\n",
    "        return result\n",
    "    return wrapper"
   ]
  },
  {
   "cell_type": "markdown",
   "id": "03cec3c9",
   "metadata": {},
   "source": [
    "### 데코레이터를 처리한 후에 내부 반환된 함수의 정보를 확인"
   ]
  },
  {
   "cell_type": "code",
   "execution_count": 32,
   "id": "20e28695",
   "metadata": {},
   "outputs": [],
   "source": [
    "@my_decorator\n",
    "def say_hello():\n",
    "    \"\"\"This function says hello.\"\"\"\n",
    "    print(\"Hello!\")"
   ]
  },
  {
   "cell_type": "code",
   "execution_count": 33,
   "id": "22bb1032",
   "metadata": {},
   "outputs": [
    {
     "name": "stdout",
     "output_type": "stream",
     "text": [
      "say_hello\n",
      "This function says hello.\n"
     ]
    }
   ],
   "source": [
    "print(say_hello.__name__)         # Output: \"say_hello\"\n",
    "print(say_hello.__doc__)          # Output: \"This function says hello.\"\n"
   ]
  },
  {
   "cell_type": "code",
   "execution_count": null,
   "id": "91fd2df0",
   "metadata": {},
   "outputs": [],
   "source": []
  },
  {
   "cell_type": "markdown",
   "id": "bcca5335",
   "metadata": {},
   "source": [
    "## 2-5 데코레이터에 추가적인 정보 처리하기\n",
    "\n",
    "\n",
    "- 데코레이터에 매개변수를 전달하여 데코레이터의 동작을 조정하고 제어할 수 있습니다. \n",
    "- 이를 통해 동일한 데코레이터를 다양한 상황에 맞게 사용하거나 원하는 동작을 커스터마이즈할 수 있습니다. "
   ]
  },
  {
   "cell_type": "markdown",
   "id": "b60d7679",
   "metadata": {},
   "source": [
    "### 데코레이터 외부에 매개변수 받는 함수를 지정 "
   ]
  },
  {
   "cell_type": "code",
   "execution_count": 34,
   "id": "e76fa06a",
   "metadata": {},
   "outputs": [],
   "source": [
    "def repeat(n):\n",
    "    def decorator(func):\n",
    "        def wrapper(*args, **kwargs):\n",
    "            for _ in range(n):\n",
    "                result = func(*args, **kwargs)\n",
    "            return result\n",
    "        return wrapper\n",
    "    return decorator\n"
   ]
  },
  {
   "cell_type": "markdown",
   "id": "a5b3030e",
   "metadata": {},
   "source": [
    "### 데코레이터 표기법으로 매개변수를 받지만 바로 데코레이터까지 처리됨 "
   ]
  },
  {
   "cell_type": "code",
   "execution_count": 35,
   "id": "ee93b62f",
   "metadata": {},
   "outputs": [
    {
     "name": "stdout",
     "output_type": "stream",
     "text": [
      "Hello!\n",
      "Hello!\n",
      "Hello!\n"
     ]
    }
   ],
   "source": [
    "@repeat(n=3)\n",
    "def say_hello():\n",
    "    print(\"Hello!\")\n",
    "\n",
    "say_hello()"
   ]
  },
  {
   "cell_type": "code",
   "execution_count": null,
   "id": "60361e1c",
   "metadata": {},
   "outputs": [],
   "source": []
  },
  {
   "cell_type": "code",
   "execution_count": null,
   "id": "30ba3a03",
   "metadata": {},
   "outputs": [],
   "source": []
  },
  {
   "cell_type": "markdown",
   "id": "2724e0f7",
   "metadata": {},
   "source": [
    "## 3. 데코레이터 활용하기 "
   ]
  },
  {
   "cell_type": "markdown",
   "id": "94f096e0",
   "metadata": {},
   "source": [
    "## 3-1 데코레이터를 사용해서 함수를 딕셔너리에 등록하기"
   ]
  },
  {
   "cell_type": "code",
   "execution_count": 36,
   "id": "cbe949d2",
   "metadata": {},
   "outputs": [],
   "source": [
    "_functions = {}\n",
    "\n",
    "def register(f) :\n",
    "    global _functions\n",
    "    _functions[f.__name__] = f\n",
    "    \n",
    "    def inner(*args,**kwargs) :\n",
    "        return _functions[f.__name__](*args, **kwargs)\n",
    "    return inner\n",
    "\n",
    "    "
   ]
  },
  {
   "cell_type": "code",
   "execution_count": 37,
   "id": "28fd87c6",
   "metadata": {},
   "outputs": [],
   "source": [
    "@register\n",
    "def foo() :\n",
    "    return 'bar'"
   ]
  },
  {
   "cell_type": "code",
   "execution_count": 38,
   "id": "24ad5f95",
   "metadata": {},
   "outputs": [
    {
     "data": {
      "text/plain": [
       "<function __main__.register.<locals>.inner(*args, **kwargs)>"
      ]
     },
     "execution_count": 38,
     "metadata": {},
     "output_type": "execute_result"
    }
   ],
   "source": [
    "foo"
   ]
  },
  {
   "cell_type": "code",
   "execution_count": 39,
   "id": "a329223d",
   "metadata": {},
   "outputs": [
    {
     "data": {
      "text/plain": [
       "{'foo': <function __main__.foo()>}"
      ]
     },
     "execution_count": 39,
     "metadata": {},
     "output_type": "execute_result"
    }
   ],
   "source": [
    "_functions"
   ]
  },
  {
   "cell_type": "code",
   "execution_count": 40,
   "id": "ba35de60",
   "metadata": {},
   "outputs": [
    {
     "data": {
      "text/plain": [
       "'bar'"
      ]
     },
     "execution_count": 40,
     "metadata": {},
     "output_type": "execute_result"
    }
   ],
   "source": [
    "foo()"
   ]
  },
  {
   "cell_type": "code",
   "execution_count": 41,
   "id": "eff97c9e",
   "metadata": {},
   "outputs": [],
   "source": [
    "@register\n",
    "def add(x,y) :\n",
    "    return x+y"
   ]
  },
  {
   "cell_type": "code",
   "execution_count": 42,
   "id": "5021aab4",
   "metadata": {},
   "outputs": [
    {
     "data": {
      "text/plain": [
       "<function __main__.register.<locals>.inner(*args, **kwargs)>"
      ]
     },
     "execution_count": 42,
     "metadata": {},
     "output_type": "execute_result"
    }
   ],
   "source": [
    "add"
   ]
  },
  {
   "cell_type": "code",
   "execution_count": 45,
   "id": "2f2e8b96",
   "metadata": {},
   "outputs": [
    {
     "name": "stdout",
     "output_type": "stream",
     "text": [
      "Calling add with arguments: (10, 20), {}\n",
      "Result: 30\n"
     ]
    },
    {
     "data": {
      "text/plain": [
       "30"
      ]
     },
     "execution_count": 45,
     "metadata": {},
     "output_type": "execute_result"
    }
   ],
   "source": [
    "add(10,20)"
   ]
  },
  {
   "cell_type": "code",
   "execution_count": 46,
   "id": "f9bc9c6d",
   "metadata": {},
   "outputs": [
    {
     "data": {
      "text/plain": [
       "{'foo': <function __main__.foo()>, 'add': <function __main__.add(x, y)>}"
      ]
     },
     "execution_count": 46,
     "metadata": {},
     "output_type": "execute_result"
    }
   ],
   "source": [
    "_functions"
   ]
  },
  {
   "cell_type": "code",
   "execution_count": null,
   "id": "4a5c57c7",
   "metadata": {},
   "outputs": [],
   "source": []
  },
  {
   "cell_type": "markdown",
   "id": "8a7cbb86",
   "metadata": {},
   "source": [
    "## 3-2 특정 기록 남기기 "
   ]
  },
  {
   "cell_type": "code",
   "execution_count": 47,
   "id": "63f412d4",
   "metadata": {},
   "outputs": [],
   "source": [
    "def logger(func):\n",
    "    def wrapper(*args, **kwargs):\n",
    "        print(f\"Calling {func.__name__} with arguments: {args}, {kwargs}\")\n",
    "        result = func(*args, **kwargs)\n",
    "        print(f\"Result: {result}\")\n",
    "        return result\n",
    "    return wrapper\n"
   ]
  },
  {
   "cell_type": "code",
   "execution_count": 48,
   "id": "46a8925a",
   "metadata": {},
   "outputs": [],
   "source": [
    "@logger\n",
    "def add(a, b):\n",
    "    return a + b"
   ]
  },
  {
   "cell_type": "code",
   "execution_count": 49,
   "id": "2246869a",
   "metadata": {},
   "outputs": [
    {
     "name": "stdout",
     "output_type": "stream",
     "text": [
      "Calling add with arguments: (5, 3), {}\n",
      "Result: 8\n",
      "Final Result: 8\n"
     ]
    }
   ],
   "source": [
    "result = add(5, 3)\n",
    "print(f\"Final Result: {result}\")"
   ]
  },
  {
   "cell_type": "code",
   "execution_count": null,
   "id": "6bcef06a",
   "metadata": {},
   "outputs": [],
   "source": []
  },
  {
   "cell_type": "markdown",
   "id": "561cbc8a",
   "metadata": {},
   "source": [
    "## 3-3 메모이제이션 처리 "
   ]
  },
  {
   "cell_type": "code",
   "execution_count": 50,
   "id": "92901ec1",
   "metadata": {},
   "outputs": [],
   "source": [
    "def memoize(func):\n",
    "    cache = {}\n",
    "    def wrapper(*args):\n",
    "        if args in cache:\n",
    "            return cache[args]\n",
    "        result = func(*args)\n",
    "        cache[args] = result\n",
    "        return result\n",
    "    return wrapper\n"
   ]
  },
  {
   "cell_type": "code",
   "execution_count": 51,
   "id": "bbbb39cf",
   "metadata": {},
   "outputs": [],
   "source": [
    "@memoize\n",
    "def fibonacci(n):\n",
    "    if n <= 1:\n",
    "        return n\n",
    "    return fibonacci(n-1) + fibonacci(n-2)\n"
   ]
  },
  {
   "cell_type": "code",
   "execution_count": 52,
   "id": "9e415cc8",
   "metadata": {},
   "outputs": [
    {
     "name": "stdout",
     "output_type": "stream",
     "text": [
      "55\n"
     ]
    }
   ],
   "source": [
    "print(fibonacci(10))  # 출력: 55"
   ]
  },
  {
   "cell_type": "code",
   "execution_count": null,
   "id": "deae107a",
   "metadata": {},
   "outputs": [],
   "source": []
  },
  {
   "cell_type": "code",
   "execution_count": null,
   "id": "d5365339",
   "metadata": {},
   "outputs": [],
   "source": []
  }
 ],
 "metadata": {
  "kernelspec": {
   "display_name": "Python 3 (ipykernel)",
   "language": "python",
   "name": "python3"
  },
  "language_info": {
   "codemirror_mode": {
    "name": "ipython",
    "version": 3
   },
   "file_extension": ".py",
   "mimetype": "text/x-python",
   "name": "python",
   "nbconvert_exporter": "python",
   "pygments_lexer": "ipython3",
   "version": "3.11.3"
  }
 },
 "nbformat": 4,
 "nbformat_minor": 5
}
