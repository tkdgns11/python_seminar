{
 "cells": [
  {
   "cell_type": "code",
   "execution_count": 1,
   "id": "65f7f309",
   "metadata": {},
   "outputs": [
    {
     "data": {
      "text/plain": [
       "'3.11.3'"
      ]
     },
     "execution_count": 1,
     "metadata": {},
     "output_type": "execute_result"
    }
   ],
   "source": [
    "import platform \n",
    "\n",
    "platform.python_version()"
   ]
  },
  {
   "cell_type": "code",
   "execution_count": null,
   "id": "533e461d",
   "metadata": {},
   "outputs": [],
   "source": []
  },
  {
   "cell_type": "code",
   "execution_count": null,
   "id": "ff05ef82",
   "metadata": {},
   "outputs": [],
   "source": []
  },
  {
   "cell_type": "markdown",
   "id": "8d3eb252",
   "metadata": {},
   "source": [
    "# 1. 람다표현식 \n",
    "\n",
    "- 예약어 lambda 다음에 매개변수 + 콜론 다음에 표현식을 사용\n",
    "- 표현식은 문장이 아니므로 return 등 문장을 작성할 수 없다."
   ]
  },
  {
   "cell_type": "code",
   "execution_count": null,
   "id": "c50776dc",
   "metadata": {},
   "outputs": [],
   "source": []
  },
  {
   "cell_type": "markdown",
   "id": "ba190902",
   "metadata": {},
   "source": [
    "## 1-1 람다 표현식\n",
    "-  람다표현식은 보통 바로 작성해서 실행한다.  \n",
    "- 일반함수처럼 별도의 정의가 필요하지 않는다. "
   ]
  },
  {
   "cell_type": "code",
   "execution_count": 2,
   "id": "5d5d2e54",
   "metadata": {},
   "outputs": [
    {
     "data": {
      "text/plain": [
       "300"
      ]
     },
     "execution_count": 2,
     "metadata": {},
     "output_type": "execute_result"
    }
   ],
   "source": [
    "(lambda x,y : x+y).__call__(100,200)"
   ]
  },
  {
   "cell_type": "code",
   "execution_count": null,
   "id": "1cd136ff",
   "metadata": {},
   "outputs": [],
   "source": []
  },
  {
   "cell_type": "code",
   "execution_count": null,
   "id": "0e72c9ac",
   "metadata": {},
   "outputs": [],
   "source": []
  },
  {
   "cell_type": "markdown",
   "id": "00d8c245",
   "metadata": {},
   "source": [
    "## 1-2 변수에 할당 \n",
    "\n",
    "- 람다표현식을 다시 사용하려면 변수에 할당한다.\n",
    "- 그 다음에 필요한 곳에서 실행한다. "
   ]
  },
  {
   "cell_type": "markdown",
   "id": "292caf32",
   "metadata": {},
   "source": [
    "### 익명함수는 재사용을 위해 변수 할당\n",
    "\n",
    "- 특별한 경우를 제외하고는 사용하지 않는다"
   ]
  },
  {
   "cell_type": "code",
   "execution_count": 7,
   "id": "9bc84c75",
   "metadata": {},
   "outputs": [],
   "source": [
    "func = lambda x,y : x+y "
   ]
  },
  {
   "cell_type": "code",
   "execution_count": 8,
   "id": "993f3de9",
   "metadata": {},
   "outputs": [
    {
     "data": {
      "text/plain": [
       "777"
      ]
     },
     "execution_count": 8,
     "metadata": {},
     "output_type": "execute_result"
    }
   ],
   "source": [
    "func(333,444)"
   ]
  },
  {
   "cell_type": "markdown",
   "id": "e40f6c0d",
   "metadata": {},
   "source": [
    "# 2. 함수는 1급 객체 "
   ]
  },
  {
   "cell_type": "code",
   "execution_count": null,
   "id": "a697d80b",
   "metadata": {},
   "outputs": [],
   "source": []
  },
  {
   "cell_type": "markdown",
   "id": "ed72fa89",
   "metadata": {},
   "source": [
    "## 2-1 객체는 해당 클래스가 존재 "
   ]
  },
  {
   "cell_type": "code",
   "execution_count": null,
   "id": "566bdcec",
   "metadata": {},
   "outputs": [],
   "source": []
  },
  {
   "cell_type": "code",
   "execution_count": 4,
   "id": "fd31f183",
   "metadata": {},
   "outputs": [],
   "source": [
    "import types"
   ]
  },
  {
   "cell_type": "code",
   "execution_count": 4,
   "id": "25d62814",
   "metadata": {},
   "outputs": [
    {
     "name": "stdout",
     "output_type": "stream",
     "text": [
      "AsyncGeneratorType, BuiltinFunctionType, BuiltinMethodType, CellType, ClassMethodDescriptorType, CodeType, CoroutineType, DynamicClassAttribute, EllipsisType, FrameType, FunctionType, GeneratorType, GenericAlias, GetSetDescriptorType, LambdaType, MappingProxyType, MemberDescriptorType, MethodDescriptorType, MethodType, MethodWrapperType, ModuleType, NoneType, NotImplementedType, SimpleNamespace, TracebackType, UnionType, WrapperDescriptorType, _GeneratorWrapper, __all__, __builtins__, __cached__, __doc__, __file__, __loader__, __name__, __package__, __spec__, _calculate_meta, _cell_factory, coroutine, new_class, prepare_class, resolve_bases, "
     ]
    }
   ],
   "source": [
    "for i in dir(types) :\n",
    "    print(i, end=\", \")"
   ]
  },
  {
   "cell_type": "markdown",
   "id": "41ecaa09",
   "metadata": {},
   "source": [
    "### 2-1-1  함수의 클래스 확인 "
   ]
  },
  {
   "cell_type": "code",
   "execution_count": 3,
   "id": "c808077a",
   "metadata": {},
   "outputs": [],
   "source": [
    "def add(x,y) :\n",
    "    return x +y "
   ]
  },
  {
   "cell_type": "code",
   "execution_count": null,
   "id": "2027dc73",
   "metadata": {},
   "outputs": [],
   "source": []
  },
  {
   "cell_type": "markdown",
   "id": "46f94d53",
   "metadata": {},
   "source": [
    "### 람다표현식에 대한 타입 확인 "
   ]
  },
  {
   "cell_type": "code",
   "execution_count": 5,
   "id": "6666c116",
   "metadata": {},
   "outputs": [
    {
     "data": {
      "text/plain": [
       "True"
      ]
     },
     "execution_count": 5,
     "metadata": {},
     "output_type": "execute_result"
    }
   ],
   "source": [
    "issubclass(types.LambdaType,types.FunctionType)"
   ]
  },
  {
   "cell_type": "code",
   "execution_count": 9,
   "id": "8fe22f87",
   "metadata": {},
   "outputs": [
    {
     "data": {
      "text/plain": [
       "True"
      ]
     },
     "execution_count": 9,
     "metadata": {},
     "output_type": "execute_result"
    }
   ],
   "source": [
    "isinstance(func, types.FunctionType)"
   ]
  },
  {
   "cell_type": "code",
   "execution_count": 10,
   "id": "9a19ee47",
   "metadata": {},
   "outputs": [
    {
     "data": {
      "text/plain": [
       "True"
      ]
     },
     "execution_count": 10,
     "metadata": {},
     "output_type": "execute_result"
    }
   ],
   "source": [
    "isinstance(func, types.LambdaType)"
   ]
  },
  {
   "cell_type": "markdown",
   "id": "02ce8e26",
   "metadata": {},
   "source": [
    "###  함수 타입 확인 "
   ]
  },
  {
   "cell_type": "code",
   "execution_count": 15,
   "id": "2a0b0990",
   "metadata": {},
   "outputs": [
    {
     "data": {
      "text/plain": [
       "True"
      ]
     },
     "execution_count": 15,
     "metadata": {},
     "output_type": "execute_result"
    }
   ],
   "source": [
    "isinstance(add, types.FunctionType)"
   ]
  },
  {
   "cell_type": "code",
   "execution_count": 16,
   "id": "5dd89053",
   "metadata": {},
   "outputs": [
    {
     "data": {
      "text/plain": [
       "True"
      ]
     },
     "execution_count": 16,
     "metadata": {},
     "output_type": "execute_result"
    }
   ],
   "source": [
    "isinstance(add, types.LambdaType)"
   ]
  },
  {
   "cell_type": "markdown",
   "id": "f1542bf3",
   "metadata": {},
   "source": [
    "### 2-1-2 함수는 일급 객체 "
   ]
  },
  {
   "cell_type": "markdown",
   "id": "6e3a5763",
   "metadata": {},
   "source": [
    "### 변수 할당: \n",
    "- 함수를 변수에 할당할 수 있습니다."
   ]
  },
  {
   "cell_type": "code",
   "execution_count": 17,
   "id": "dbb55c02",
   "metadata": {},
   "outputs": [
    {
     "name": "stdout",
     "output_type": "stream",
     "text": [
      "Hello, Alice!\n"
     ]
    }
   ],
   "source": [
    "def greet(name):\n",
    "    return f\"Hello, {name}!\"\n",
    "\n",
    "my_function = greet  # 함수 할당\n",
    "result = my_function(\"Alice\")\n",
    "print(result)  # \"Hello, Alice!\"\n"
   ]
  },
  {
   "cell_type": "markdown",
   "id": "63eb9f82",
   "metadata": {},
   "source": [
    "### 매개변수 전달: \n",
    "- 함수를 다른 함수의 인자로 전달할 수 있습니다."
   ]
  },
  {
   "cell_type": "code",
   "execution_count": 18,
   "id": "d6c95c8d",
   "metadata": {},
   "outputs": [
    {
     "name": "stdout",
     "output_type": "stream",
     "text": [
      "10\n"
     ]
    }
   ],
   "source": [
    "def apply_function(func, x):\n",
    "    return func(x)\n",
    "\n",
    "def double(n):\n",
    "    return n * 2\n",
    "\n",
    "result = apply_function(double, 5)\n",
    "print(result)  # 10\n"
   ]
  },
  {
   "cell_type": "markdown",
   "id": "87cefa6c",
   "metadata": {},
   "source": [
    "### 반환값으로 사용: \n",
    "- 함수가 다른 함수의 반환값으로 사용될 수 있습니다."
   ]
  },
  {
   "cell_type": "code",
   "execution_count": 19,
   "id": "9678c52e",
   "metadata": {},
   "outputs": [
    {
     "name": "stdout",
     "output_type": "stream",
     "text": [
      "12\n"
     ]
    }
   ],
   "source": [
    "def get_multiplier(factor):\n",
    "    def multiplier(n):\n",
    "        return n * factor\n",
    "    return multiplier\n",
    "\n",
    "double = get_multiplier(2)\n",
    "result = double(6)\n",
    "print(result)  # 12\n"
   ]
  },
  {
   "cell_type": "code",
   "execution_count": null,
   "id": "01f0f345",
   "metadata": {},
   "outputs": [],
   "source": []
  },
  {
   "cell_type": "markdown",
   "id": "2af7777a",
   "metadata": {},
   "source": [
    "### 컨테이너 객체에 저장: \n",
    "- 리스트, 튜플 등의 컨테이너 객체에 함수를 저장할 수 있습니다."
   ]
  },
  {
   "cell_type": "code",
   "execution_count": 20,
   "id": "5e7764bc",
   "metadata": {},
   "outputs": [
    {
     "name": "stdout",
     "output_type": "stream",
     "text": [
      "9\n",
      "6\n"
     ]
    }
   ],
   "source": [
    "def square(x):\n",
    "    return x ** 2\n",
    "\n",
    "functions = [square, double]\n",
    "for func in functions:\n",
    "    print(func(3))  # 9, 6\n"
   ]
  },
  {
   "cell_type": "code",
   "execution_count": null,
   "id": "8ffd21c2",
   "metadata": {},
   "outputs": [],
   "source": []
  },
  {
   "cell_type": "markdown",
   "id": "b3d65d34",
   "metadata": {},
   "source": [
    "## 2-2 람다 함수도 1급 객체   "
   ]
  },
  {
   "cell_type": "markdown",
   "id": "9963cfb7",
   "metadata": {},
   "source": [
    "### 2-2-1 함수를 정의할 때 기본값으로 람다표현식 전달 "
   ]
  },
  {
   "cell_type": "code",
   "execution_count": 21,
   "id": "2929473f",
   "metadata": {},
   "outputs": [],
   "source": [
    "def func(x, f =(lambda x : x*x )) :\n",
    "    return f(x)\n"
   ]
  },
  {
   "cell_type": "code",
   "execution_count": 22,
   "id": "88573a78",
   "metadata": {},
   "outputs": [
    {
     "data": {
      "text/plain": [
       "10000"
      ]
     },
     "execution_count": 22,
     "metadata": {},
     "output_type": "execute_result"
    }
   ],
   "source": [
    "func(100)"
   ]
  },
  {
   "cell_type": "markdown",
   "id": "70272ce1",
   "metadata": {},
   "source": [
    "### 2-2-2  함수를 정의하고 함수 호출할 때 람다표현식을 전달 "
   ]
  },
  {
   "cell_type": "code",
   "execution_count": 23,
   "id": "d83affda",
   "metadata": {},
   "outputs": [],
   "source": [
    "def func1(x, f) :\n",
    "    return f(x)"
   ]
  },
  {
   "cell_type": "code",
   "execution_count": 24,
   "id": "e184b7ac",
   "metadata": {},
   "outputs": [
    {
     "data": {
      "text/plain": [
       "40000"
      ]
     },
     "execution_count": 24,
     "metadata": {},
     "output_type": "execute_result"
    }
   ],
   "source": [
    "func1(200, lambda x : x*x)"
   ]
  },
  {
   "cell_type": "markdown",
   "id": "b30d69b1",
   "metadata": {},
   "source": [
    "### 2-2-3  반환값으로 람다표현식 정의"
   ]
  },
  {
   "cell_type": "code",
   "execution_count": 25,
   "id": "c7faf27c",
   "metadata": {},
   "outputs": [],
   "source": [
    "def func2(x,y) :\n",
    "    return lambda  : x+y "
   ]
  },
  {
   "cell_type": "markdown",
   "id": "41b93d37",
   "metadata": {},
   "source": [
    "### 2-2-4  함수 반환값을 변수에 할당"
   ]
  },
  {
   "cell_type": "code",
   "execution_count": 26,
   "id": "92827204",
   "metadata": {},
   "outputs": [],
   "source": [
    "ladd = func2(10,20)"
   ]
  },
  {
   "cell_type": "code",
   "execution_count": 27,
   "id": "57175b52",
   "metadata": {},
   "outputs": [
    {
     "data": {
      "text/plain": [
       "<function __main__.func2.<locals>.<lambda>()>"
      ]
     },
     "execution_count": 27,
     "metadata": {},
     "output_type": "execute_result"
    }
   ],
   "source": [
    "ladd"
   ]
  },
  {
   "cell_type": "markdown",
   "id": "b488d982",
   "metadata": {},
   "source": [
    "###  함수를 실행"
   ]
  },
  {
   "cell_type": "code",
   "execution_count": 11,
   "id": "f6c8bf02",
   "metadata": {},
   "outputs": [
    {
     "data": {
      "text/plain": [
       "30"
      ]
     },
     "execution_count": 11,
     "metadata": {},
     "output_type": "execute_result"
    }
   ],
   "source": [
    "ladd()"
   ]
  },
  {
   "cell_type": "code",
   "execution_count": 17,
   "id": "9d905717",
   "metadata": {},
   "outputs": [],
   "source": [
    "def add(x,y) :\n",
    "    add.result += x+y\n",
    "    return add.result"
   ]
  },
  {
   "cell_type": "code",
   "execution_count": 18,
   "id": "0659134a",
   "metadata": {},
   "outputs": [
    {
     "data": {
      "text/plain": [
       "300"
      ]
     },
     "execution_count": 18,
     "metadata": {},
     "output_type": "execute_result"
    }
   ],
   "source": [
    "(lambda x : lambda y : x+y )(100)(200)"
   ]
  },
  {
   "cell_type": "code",
   "execution_count": null,
   "id": "b5adb1e4",
   "metadata": {},
   "outputs": [],
   "source": []
  },
  {
   "cell_type": "code",
   "execution_count": 19,
   "id": "81442e7b",
   "metadata": {},
   "outputs": [],
   "source": [
    "add.result = 0"
   ]
  },
  {
   "cell_type": "code",
   "execution_count": 20,
   "id": "0675c1e5",
   "metadata": {},
   "outputs": [
    {
     "data": {
      "text/plain": [
       "300"
      ]
     },
     "execution_count": 20,
     "metadata": {},
     "output_type": "execute_result"
    }
   ],
   "source": [
    "add(100,200)"
   ]
  },
  {
   "cell_type": "code",
   "execution_count": 21,
   "id": "ce881eae",
   "metadata": {},
   "outputs": [
    {
     "data": {
      "text/plain": [
       "1200"
      ]
     },
     "execution_count": 21,
     "metadata": {},
     "output_type": "execute_result"
    }
   ],
   "source": [
    "add(400,500)"
   ]
  },
  {
   "cell_type": "code",
   "execution_count": 22,
   "id": "628fd926",
   "metadata": {},
   "outputs": [
    {
     "data": {
      "text/plain": [
       "{'result': 1200}"
      ]
     },
     "execution_count": 22,
     "metadata": {},
     "output_type": "execute_result"
    }
   ],
   "source": [
    "add.__dict__"
   ]
  },
  {
   "cell_type": "markdown",
   "id": "caa7ff0e",
   "metadata": {},
   "source": [
    "## 3. 함수 처리하는 모듈 알아보기\n",
    "\n",
    "- 부분함수, 메모이제이션 처리 할 수 있는 다양한 기능을 제공하는 모듈 사용 "
   ]
  },
  {
   "cell_type": "code",
   "execution_count": null,
   "id": "e51f4093",
   "metadata": {},
   "outputs": [],
   "source": []
  },
  {
   "cell_type": "code",
   "execution_count": 30,
   "id": "5a1b5dfe",
   "metadata": {},
   "outputs": [],
   "source": [
    "import functools"
   ]
  },
  {
   "cell_type": "code",
   "execution_count": 31,
   "id": "efa4a65d",
   "metadata": {},
   "outputs": [
    {
     "name": "stdout",
     "output_type": "stream",
     "text": [
      "GenericAlias, RLock, WRAPPER_ASSIGNMENTS, WRAPPER_UPDATES, _CacheInfo, _HashedSeq, _NOT_FOUND, __all__, __builtins__, __cached__, __doc__, __file__, __loader__, __name__, __package__, __spec__, _c3_merge, _c3_mro, _compose_mro, _convert, _find_impl, _ge_from_gt, _ge_from_le, _ge_from_lt, _gt_from_ge, _gt_from_le, _gt_from_lt, _initial_missing, _le_from_ge, _le_from_gt, _le_from_lt, _lru_cache_wrapper, _lt_from_ge, _lt_from_gt, _lt_from_le, _make_key, _unwrap_partial, cache, cached_property, cmp_to_key, get_cache_token, lru_cache, namedtuple, partial, partialmethod, recursive_repr, reduce, singledispatch, singledispatchmethod, total_ordering, update_wrapper, wraps, "
     ]
    }
   ],
   "source": [
    "for i in dir(functools) :\n",
    "    print(i, end=\", \")"
   ]
  },
  {
   "cell_type": "markdown",
   "id": "3b88a8c0",
   "metadata": {},
   "source": [
    "## 3-1 부분함수 처리"
   ]
  },
  {
   "cell_type": "markdown",
   "id": "ae705eed",
   "metadata": {},
   "source": [
    "### 3-1-1 사용자 정의 부분함수"
   ]
  },
  {
   "cell_type": "code",
   "execution_count": 37,
   "id": "ba629ca7",
   "metadata": {},
   "outputs": [
    {
     "name": "stdout",
     "output_type": "stream",
     "text": [
      "16\n",
      "27\n"
     ]
    }
   ],
   "source": [
    "# 부분 함수를 구현한 예시\n",
    "def partial_function(func, *fixed_args, **fixed_kwargs):\n",
    "    def wrapper(*args, **kwargs):\n",
    "        all_args = fixed_args + args\n",
    "        all_kwargs = {**fixed_kwargs, **kwargs}\n",
    "        return func(*all_args, **all_kwargs)\n",
    "    return wrapper\n",
    "\n",
    "# 부분 함수 생성 및 사용\n",
    "def power(x, exponent):\n",
    "    return x ** exponent\n",
    "\n",
    "# exponent 값을 2로 고정한 부분 함수 생성\n",
    "square = partial_function(power, exponent=2)\n",
    "print(square(4))  # 16\n",
    "\n",
    "# exponent 값을 3으로 고정한 부분 함수 생성\n",
    "cube = partial_function(power, exponent=3)\n",
    "print(cube(3))    # 27\n"
   ]
  },
  {
   "cell_type": "code",
   "execution_count": null,
   "id": "a5e92194",
   "metadata": {},
   "outputs": [],
   "source": []
  },
  {
   "cell_type": "markdown",
   "id": "0dab3bf2",
   "metadata": {},
   "source": [
    "### 3-1-2  functools.partial(): \n",
    "- 함수의 일부 매개변수를 미리 설정하여 새로운 함수를 생성합니다."
   ]
  },
  {
   "cell_type": "code",
   "execution_count": 28,
   "id": "c1e3fd7a",
   "metadata": {},
   "outputs": [
    {
     "name": "stdout",
     "output_type": "stream",
     "text": [
      "16\n",
      "27\n"
     ]
    }
   ],
   "source": [
    "import functools\n",
    "\n",
    "def power(x, exponent):\n",
    "    return x ** exponent\n",
    "\n",
    "square = functools.partial(power, exponent=2)\n",
    "cube = functools.partial(power, exponent=3)\n",
    "\n",
    "print(square(4))  # 16\n",
    "print(cube(3))    # 27\n"
   ]
  },
  {
   "cell_type": "markdown",
   "id": "5fbd74a6",
   "metadata": {},
   "source": [
    "## 3-2 중복계산 회피 "
   ]
  },
  {
   "cell_type": "markdown",
   "id": "11b92cb9",
   "metadata": {},
   "source": [
    "### functools.cached_property():\n",
    "-클래스의 속성을 계산한 뒤 캐시에 저장하여 중복 계산을 피할 수 있는 데코레이터를 제공합니다."
   ]
  },
  {
   "cell_type": "code",
   "execution_count": 32,
   "id": "5d694e41",
   "metadata": {},
   "outputs": [
    {
     "name": "stdout",
     "output_type": "stream",
     "text": [
      "Calculating area\n",
      "78.53975\n",
      "78.53975\n"
     ]
    }
   ],
   "source": [
    "class Circle:\n",
    "    def __init__(self, radius):\n",
    "        self._radius = radius\n",
    "\n",
    "    @functools.cached_property\n",
    "    def area(self):\n",
    "        print(\"Calculating area\")\n",
    "        return 3.14159 * self._radius ** 2\n",
    "\n",
    "circle = Circle(5)\n",
    "print(circle.area)   # Calculating area, 78.53975\n",
    "print(circle.area)   # 78.53975 (계산되지 않음)\n"
   ]
  },
  {
   "cell_type": "code",
   "execution_count": null,
   "id": "e151c01a",
   "metadata": {},
   "outputs": [],
   "source": []
  },
  {
   "cell_type": "markdown",
   "id": "0c2d4bb2",
   "metadata": {},
   "source": [
    "## 3-3 메모이제이션 처리 "
   ]
  },
  {
   "cell_type": "markdown",
   "id": "8b06369f",
   "metadata": {},
   "source": [
    "### 3-3-1 사용자 메모이제이션을 구현한 피보나치 함수"
   ]
  },
  {
   "cell_type": "code",
   "execution_count": 34,
   "id": "5f61fd5f",
   "metadata": {},
   "outputs": [
    {
     "name": "stdout",
     "output_type": "stream",
     "text": [
      "Fibonacci(0): 0\n",
      "Fibonacci(1): 1\n",
      "Fibonacci(2): 1\n",
      "Fibonacci(3): 2\n",
      "Fibonacci(4): 3\n",
      "Fibonacci(5): 5\n",
      "Fibonacci(6): 8\n",
      "Fibonacci(7): 13\n",
      "Fibonacci(8): 21\n",
      "Fibonacci(9): 34\n",
      "Fibonacci(10): 55\n"
     ]
    }
   ],
   "source": [
    "# 메모이제이션을 구현한 피보나치 함수\n",
    "def memoized_fibonacci(n, memo={}):\n",
    "    if n in memo:\n",
    "        return memo[n]\n",
    "    if n <= 1:\n",
    "        return n\n",
    "    result = memoized_fibonacci(n - 1, memo) + memoized_fibonacci(n - 2, memo)\n",
    "    memo[n] = result\n",
    "    return result\n",
    "\n",
    "# 피보나치 수열의 10번째 항까지 계산\n",
    "for i in range(11):\n",
    "    print(f\"Fibonacci({i}): {memoized_fibonacci(i)}\")\n"
   ]
  },
  {
   "cell_type": "code",
   "execution_count": null,
   "id": "1aa5f229",
   "metadata": {},
   "outputs": [],
   "source": []
  },
  {
   "cell_type": "code",
   "execution_count": 35,
   "id": "e0bd4b64",
   "metadata": {},
   "outputs": [
    {
     "name": "stdout",
     "output_type": "stream",
     "text": [
      "Fibonacci(0): 0\n",
      "Fibonacci(1): 1\n",
      "Fibonacci(2): 1\n",
      "Fibonacci(3): 2\n",
      "Fibonacci(4): 3\n",
      "Fibonacci(5): 5\n",
      "Fibonacci(6): 8\n",
      "Fibonacci(7): 13\n",
      "Fibonacci(8): 21\n",
      "Fibonacci(9): 34\n",
      "Fibonacci(10): 55\n"
     ]
    }
   ],
   "source": [
    "memo={}\n",
    "\n",
    "# 메모이제이션을 구현한 피보나치 함수\n",
    "def memoized_fibonacci_m(n):\n",
    "    if n in memo:\n",
    "        return memo[n]\n",
    "    if n <= 1:\n",
    "        return n\n",
    "    result = memoized_fibonacci(n - 1) + memoized_fibonacci(n - 2)\n",
    "    memo[n] = result\n",
    "    return result\n",
    "\n",
    "# 피보나치 수열의 10번째 항까지 계산\n",
    "for i in range(11):\n",
    "    print(f\"Fibonacci({i}): {memoized_fibonacci_m(i)}\")"
   ]
  },
  {
   "cell_type": "code",
   "execution_count": 36,
   "id": "b6ebd687",
   "metadata": {},
   "outputs": [
    {
     "data": {
      "text/plain": [
       "{2: 1, 3: 2, 4: 3, 5: 5, 6: 8, 7: 13, 8: 21, 9: 34, 10: 55}"
      ]
     },
     "execution_count": 36,
     "metadata": {},
     "output_type": "execute_result"
    }
   ],
   "source": [
    "memo"
   ]
  },
  {
   "cell_type": "markdown",
   "id": "43668a9f",
   "metadata": {},
   "source": [
    "### 3-3-2  functools.lru_cache(): \n",
    "- 함수 호출의 결과를 캐시에 저장하여 성능을 향상시킵니다. \n",
    "- 가장 최근에 사용된 호출 결과들을 캐시에 유지하며, 자주 사용되는 호출의 반복 계산을 줄일 수 있습니다."
   ]
  },
  {
   "cell_type": "code",
   "execution_count": 33,
   "id": "634732b2",
   "metadata": {},
   "outputs": [
    {
     "name": "stdout",
     "output_type": "stream",
     "text": [
      "55\n"
     ]
    }
   ],
   "source": [
    "@functools.lru_cache(maxsize=None)\n",
    "def fibonacci(n):\n",
    "    if n <= 1:\n",
    "        return n\n",
    "    return fibonacci(n-1) + fibonacci(n-2)\n",
    "\n",
    "print(fibonacci(10))  # 55\n"
   ]
  },
  {
   "cell_type": "code",
   "execution_count": null,
   "id": "e9ba058c",
   "metadata": {},
   "outputs": [],
   "source": []
  }
 ],
 "metadata": {
  "kernelspec": {
   "display_name": "Python 3 (ipykernel)",
   "language": "python",
   "name": "python3"
  },
  "language_info": {
   "codemirror_mode": {
    "name": "ipython",
    "version": 3
   },
   "file_extension": ".py",
   "mimetype": "text/x-python",
   "name": "python",
   "nbconvert_exporter": "python",
   "pygments_lexer": "ipython3",
   "version": "3.11.3"
  }
 },
 "nbformat": 4,
 "nbformat_minor": 5
}
