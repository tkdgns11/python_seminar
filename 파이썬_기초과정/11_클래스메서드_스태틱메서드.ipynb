{
 "cells": [
  {
   "cell_type": "code",
   "execution_count": 1,
   "id": "cff76fe0",
   "metadata": {},
   "outputs": [
    {
     "data": {
      "text/plain": [
       "'3.11.3'"
      ]
     },
     "execution_count": 1,
     "metadata": {},
     "output_type": "execute_result"
    }
   ],
   "source": [
    "import platform\n",
    "\n",
    "platform.python_version()"
   ]
  },
  {
   "cell_type": "code",
   "execution_count": null,
   "id": "48f1183c",
   "metadata": {},
   "outputs": [],
   "source": []
  },
  {
   "cell_type": "code",
   "execution_count": null,
   "id": "872eb549",
   "metadata": {},
   "outputs": [],
   "source": []
  },
  {
   "cell_type": "markdown",
   "id": "72dd7520",
   "metadata": {},
   "source": [
    "# 1. 프로퍼티 메서드 \n",
    "\n",
    "\n",
    "### 파이썬 프로퍼티(Property)\n",
    "- 클래스의 속성에 접근하고 조작하는 방법을 제어하는 메커니즘입니다.\n",
    "- 프로퍼티를 사용하면 인스턴스 변수를 직접 접근하는 대신에 메서드를 통해 속성에 접근하거나 수정할 수 있습니다.\n",
    "- 이를 통해 속성 값의 유효성 검사, 계산된 속성값 반환 등을 수행할 수 있습니다.\n",
    "\n",
    "### 파이썬 프로퍼티 정의\n",
    "- @property 데코레이터를 사용하여 정의하며, 해당 속성의 값을 가져오는(getter) 메서드, 값을 설정하는(setter) 메서드, 그리고 값을 삭제하는(deleter) 메서드를 정의할 수 있습니다."
   ]
  },
  {
   "cell_type": "code",
   "execution_count": null,
   "id": "3be39297",
   "metadata": {},
   "outputs": [],
   "source": []
  },
  {
   "cell_type": "markdown",
   "id": "fa01b817",
   "metadata": {},
   "source": [
    "## 1-1 인스턴스 메서드로 처리하기"
   ]
  },
  {
   "cell_type": "code",
   "execution_count": 1,
   "id": "743c4fca",
   "metadata": {},
   "outputs": [],
   "source": [
    "class Shape :\n",
    "    def __init__(self,height, weight) :\n",
    "        self.height = height\n",
    "        self.weight = weight\n",
    "        \n",
    "    def getArea(self) :\n",
    "        return self.height * self.weight"
   ]
  },
  {
   "cell_type": "code",
   "execution_count": 2,
   "id": "fab1e22d",
   "metadata": {},
   "outputs": [],
   "source": [
    "s = Shape(100,200)"
   ]
  },
  {
   "cell_type": "code",
   "execution_count": 3,
   "id": "79462c32",
   "metadata": {},
   "outputs": [
    {
     "data": {
      "text/plain": [
       "20000"
      ]
     },
     "execution_count": 3,
     "metadata": {},
     "output_type": "execute_result"
    }
   ],
   "source": [
    "s.getArea()"
   ]
  },
  {
   "cell_type": "markdown",
   "id": "e89b82b9",
   "metadata": {},
   "source": [
    "## 1-2 프로퍼티로 속성 접근을 처리하기\n",
    "\n",
    "### Getter와 Setter 메서드: \n",
    "- property를 사용하여 클래스 속성에 getter와 setter 메서드를 정의할 수 있습니다. \n",
    "- getter는 속성 값을 읽을 때 호출되며, setter는 속성 값을 설정할 때 호출됩니다. \n",
    "- 이를 통해 속성에 대한 유효성 검사나 계산을 수행할 수 있습니다.\n",
    "\n",
    "### 데코레이터 문법: \n",
    "- property는 데코레이터로 사용되므로, 속성의 getter와 setter 메서드를 더욱 간편하게 정의할 수 있습니다.\n",
    "\n",
    "### 연산 전용 : \n",
    "- 연산 전용은 기존 속성들을 연산해서 처리한다. \n",
    "- 그래서 getter만 정의해서 작성한다\n",
    "\n",
    "### 속성의 실제 저장: \n",
    "- property는 실제 값을 저장하는 것이 아니라 getter와 setter 메서드를 통해 속성에 접근합니다.\n",
    "- 따라서 클래스 내부에 실제 속성을 _를 접두사로 사용하여 저장하는 것이 관례적입니다."
   ]
  },
  {
   "cell_type": "markdown",
   "id": "da307526",
   "metadata": {},
   "source": [
    "## 1-2-1 클래스의 2개의 속성에 대한 프로퍼티 지정하기"
   ]
  },
  {
   "cell_type": "markdown",
   "id": "0868a46e",
   "metadata": {},
   "source": [
    "### 프로퍼티 내부 확인하기\n",
    "\n",
    "- getter : 조회할 함수를 데코레이터 처리 보통 property 로 데코레이터를 처리\n",
    "- setter : 갱신할 함수를 데코레이터 처리  \n",
    "- deleter : 삭제할 함수를 데코레이터 처리 \n",
    "\n",
    "#### 함수를 보관하는 속성\n",
    "- fget(속성조회), fset(속성갱신), fdel(속성삭제)"
   ]
  },
  {
   "cell_type": "code",
   "execution_count": 11,
   "id": "592dd44f",
   "metadata": {},
   "outputs": [
    {
     "name": "stdout",
     "output_type": "stream",
     "text": [
      "__class__, __delattr__, __delete__, __dir__, __doc__, __eq__, __format__, __ge__, __get__, __getattribute__, __getstate__, __gt__, __hash__, __init__, __init_subclass__, __isabstractmethod__, __le__, __lt__, __ne__, __new__, __reduce__, __reduce_ex__, __repr__, __set__, __set_name__, __setattr__, __sizeof__, __str__, __subclasshook__, deleter, fdel, fget, fset, getter, setter, "
     ]
    }
   ],
   "source": [
    "for i in dir(property) :\n",
    "    print(i, end=\", \")"
   ]
  },
  {
   "cell_type": "code",
   "execution_count": null,
   "id": "02f89570",
   "metadata": {},
   "outputs": [],
   "source": []
  },
  {
   "cell_type": "code",
   "execution_count": 13,
   "id": "795a06c9",
   "metadata": {},
   "outputs": [],
   "source": [
    "class ShapeP :\n",
    "    def __init__(self,height, weight) :\n",
    "        self._height = height          # 세터를 사용해서 속성 처리  내부의 속성은 _과 붙은 복호속성임 \n",
    "        self._weight = weight\n",
    "        \n",
    "    @property                         # height의 게터처리 \n",
    "    def height(self) :\n",
    "        print(\"height getter \")\n",
    "        return self._height\n",
    "    \n",
    "    @height.setter                     # height의 세터처리 \n",
    "    def height(self, value) :\n",
    "        print(\"height setter \")\n",
    "        self._height = value\n",
    "    \n",
    "    @property                         # weight의 게터 처리 \n",
    "    def weight(self) :\n",
    "        print(\"weight getter \")\n",
    "        return self._weight\n",
    "    \n",
    "    @weight.setter                     # weight의 세터처리 \n",
    "    def weight(self, value) :\n",
    "        print(\"weight setter \")\n",
    "        self._weight = value\n",
    "        \n",
    "    @property                          # 면적 계산을 이름으로 처리 \n",
    "    def area(self) :\n",
    "        return self._height * self._weight"
   ]
  },
  {
   "cell_type": "code",
   "execution_count": 14,
   "id": "2d78f3ab",
   "metadata": {},
   "outputs": [
    {
     "data": {
      "text/plain": [
       "mappingproxy({'__module__': '__main__',\n",
       "              '__init__': <function __main__.ShapeP.__init__(self, height, weight)>,\n",
       "              'height': <property at 0x10431f0b0>,\n",
       "              'weight': <property at 0x10431f1f0>,\n",
       "              'area': <property at 0x10431f2e0>,\n",
       "              '__dict__': <attribute '__dict__' of 'ShapeP' objects>,\n",
       "              '__weakref__': <attribute '__weakref__' of 'ShapeP' objects>,\n",
       "              '__doc__': None})"
      ]
     },
     "execution_count": 14,
     "metadata": {},
     "output_type": "execute_result"
    }
   ],
   "source": [
    "ShapeP.__dict__"
   ]
  },
  {
   "cell_type": "code",
   "execution_count": 15,
   "id": "1b99ffcf",
   "metadata": {},
   "outputs": [
    {
     "data": {
      "text/plain": [
       "['__class__',\n",
       " '__delattr__',\n",
       " '__delete__',\n",
       " '__dir__',\n",
       " '__doc__',\n",
       " '__eq__',\n",
       " '__format__',\n",
       " '__ge__',\n",
       " '__get__',\n",
       " '__getattribute__',\n",
       " '__getstate__',\n",
       " '__gt__',\n",
       " '__hash__',\n",
       " '__init__',\n",
       " '__init_subclass__',\n",
       " '__isabstractmethod__',\n",
       " '__le__',\n",
       " '__lt__',\n",
       " '__ne__',\n",
       " '__new__',\n",
       " '__reduce__',\n",
       " '__reduce_ex__',\n",
       " '__repr__',\n",
       " '__set__',\n",
       " '__set_name__',\n",
       " '__setattr__',\n",
       " '__sizeof__',\n",
       " '__str__',\n",
       " '__subclasshook__',\n",
       " 'deleter',\n",
       " 'fdel',\n",
       " 'fget',\n",
       " 'fset',\n",
       " 'getter',\n",
       " 'setter']"
      ]
     },
     "execution_count": 15,
     "metadata": {},
     "output_type": "execute_result"
    }
   ],
   "source": [
    "dir(ShapeP.height)"
   ]
  },
  {
   "cell_type": "markdown",
   "id": "ec62b8a7",
   "metadata": {},
   "source": [
    "## 1-2-2 객체 생성  및 객체 네임스페이스 확인"
   ]
  },
  {
   "cell_type": "markdown",
   "id": "0919238a",
   "metadata": {},
   "source": [
    "### 객체 생성"
   ]
  },
  {
   "cell_type": "code",
   "execution_count": 7,
   "id": "6e5860a2",
   "metadata": {},
   "outputs": [],
   "source": [
    "sp = ShapeP(10,20)"
   ]
  },
  {
   "cell_type": "code",
   "execution_count": 8,
   "id": "1b6dc185",
   "metadata": {},
   "outputs": [
    {
     "name": "stdout",
     "output_type": "stream",
     "text": [
      "height getter \n"
     ]
    },
    {
     "data": {
      "text/plain": [
       "10"
      ]
     },
     "execution_count": 8,
     "metadata": {},
     "output_type": "execute_result"
    }
   ],
   "source": [
    "sp.height"
   ]
  },
  {
   "cell_type": "markdown",
   "id": "f07a7914",
   "metadata": {},
   "source": [
    "### 객체 내부의 확인 : 보호속성으로 처리"
   ]
  },
  {
   "cell_type": "code",
   "execution_count": 7,
   "id": "2fa679c9",
   "metadata": {},
   "outputs": [
    {
     "data": {
      "text/plain": [
       "{'_height': 10, '_weight': 20}"
      ]
     },
     "execution_count": 7,
     "metadata": {},
     "output_type": "execute_result"
    }
   ],
   "source": [
    "sp.__dict__"
   ]
  },
  {
   "cell_type": "markdown",
   "id": "9daaa7dd",
   "metadata": {},
   "source": [
    "## 1-2-3 게터와 세터 사용하기 "
   ]
  },
  {
   "cell_type": "markdown",
   "id": "b8359b22",
   "metadata": {},
   "source": [
    "### 게터를 사용해서 처리"
   ]
  },
  {
   "cell_type": "code",
   "execution_count": 37,
   "id": "d320817c",
   "metadata": {},
   "outputs": [
    {
     "data": {
      "text/plain": [
       "(<function __main__.ShapeP.height(self)>,\n",
       " <function __main__.ShapeP.weight(self)>)"
      ]
     },
     "execution_count": 37,
     "metadata": {},
     "output_type": "execute_result"
    }
   ],
   "source": [
    "sp .__class__.height.fget, sp .__class__.weight.fget"
   ]
  },
  {
   "cell_type": "code",
   "execution_count": 8,
   "id": "d407d17f",
   "metadata": {},
   "outputs": [
    {
     "name": "stdout",
     "output_type": "stream",
     "text": [
      "height getter \n",
      "weight getter \n"
     ]
    },
    {
     "data": {
      "text/plain": [
       "(10, 20)"
      ]
     },
     "execution_count": 8,
     "metadata": {},
     "output_type": "execute_result"
    }
   ],
   "source": [
    "sp.height, sp.weight"
   ]
  },
  {
   "cell_type": "markdown",
   "id": "f60e0928",
   "metadata": {},
   "source": [
    "### 세터를 사용해서 값을 변경"
   ]
  },
  {
   "cell_type": "code",
   "execution_count": 38,
   "id": "0d9ac2ab",
   "metadata": {},
   "outputs": [
    {
     "data": {
      "text/plain": [
       "(<function __main__.ShapeP.height(self, value)>,\n",
       " <function __main__.ShapeP.weight(self, value)>)"
      ]
     },
     "execution_count": 38,
     "metadata": {},
     "output_type": "execute_result"
    }
   ],
   "source": [
    "sp .__class__.height.fset,sp .__class__.weight.fset"
   ]
  },
  {
   "cell_type": "code",
   "execution_count": 10,
   "id": "397c5985",
   "metadata": {},
   "outputs": [
    {
     "name": "stdout",
     "output_type": "stream",
     "text": [
      "height setter \n",
      "weight setter \n"
     ]
    }
   ],
   "source": [
    "sp.height = 30; sp.weight = 40"
   ]
  },
  {
   "cell_type": "markdown",
   "id": "a37f3fe9",
   "metadata": {},
   "source": [
    "##  1-2-4 연산 전용 사용하기 "
   ]
  },
  {
   "cell_type": "code",
   "execution_count": 39,
   "id": "be4ef70e",
   "metadata": {},
   "outputs": [
    {
     "data": {
      "text/plain": [
       "(<function __main__.ShapeP.area(self)>, None)"
      ]
     },
     "execution_count": 39,
     "metadata": {},
     "output_type": "execute_result"
    }
   ],
   "source": [
    "sp .__class__.area.fget, sp .__class__.area.fset"
   ]
  },
  {
   "cell_type": "code",
   "execution_count": 9,
   "id": "99ed8d5d",
   "metadata": {},
   "outputs": [
    {
     "data": {
      "text/plain": [
       "200"
      ]
     },
     "execution_count": 9,
     "metadata": {},
     "output_type": "execute_result"
    }
   ],
   "source": [
    "sp.area"
   ]
  },
  {
   "cell_type": "markdown",
   "id": "93f0295a",
   "metadata": {},
   "source": [
    "# 2. 클래스/정적 메서드\n",
    "\n",
    "\n",
    "### 클래스 메서드 (Class Methods):\n",
    "- 클래스 메서드는 클래스 레벨에서 호출되며, 클래스 자체와 관련된 작업을 수행합니다. \n",
    "- 클래스 메서드는 @classmethod 데코레이터를 사용하여 정의되며, 첫 번째 매개변수로 클래스 자체를 나타내는 cls를 받습니다. \n",
    "- 클래스 메서드는 클래스의 상태를 변경하는 등의 동작을 정의할 때 주로 사용됩니다.\n",
    "\n",
    "### 정적 메서드 (Static Methods):\n",
    "- 정적 메서드는 클래스나 인스턴스와는 독립적으로 동작하는 메서드입니다. \n",
    "- 클래스 메서드와 달리, 정적 메서드는 클래스나 인스턴스를 나타내는 매개변수를 받지 않습니다. \n",
    "- 정적 메서드는 @staticmethod 데코레이터를 사용하여 정의됩니다. 유틸리티 함수와 같이 객체와 무관한 기능을 구현할 때 사용됩니다."
   ]
  },
  {
   "cell_type": "markdown",
   "id": "9761e59e",
   "metadata": {},
   "source": [
    "## 2-1 클래스 메서드\n",
    "\n",
    "### 인스턴스 메서드와 클래스 메서드 비교: \n",
    "\n",
    "- 일반적으로 인스턴스 메서드를 사용하여 인스턴스의 상태를 조작하고, 클래스 메서드를 사용하여 클래스 레벨의 동작을 수행합니다.\n",
    "- 클래스 메서드는 @classmethod 데코레이터를 사용하여 정의되며, 첫 번째 매개변수로 cls를 받습니다"
   ]
  },
  {
   "cell_type": "markdown",
   "id": "d59c56e3",
   "metadata": {},
   "source": [
    "## 2-1-1 클래스 메서드 정의 및 호출 "
   ]
  },
  {
   "cell_type": "code",
   "execution_count": 20,
   "id": "f02aa314",
   "metadata": {},
   "outputs": [
    {
     "data": {
      "text/plain": [
       "type"
      ]
     },
     "execution_count": 20,
     "metadata": {},
     "output_type": "execute_result"
    }
   ],
   "source": [
    "type(classmethod)"
   ]
  },
  {
   "cell_type": "code",
   "execution_count": null,
   "id": "c985ac9c",
   "metadata": {},
   "outputs": [],
   "source": []
  },
  {
   "cell_type": "code",
   "execution_count": 23,
   "id": "e05dff28",
   "metadata": {},
   "outputs": [],
   "source": [
    "class PersonC:\n",
    "    default= \"사람 C \"\n",
    "\n",
    "    def __init__(self):\n",
    "        self.data = self.default\n",
    "\n",
    "    @classmethod\n",
    "    def class_person(*args):\n",
    "        return args[0].default\n"
   ]
  },
  {
   "cell_type": "code",
   "execution_count": 24,
   "id": "59fac340",
   "metadata": {},
   "outputs": [
    {
     "data": {
      "text/plain": [
       "'사람 C '"
      ]
     },
     "execution_count": 24,
     "metadata": {},
     "output_type": "execute_result"
    }
   ],
   "source": [
    "PersonC.class_person()"
   ]
  },
  {
   "cell_type": "code",
   "execution_count": 25,
   "id": "ac67d3ea",
   "metadata": {},
   "outputs": [
    {
     "data": {
      "text/plain": [
       "__main__.PersonC"
      ]
     },
     "execution_count": 25,
     "metadata": {},
     "output_type": "execute_result"
    }
   ],
   "source": [
    "PersonC.class_person.__self__"
   ]
  },
  {
   "cell_type": "code",
   "execution_count": 26,
   "id": "002c53a4",
   "metadata": {},
   "outputs": [
    {
     "data": {
      "text/plain": [
       "<function __main__.PersonC.class_person(*args)>"
      ]
     },
     "execution_count": 26,
     "metadata": {},
     "output_type": "execute_result"
    }
   ],
   "source": [
    "PersonC.class_person.__func__"
   ]
  },
  {
   "cell_type": "markdown",
   "id": "22ff6054",
   "metadata": {},
   "source": [
    "## 2-1-2  클래스 메서드의 내부 구조 "
   ]
  },
  {
   "cell_type": "code",
   "execution_count": 15,
   "id": "5f4330c1",
   "metadata": {},
   "outputs": [
    {
     "data": {
      "text/plain": [
       "__main__.PersonC"
      ]
     },
     "execution_count": 15,
     "metadata": {},
     "output_type": "execute_result"
    }
   ],
   "source": [
    "PersonC.class_person.__self__"
   ]
  },
  {
   "cell_type": "code",
   "execution_count": 16,
   "id": "1731026a",
   "metadata": {},
   "outputs": [
    {
     "data": {
      "text/plain": [
       "<function __main__.PersonC.class_person(cls)>"
      ]
     },
     "execution_count": 16,
     "metadata": {},
     "output_type": "execute_result"
    }
   ],
   "source": [
    "PersonC.class_person.__func__"
   ]
  },
  {
   "cell_type": "code",
   "execution_count": 18,
   "id": "bd4fff56",
   "metadata": {},
   "outputs": [
    {
     "data": {
      "text/plain": [
       "'사람 C '"
      ]
     },
     "execution_count": 18,
     "metadata": {},
     "output_type": "execute_result"
    }
   ],
   "source": [
    "PersonC.class_person.__func__(PersonC)"
   ]
  },
  {
   "cell_type": "markdown",
   "id": "eb2ccf13",
   "metadata": {},
   "source": [
    "## 2-1-3 객체를 생성한 후에 클래스 메서드 처리 가능 "
   ]
  },
  {
   "cell_type": "code",
   "execution_count": 13,
   "id": "e6d7b2d9",
   "metadata": {},
   "outputs": [],
   "source": [
    "pc = PersonC()"
   ]
  },
  {
   "cell_type": "code",
   "execution_count": 14,
   "id": "285fb85b",
   "metadata": {},
   "outputs": [
    {
     "data": {
      "text/plain": [
       "'사람 C '"
      ]
     },
     "execution_count": 14,
     "metadata": {},
     "output_type": "execute_result"
    }
   ],
   "source": [
    "pc.class_person()"
   ]
  },
  {
   "cell_type": "markdown",
   "id": "050d8edd",
   "metadata": {},
   "source": [
    "## 2-2 정적메서드 "
   ]
  },
  {
   "cell_type": "markdown",
   "id": "e04028a1",
   "metadata": {},
   "source": [
    "## 2-2-1 클래스 내부에 스태틱 메서드 정의"
   ]
  },
  {
   "cell_type": "code",
   "execution_count": 27,
   "id": "81c25086",
   "metadata": {},
   "outputs": [],
   "source": [
    "class PersonS:\n",
    "    default= \"사람 S\"\n",
    "\n",
    "    def __init__(self):\n",
    "        self.data = self.default\n",
    "\n",
    "    @staticmethod\n",
    "    def static_person():\n",
    "        return PersonS.default"
   ]
  },
  {
   "cell_type": "code",
   "execution_count": 21,
   "id": "0574456c",
   "metadata": {},
   "outputs": [
    {
     "data": {
      "text/plain": [
       "'사람 S'"
      ]
     },
     "execution_count": 21,
     "metadata": {},
     "output_type": "execute_result"
    }
   ],
   "source": [
    "PersonS.static_person()"
   ]
  },
  {
   "cell_type": "code",
   "execution_count": 28,
   "id": "546026d6",
   "metadata": {},
   "outputs": [
    {
     "data": {
      "text/plain": [
       "<function __main__.PersonS.static_person()>"
      ]
     },
     "execution_count": 28,
     "metadata": {},
     "output_type": "execute_result"
    }
   ],
   "source": [
    "PersonS.static_person"
   ]
  },
  {
   "cell_type": "markdown",
   "id": "291265a8",
   "metadata": {},
   "source": [
    "## 2-2-2  정적 메서드의 내부 구조 "
   ]
  },
  {
   "cell_type": "markdown",
   "id": "a3d9a940",
   "metadata": {},
   "source": [
    "### 내부에 아무런 정보를 보관하지 않음 "
   ]
  },
  {
   "cell_type": "code",
   "execution_count": 40,
   "id": "648056de",
   "metadata": {},
   "outputs": [
    {
     "name": "stdout",
     "output_type": "stream",
     "text": [
      "__call__, __class__, __delattr__, __dict__, __dir__, __doc__, __eq__, __format__, __func__, __ge__, __get__, __getattribute__, __getstate__, __gt__, __hash__, __init__, __init_subclass__, __isabstractmethod__, __le__, __lt__, __ne__, __new__, __reduce__, __reduce_ex__, __repr__, __setattr__, __sizeof__, __str__, __subclasshook__, __wrapped__, "
     ]
    }
   ],
   "source": [
    "for i in dir(staticmethod) :\n",
    "    print(i, end=\", \")"
   ]
  },
  {
   "cell_type": "markdown",
   "id": "b5847cf2",
   "metadata": {},
   "source": [
    "### 참조를 하면 실제 저장된 함수를 바로 반환처리 "
   ]
  },
  {
   "cell_type": "code",
   "execution_count": 23,
   "id": "f394ad32",
   "metadata": {},
   "outputs": [
    {
     "data": {
      "text/plain": [
       "<function __main__.PersonS.static_person()>"
      ]
     },
     "execution_count": 23,
     "metadata": {},
     "output_type": "execute_result"
    }
   ],
   "source": [
    "PersonS.static_person"
   ]
  },
  {
   "cell_type": "code",
   "execution_count": null,
   "id": "99281ba2",
   "metadata": {},
   "outputs": [],
   "source": []
  },
  {
   "cell_type": "markdown",
   "id": "838b914a",
   "metadata": {},
   "source": [
    "## 2-2-3 객체를 생성한 후에 정적메서드 처리 가능 "
   ]
  },
  {
   "cell_type": "code",
   "execution_count": 17,
   "id": "7b62fa19",
   "metadata": {},
   "outputs": [],
   "source": [
    "ps = PersonS()"
   ]
  },
  {
   "cell_type": "code",
   "execution_count": 18,
   "id": "47ada82e",
   "metadata": {},
   "outputs": [
    {
     "data": {
      "text/plain": [
       "'사람 S'"
      ]
     },
     "execution_count": 18,
     "metadata": {},
     "output_type": "execute_result"
    }
   ],
   "source": [
    "ps.static_person()"
   ]
  },
  {
   "cell_type": "markdown",
   "id": "8fff4297",
   "metadata": {},
   "source": [
    "## 2-2-4 스태틱 메서드는 보통 함수를 클래스 내부에 정의해서 사용"
   ]
  },
  {
   "cell_type": "code",
   "execution_count": 19,
   "id": "1185d56d",
   "metadata": {},
   "outputs": [
    {
     "name": "stdout",
     "output_type": "stream",
     "text": [
      "2\n"
     ]
    }
   ],
   "source": [
    "class Test :\n",
    "    num = 0\n",
    "\n",
    "    @staticmethod\n",
    "    def add (x, y) :\n",
    "        return x + y\n",
    "\n",
    "\n",
    "print(Test.add(1,1))"
   ]
  },
  {
   "cell_type": "code",
   "execution_count": null,
   "id": "94a2fdeb",
   "metadata": {},
   "outputs": [],
   "source": []
  }
 ],
 "metadata": {
  "kernelspec": {
   "display_name": "Python 3 (ipykernel)",
   "language": "python",
   "name": "python3"
  },
  "language_info": {
   "codemirror_mode": {
    "name": "ipython",
    "version": 3
   },
   "file_extension": ".py",
   "mimetype": "text/x-python",
   "name": "python",
   "nbconvert_exporter": "python",
   "pygments_lexer": "ipython3",
   "version": "3.11.3"
  }
 },
 "nbformat": 4,
 "nbformat_minor": 5
}
